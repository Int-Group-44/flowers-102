{
  "cells": [
    {
      "cell_type": "markdown",
      "metadata": {
        "id": "view-in-github",
        "colab_type": "text"
      },
      "source": [
        "<a href=\"https://colab.research.google.com/github/Int-Group-44/flowers-102/blob/main/OxfordFlowers102CNN.ipynb\" target=\"_parent\"><img src=\"https://colab.research.google.com/assets/colab-badge.svg\" alt=\"Open In Colab\"/></a>"
      ]
    },
    {
      "cell_type": "code",
      "execution_count": 26,
      "metadata": {
        "id": "egaLH944BBD5"
      },
      "outputs": [],
      "source": [
        "import numpy as np\n",
        "import pandas as pd\n",
        "import tensorflow as tf\n",
        "from tensorflow import keras\n",
        "from keras import layers\n",
        "import tensorflow_datasets as tfds\n",
        "import matplotlib.pyplot as plt\n",
        "#device_name = tf.test.gpu_device_name()\n",
        "#if device_name != '/device:GPU:0':\n",
        "#  raise SystemError('GPU device not found')\n",
        "#print('Found GPU at: {}'.format(device_name))\n",
        "\n",
        "dataset, dataset_info = tfds.load('oxford_flowers102', with_info=True, as_supervised=True)\n",
        "dataset_info\n",
        "test_set, training_set, validation_set = dataset['test'], dataset['train'], dataset['validation']"
      ]
    },
    {
      "cell_type": "code",
      "execution_count": 27,
      "metadata": {
        "colab": {
          "base_uri": "https://localhost:8080/"
        },
        "id": "H8JAGNFt3PGE",
        "outputId": "dccca1e2-b145-41f0-875a-43861b334e7e"
      },
      "outputs": [
        {
          "output_type": "stream",
          "name": "stdout",
          "text": [
            "Physical devices cannot be modified after being initialized\n",
            "[PhysicalDevice(name='/physical_device:GPU:0', device_type='GPU')]\n"
          ]
        }
      ],
      "source": [
        "import tensorflow as tf\n",
        "tf.config.experimental.list_physical_devices('GPU')\n",
        "gpus = tf.config.experimental.list_physical_devices('GPU')\n",
        "if gpus:\n",
        "  try:\n",
        "    for gpu in gpus:\n",
        "      tf.config.experimental.set_memory_growth(gpu, True)\n",
        "  except RuntimeError as e:\n",
        "    print(e)\n",
        "\n",
        "print(gpus)"
      ]
    },
    {
      "cell_type": "markdown",
      "metadata": {
        "id": "hgSxJm7OYeKN"
      },
      "source": [
        "Importing TensorFlow "
      ]
    },
    {
      "cell_type": "code",
      "execution_count": 28,
      "metadata": {
        "id": "ql9q6LSWMZRk"
      },
      "outputs": [],
      "source": [
        "num_classes = dataset_info.features['label'].num_classes\n",
        "num_training_examples = 1020\n",
        "num_validation_examples = 1020"
      ]
    },
    {
      "cell_type": "code",
      "execution_count": 29,
      "metadata": {
        "id": "xwksk4asQhtr"
      },
      "outputs": [],
      "source": [
        "IMAGE_RES = 224\n",
        "\n",
        "def format_image(image, label):\n",
        "    image = tf.image.resize(image, (IMAGE_RES, IMAGE_RES))/255.0\n",
        "    #label = tf.one_hot(label, depth=num_classes)\n",
        "    return image, label\n",
        "BATCH_SIZE = 8\n",
        "train_batches = training_set.shuffle(num_training_examples//4).map(format_image).batch(BATCH_SIZE).prefetch(1)\n",
        "validation_batches = validation_set.shuffle(num_validation_examples//4).map(format_image).batch(BATCH_SIZE).prefetch(1)\n",
        "test_batches = test_set.map(format_image).batch(BATCH_SIZE).prefetch(1)\n"
      ]
    },
    {
      "cell_type": "code",
      "execution_count": 30,
      "metadata": {
        "id": "9WgfAXPgjFd5"
      },
      "outputs": [],
      "source": [
        "def make_model(input_shape, num_classes):\n",
        "  model = tf.keras.Sequential()\n",
        "  model.add(layers.RandomFlip(\"horizontal_and_vertical\", input_shape=input_shape))\n",
        "  model.add(layers.RandomRotation(180))\n",
        "  model.add(layers.RandomZoom(0.3))\n",
        "  model.add(layers.RandomContrast(factor=(0.0, 1)))\n",
        "  model.add(layers.Conv2D(32, 3, padding='same', activation='relu'))\n",
        "  model.add(layers.BatchNormalization())\n",
        "  model.add(layers.Conv2D(32, 3, padding='same', activation='relu'))\n",
        "  model.add(layers.BatchNormalization())\n",
        "  model.add(layers.MaxPooling2D())\n",
        "  model.add(layers.Conv2D(64, 3, padding='same', activation='relu'))\n",
        "  model.add(layers.BatchNormalization())\n",
        "  model.add(layers.Conv2D(64, 3, padding='same', activation='relu'))\n",
        "  model.add(layers.BatchNormalization())\n",
        "  model.add(layers.MaxPooling2D())\n",
        "  model.add(layers.Conv2D(128, 3, padding='same', activation='relu'))\n",
        "  model.add(layers.BatchNormalization())\n",
        "  model.add(layers.Conv2D(128, 3, padding='same', activation='relu'))\n",
        "  model.add(layers.BatchNormalization())\n",
        "  model.add(layers.MaxPooling2D())\n",
        "  model.add(layers.Conv2D(256, 3, padding='same', activation='relu'))\n",
        "  model.add(layers.BatchNormalization())\n",
        "  model.add(layers.Conv2D(256, 3, padding='same', activation='relu'))\n",
        "  model.add(layers.BatchNormalization())\n",
        "  model.add(layers.MaxPooling2D())\n",
        "  model.add(layers.Conv2D(512, 3, padding='same', activation='relu'))\n",
        "  model.add(layers.BatchNormalization())\n",
        "  model.add(layers.Conv2D(512, 3, padding='same', activation='relu'))\n",
        "  model.add(layers.BatchNormalization())\n",
        "  model.add(layers.MaxPooling2D())\n",
        "  model.add(layers.Flatten())\n",
        "  model.add(layers.Dense(1024, activation='relu'))\n",
        "  model.add(layers.Dropout(0.2))\n",
        "  model.add(layers.Dense(512, activation='relu'))\n",
        "  model.add(layers.Dropout(0.2))\n",
        "  model.add(layers.Dense(256, activation='relu'))\n",
        "  model.add(layers.Dropout(0.2))\n",
        "  model.add(layers.Dense(num_classes))\n",
        "  return model\n"
      ]
    },
    {
      "cell_type": "code",
      "execution_count": 31,
      "metadata": {
        "id": "tF9v2wo9F8LW"
      },
      "outputs": [],
      "source": [
        "tf.keras.backend.clear_session()\n",
        "model = make_model(input_shape=(IMAGE_RES, IMAGE_RES) + (3,), num_classes=102)"
      ]
    },
    {
      "cell_type": "code",
      "execution_count": 32,
      "metadata": {
        "colab": {
          "base_uri": "https://localhost:8080/"
        },
        "id": "pumHmqXelH38",
        "outputId": "eaf1ff00-7158-453c-9fdb-df4cf5df80d3"
      },
      "outputs": [
        {
          "output_type": "stream",
          "name": "stdout",
          "text": [
            "Epoch 1/150\n",
            "128/128 [==============================] - 27s 121ms/step - loss: 5.1721 - accuracy: 0.0098 - val_loss: 4.7140 - val_accuracy: 0.0098\n",
            "Epoch 2/150\n",
            "128/128 [==============================] - 11s 86ms/step - loss: 4.8690 - accuracy: 0.0176 - val_loss: 4.7182 - val_accuracy: 0.0098\n",
            "Epoch 3/150\n",
            "128/128 [==============================] - 11s 86ms/step - loss: 4.7765 - accuracy: 0.0167 - val_loss: 4.6540 - val_accuracy: 0.0167\n",
            "Epoch 4/150\n",
            "128/128 [==============================] - 14s 106ms/step - loss: 4.7115 - accuracy: 0.0137 - val_loss: 4.5860 - val_accuracy: 0.0186\n",
            "Epoch 5/150\n",
            "128/128 [==============================] - 11s 86ms/step - loss: 4.6415 - accuracy: 0.0157 - val_loss: 4.5264 - val_accuracy: 0.0333\n",
            "Epoch 6/150\n",
            "128/128 [==============================] - 12s 90ms/step - loss: 4.5894 - accuracy: 0.0245 - val_loss: 4.4934 - val_accuracy: 0.0382\n",
            "Epoch 7/150\n",
            "128/128 [==============================] - 12s 85ms/step - loss: 4.5935 - accuracy: 0.0245 - val_loss: 4.4399 - val_accuracy: 0.0431\n",
            "Epoch 8/150\n",
            "128/128 [==============================] - 11s 86ms/step - loss: 4.5532 - accuracy: 0.0294 - val_loss: 4.3694 - val_accuracy: 0.0569\n",
            "Epoch 9/150\n",
            "128/128 [==============================] - 11s 85ms/step - loss: 4.5027 - accuracy: 0.0343 - val_loss: 4.3327 - val_accuracy: 0.0588\n",
            "Epoch 10/150\n",
            "128/128 [==============================] - 12s 87ms/step - loss: 4.4625 - accuracy: 0.0431 - val_loss: 4.2687 - val_accuracy: 0.0686\n",
            "Epoch 11/150\n",
            "128/128 [==============================] - 14s 106ms/step - loss: 4.3843 - accuracy: 0.0627 - val_loss: 4.2269 - val_accuracy: 0.0775\n",
            "Epoch 12/150\n",
            "128/128 [==============================] - 11s 87ms/step - loss: 4.3622 - accuracy: 0.0667 - val_loss: 4.1689 - val_accuracy: 0.0843\n",
            "Epoch 13/150\n",
            "128/128 [==============================] - 12s 87ms/step - loss: 4.3262 - accuracy: 0.0529 - val_loss: 4.1283 - val_accuracy: 0.0873\n",
            "Epoch 14/150\n",
            "128/128 [==============================] - 14s 105ms/step - loss: 4.2301 - accuracy: 0.0676 - val_loss: 4.0739 - val_accuracy: 0.0873\n",
            "Epoch 15/150\n",
            "128/128 [==============================] - 11s 86ms/step - loss: 4.2448 - accuracy: 0.0716 - val_loss: 4.0218 - val_accuracy: 0.0990\n",
            "Epoch 16/150\n",
            "128/128 [==============================] - 11s 86ms/step - loss: 4.1928 - accuracy: 0.0676 - val_loss: 3.9731 - val_accuracy: 0.1118\n",
            "Epoch 17/150\n",
            "128/128 [==============================] - 12s 87ms/step - loss: 4.1630 - accuracy: 0.0716 - val_loss: 3.9674 - val_accuracy: 0.1147\n",
            "Epoch 18/150\n",
            "128/128 [==============================] - 11s 86ms/step - loss: 4.0603 - accuracy: 0.1049 - val_loss: 3.9176 - val_accuracy: 0.1029\n",
            "Epoch 19/150\n",
            "128/128 [==============================] - 12s 87ms/step - loss: 4.0600 - accuracy: 0.0990 - val_loss: 3.8894 - val_accuracy: 0.1186\n",
            "Epoch 20/150\n",
            "128/128 [==============================] - 12s 92ms/step - loss: 4.0078 - accuracy: 0.1029 - val_loss: 3.8549 - val_accuracy: 0.1245\n",
            "Epoch 21/150\n",
            "128/128 [==============================] - 12s 87ms/step - loss: 3.9817 - accuracy: 0.1108 - val_loss: 3.8110 - val_accuracy: 0.1284\n",
            "Epoch 22/150\n",
            "128/128 [==============================] - 11s 86ms/step - loss: 3.9749 - accuracy: 0.0971 - val_loss: 3.8026 - val_accuracy: 0.1333\n",
            "Epoch 23/150\n",
            "128/128 [==============================] - 11s 86ms/step - loss: 3.8718 - accuracy: 0.1206 - val_loss: 3.7817 - val_accuracy: 0.1373\n",
            "Epoch 24/150\n",
            "128/128 [==============================] - 11s 86ms/step - loss: 3.8276 - accuracy: 0.1333 - val_loss: 3.6921 - val_accuracy: 0.1510\n",
            "Epoch 25/150\n",
            "128/128 [==============================] - 12s 89ms/step - loss: 3.8132 - accuracy: 0.1294 - val_loss: 3.6702 - val_accuracy: 0.1441\n",
            "Epoch 26/150\n",
            "128/128 [==============================] - 12s 86ms/step - loss: 3.7850 - accuracy: 0.1265 - val_loss: 3.6532 - val_accuracy: 0.1451\n",
            "Epoch 27/150\n",
            "128/128 [==============================] - 12s 86ms/step - loss: 3.6857 - accuracy: 0.1471 - val_loss: 3.5905 - val_accuracy: 0.1500\n",
            "Epoch 28/150\n",
            "128/128 [==============================] - 12s 87ms/step - loss: 3.7001 - accuracy: 0.1529 - val_loss: 3.5879 - val_accuracy: 0.1598\n",
            "Epoch 29/150\n",
            "128/128 [==============================] - 12s 87ms/step - loss: 3.6858 - accuracy: 0.1402 - val_loss: 3.5899 - val_accuracy: 0.1588\n",
            "Epoch 30/150\n",
            "128/128 [==============================] - 12s 88ms/step - loss: 3.6072 - accuracy: 0.1755 - val_loss: 3.5403 - val_accuracy: 0.1755\n",
            "Epoch 31/150\n",
            "128/128 [==============================] - 12s 87ms/step - loss: 3.6296 - accuracy: 0.1569 - val_loss: 3.5373 - val_accuracy: 0.1755\n",
            "Epoch 32/150\n",
            "128/128 [==============================] - 14s 106ms/step - loss: 3.6074 - accuracy: 0.1510 - val_loss: 3.4893 - val_accuracy: 0.1814\n",
            "Epoch 33/150\n",
            "128/128 [==============================] - 12s 93ms/step - loss: 3.5374 - accuracy: 0.1667 - val_loss: 3.4575 - val_accuracy: 0.2000\n",
            "Epoch 34/150\n",
            "128/128 [==============================] - 12s 88ms/step - loss: 3.4740 - accuracy: 0.1892 - val_loss: 3.4213 - val_accuracy: 0.2000\n",
            "Epoch 35/150\n",
            "128/128 [==============================] - 12s 88ms/step - loss: 3.4248 - accuracy: 0.1873 - val_loss: 3.4635 - val_accuracy: 0.1912\n",
            "Epoch 36/150\n",
            "128/128 [==============================] - 12s 89ms/step - loss: 3.4790 - accuracy: 0.1882 - val_loss: 3.4312 - val_accuracy: 0.2059\n",
            "Epoch 37/150\n",
            "128/128 [==============================] - 12s 88ms/step - loss: 3.3612 - accuracy: 0.2245 - val_loss: 3.4339 - val_accuracy: 0.1971\n",
            "Epoch 38/150\n",
            "128/128 [==============================] - 12s 88ms/step - loss: 3.4493 - accuracy: 0.2020 - val_loss: 3.3862 - val_accuracy: 0.2059\n",
            "Epoch 39/150\n",
            "128/128 [==============================] - 14s 107ms/step - loss: 3.3471 - accuracy: 0.2098 - val_loss: 3.4273 - val_accuracy: 0.2020\n",
            "Epoch 40/150\n",
            "128/128 [==============================] - 13s 95ms/step - loss: 3.3058 - accuracy: 0.2176 - val_loss: 3.3447 - val_accuracy: 0.2294\n",
            "Epoch 41/150\n",
            "128/128 [==============================] - 12s 95ms/step - loss: 3.2043 - accuracy: 0.2363 - val_loss: 3.3421 - val_accuracy: 0.2167\n",
            "Epoch 42/150\n",
            "128/128 [==============================] - 12s 94ms/step - loss: 3.3144 - accuracy: 0.2010 - val_loss: 3.3838 - val_accuracy: 0.2147\n",
            "Epoch 43/150\n",
            "128/128 [==============================] - 13s 95ms/step - loss: 3.2828 - accuracy: 0.2275 - val_loss: 3.3141 - val_accuracy: 0.2186\n",
            "Epoch 44/150\n",
            "128/128 [==============================] - 12s 94ms/step - loss: 3.2126 - accuracy: 0.2461 - val_loss: 3.3446 - val_accuracy: 0.2324\n",
            "Epoch 45/150\n",
            "128/128 [==============================] - 14s 106ms/step - loss: 3.1211 - accuracy: 0.2333 - val_loss: 3.2401 - val_accuracy: 0.2529\n",
            "Epoch 46/150\n",
            "128/128 [==============================] - 12s 93ms/step - loss: 3.0418 - accuracy: 0.2500 - val_loss: 3.3271 - val_accuracy: 0.2157\n",
            "Epoch 47/150\n",
            "128/128 [==============================] - 12s 94ms/step - loss: 3.1657 - accuracy: 0.2402 - val_loss: 3.2846 - val_accuracy: 0.2353\n",
            "Epoch 48/150\n",
            "128/128 [==============================] - 13s 95ms/step - loss: 3.0366 - accuracy: 0.2686 - val_loss: 3.2800 - val_accuracy: 0.2431\n",
            "Epoch 49/150\n",
            "128/128 [==============================] - 12s 88ms/step - loss: 3.0738 - accuracy: 0.2598 - val_loss: 3.2526 - val_accuracy: 0.2373\n",
            "Epoch 50/150\n",
            "128/128 [==============================] - 12s 88ms/step - loss: 3.0109 - accuracy: 0.2765 - val_loss: 3.2777 - val_accuracy: 0.2343\n",
            "Epoch 51/150\n",
            "128/128 [==============================] - 12s 87ms/step - loss: 3.0311 - accuracy: 0.2520 - val_loss: 3.2653 - val_accuracy: 0.2402\n",
            "Epoch 52/150\n",
            "128/128 [==============================] - 14s 106ms/step - loss: 2.9749 - accuracy: 0.2902 - val_loss: 3.2424 - val_accuracy: 0.2412\n",
            "Epoch 53/150\n",
            "128/128 [==============================] - 12s 88ms/step - loss: 2.9525 - accuracy: 0.2755 - val_loss: 3.1999 - val_accuracy: 0.2471\n",
            "Epoch 54/150\n",
            "128/128 [==============================] - 12s 89ms/step - loss: 2.9351 - accuracy: 0.2863 - val_loss: 3.2070 - val_accuracy: 0.2510\n",
            "Epoch 55/150\n",
            "128/128 [==============================] - 12s 88ms/step - loss: 2.9321 - accuracy: 0.2863 - val_loss: 3.2787 - val_accuracy: 0.2539\n",
            "Epoch 56/150\n",
            "128/128 [==============================] - 11s 87ms/step - loss: 2.8740 - accuracy: 0.3000 - val_loss: 3.1676 - val_accuracy: 0.2618\n",
            "Epoch 57/150\n",
            "128/128 [==============================] - 12s 93ms/step - loss: 2.8385 - accuracy: 0.2951 - val_loss: 3.2048 - val_accuracy: 0.2500\n",
            "Epoch 58/150\n",
            "128/128 [==============================] - 14s 106ms/step - loss: 2.7660 - accuracy: 0.3098 - val_loss: 3.1578 - val_accuracy: 0.2804\n",
            "Epoch 59/150\n",
            "128/128 [==============================] - 12s 89ms/step - loss: 2.7475 - accuracy: 0.3108 - val_loss: 3.1766 - val_accuracy: 0.2627\n",
            "Epoch 60/150\n",
            "128/128 [==============================] - 12s 89ms/step - loss: 2.7524 - accuracy: 0.3118 - val_loss: 3.1618 - val_accuracy: 0.2686\n",
            "Epoch 61/150\n",
            "128/128 [==============================] - 12s 88ms/step - loss: 2.7487 - accuracy: 0.3088 - val_loss: 3.1344 - val_accuracy: 0.2618\n",
            "Epoch 62/150\n",
            "128/128 [==============================] - 12s 88ms/step - loss: 2.7720 - accuracy: 0.3078 - val_loss: 3.0603 - val_accuracy: 0.2725\n",
            "Epoch 63/150\n",
            "128/128 [==============================] - 14s 106ms/step - loss: 2.6869 - accuracy: 0.3461 - val_loss: 3.1091 - val_accuracy: 0.2588\n",
            "Epoch 64/150\n",
            "128/128 [==============================] - 15s 108ms/step - loss: 2.6785 - accuracy: 0.3333 - val_loss: 3.1217 - val_accuracy: 0.2706\n",
            "Epoch 65/150\n",
            "128/128 [==============================] - 13s 96ms/step - loss: 2.6068 - accuracy: 0.3637 - val_loss: 3.1016 - val_accuracy: 0.2696\n",
            "Epoch 66/150\n",
            "128/128 [==============================] - 12s 93ms/step - loss: 2.6066 - accuracy: 0.3324 - val_loss: 3.1195 - val_accuracy: 0.2667\n",
            "Epoch 67/150\n",
            "128/128 [==============================] - 14s 107ms/step - loss: 2.5143 - accuracy: 0.3686 - val_loss: 3.1192 - val_accuracy: 0.2745\n",
            "Epoch 68/150\n",
            "128/128 [==============================] - 14s 107ms/step - loss: 2.6020 - accuracy: 0.3422 - val_loss: 3.1244 - val_accuracy: 0.2676\n",
            "Epoch 69/150\n",
            "128/128 [==============================] - 14s 108ms/step - loss: 2.5417 - accuracy: 0.3647 - val_loss: 3.1374 - val_accuracy: 0.2794\n",
            "Epoch 70/150\n",
            "128/128 [==============================] - 14s 106ms/step - loss: 2.5488 - accuracy: 0.3431 - val_loss: 3.0736 - val_accuracy: 0.2824\n",
            "Epoch 71/150\n",
            "128/128 [==============================] - 14s 107ms/step - loss: 2.5016 - accuracy: 0.3706 - val_loss: 3.0482 - val_accuracy: 0.2863\n",
            "Epoch 72/150\n",
            "128/128 [==============================] - 12s 91ms/step - loss: 2.4969 - accuracy: 0.3657 - val_loss: 2.9973 - val_accuracy: 0.2931\n",
            "Epoch 73/150\n",
            "128/128 [==============================] - 12s 93ms/step - loss: 2.5054 - accuracy: 0.3882 - val_loss: 2.9744 - val_accuracy: 0.2990\n",
            "Epoch 74/150\n",
            "128/128 [==============================] - 12s 94ms/step - loss: 2.4063 - accuracy: 0.3922 - val_loss: 3.0451 - val_accuracy: 0.3029\n",
            "Epoch 75/150\n",
            "128/128 [==============================] - 14s 107ms/step - loss: 2.4538 - accuracy: 0.3667 - val_loss: 2.9863 - val_accuracy: 0.2922\n",
            "Epoch 76/150\n",
            "128/128 [==============================] - 12s 88ms/step - loss: 2.4552 - accuracy: 0.3686 - val_loss: 3.0890 - val_accuracy: 0.2843\n",
            "Epoch 77/150\n",
            "128/128 [==============================] - 12s 88ms/step - loss: 2.4714 - accuracy: 0.3833 - val_loss: 3.1291 - val_accuracy: 0.2882\n",
            "Epoch 78/150\n",
            "128/128 [==============================] - 12s 89ms/step - loss: 2.4032 - accuracy: 0.3902 - val_loss: 3.0748 - val_accuracy: 0.2922\n",
            "Epoch 79/150\n",
            "128/128 [==============================] - 14s 109ms/step - loss: 2.3508 - accuracy: 0.3833 - val_loss: 2.9344 - val_accuracy: 0.3157\n",
            "Epoch 80/150\n",
            "128/128 [==============================] - 12s 88ms/step - loss: 2.3339 - accuracy: 0.3902 - val_loss: 2.9612 - val_accuracy: 0.3010\n",
            "Epoch 81/150\n",
            "128/128 [==============================] - 12s 88ms/step - loss: 2.3948 - accuracy: 0.4078 - val_loss: 2.9959 - val_accuracy: 0.3000\n",
            "Epoch 82/150\n",
            "128/128 [==============================] - 14s 107ms/step - loss: 2.2841 - accuracy: 0.4088 - val_loss: 2.9441 - val_accuracy: 0.3127\n",
            "Epoch 83/150\n",
            "128/128 [==============================] - 15s 107ms/step - loss: 2.3053 - accuracy: 0.3882 - val_loss: 3.0096 - val_accuracy: 0.3049\n",
            "Epoch 84/150\n",
            "128/128 [==============================] - 12s 90ms/step - loss: 2.1386 - accuracy: 0.4402 - val_loss: 2.9332 - val_accuracy: 0.3176\n",
            "Epoch 85/150\n",
            "128/128 [==============================] - 12s 88ms/step - loss: 2.2888 - accuracy: 0.4010 - val_loss: 2.9298 - val_accuracy: 0.3235\n",
            "Epoch 86/150\n",
            "128/128 [==============================] - 12s 92ms/step - loss: 2.2063 - accuracy: 0.4392 - val_loss: 2.9945 - val_accuracy: 0.3118\n",
            "Epoch 87/150\n",
            "128/128 [==============================] - 13s 96ms/step - loss: 2.2405 - accuracy: 0.4314 - val_loss: 3.0877 - val_accuracy: 0.3010\n",
            "Epoch 88/150\n",
            "128/128 [==============================] - 12s 89ms/step - loss: 2.1909 - accuracy: 0.4343 - val_loss: 3.0429 - val_accuracy: 0.3039\n",
            "Epoch 89/150\n",
            "128/128 [==============================] - 12s 89ms/step - loss: 2.1469 - accuracy: 0.4461 - val_loss: 3.0237 - val_accuracy: 0.3118\n",
            "Epoch 90/150\n",
            "128/128 [==============================] - 12s 88ms/step - loss: 2.0747 - accuracy: 0.4529 - val_loss: 3.0752 - val_accuracy: 0.2951\n",
            "Epoch 91/150\n",
            "128/128 [==============================] - 14s 108ms/step - loss: 2.1213 - accuracy: 0.4500 - val_loss: 3.0107 - val_accuracy: 0.2951\n",
            "Epoch 92/150\n",
            "128/128 [==============================] - 14s 110ms/step - loss: 2.0910 - accuracy: 0.4284 - val_loss: 2.9204 - val_accuracy: 0.3235\n",
            "Epoch 93/150\n",
            "128/128 [==============================] - 14s 107ms/step - loss: 2.0797 - accuracy: 0.4686 - val_loss: 3.0131 - val_accuracy: 0.3039\n",
            "Epoch 94/150\n",
            "128/128 [==============================] - 14s 109ms/step - loss: 2.0494 - accuracy: 0.4441 - val_loss: 3.0170 - val_accuracy: 0.2980\n",
            "Epoch 95/150\n",
            "128/128 [==============================] - 15s 108ms/step - loss: 2.0538 - accuracy: 0.4667 - val_loss: 3.0293 - val_accuracy: 0.3020\n",
            "Epoch 96/150\n",
            "128/128 [==============================] - 12s 89ms/step - loss: 2.0393 - accuracy: 0.4608 - val_loss: 3.0198 - val_accuracy: 0.3088\n",
            "Epoch 97/150\n",
            "128/128 [==============================] - 14s 109ms/step - loss: 2.0003 - accuracy: 0.4882 - val_loss: 2.9444 - val_accuracy: 0.3265\n",
            "Epoch 98/150\n",
            "128/128 [==============================] - 12s 88ms/step - loss: 2.0173 - accuracy: 0.4500 - val_loss: 3.0599 - val_accuracy: 0.3020\n",
            "Epoch 99/150\n",
            "128/128 [==============================] - 14s 108ms/step - loss: 1.9103 - accuracy: 0.4971 - val_loss: 3.0720 - val_accuracy: 0.2980\n",
            "Epoch 100/150\n",
            "128/128 [==============================] - 12s 89ms/step - loss: 1.9944 - accuracy: 0.4941 - val_loss: 3.0902 - val_accuracy: 0.2912\n",
            "Epoch 101/150\n",
            "128/128 [==============================] - 12s 88ms/step - loss: 1.9574 - accuracy: 0.5000 - val_loss: 3.0951 - val_accuracy: 0.3010\n",
            "Epoch 102/150\n",
            "128/128 [==============================] - 12s 89ms/step - loss: 1.9634 - accuracy: 0.4824 - val_loss: 3.1267 - val_accuracy: 0.2775\n",
            "Epoch 103/150\n",
            "128/128 [==============================] - 12s 88ms/step - loss: 1.9320 - accuracy: 0.4784 - val_loss: 3.0089 - val_accuracy: 0.3216\n",
            "Epoch 104/150\n",
            "128/128 [==============================] - 12s 88ms/step - loss: 1.9034 - accuracy: 0.4951 - val_loss: 2.9530 - val_accuracy: 0.3363\n",
            "Epoch 105/150\n",
            "128/128 [==============================] - 12s 92ms/step - loss: 1.7955 - accuracy: 0.5324 - val_loss: 3.0633 - val_accuracy: 0.3275\n",
            "Epoch 106/150\n",
            "128/128 [==============================] - 14s 106ms/step - loss: 1.8185 - accuracy: 0.5304 - val_loss: 3.0569 - val_accuracy: 0.3186\n",
            "Epoch 107/150\n",
            "128/128 [==============================] - 12s 94ms/step - loss: 1.8726 - accuracy: 0.5049 - val_loss: 3.0109 - val_accuracy: 0.3235\n",
            "Epoch 108/150\n",
            "128/128 [==============================] - 14s 106ms/step - loss: 1.8761 - accuracy: 0.5059 - val_loss: 3.0505 - val_accuracy: 0.3069\n",
            "Epoch 109/150\n",
            "128/128 [==============================] - 12s 91ms/step - loss: 1.7741 - accuracy: 0.5314 - val_loss: 3.0687 - val_accuracy: 0.3088\n",
            "Epoch 110/150\n",
            "128/128 [==============================] - 12s 92ms/step - loss: 1.8256 - accuracy: 0.5176 - val_loss: 3.1093 - val_accuracy: 0.3118\n",
            "Epoch 111/150\n",
            "128/128 [==============================] - 12s 93ms/step - loss: 1.7959 - accuracy: 0.5176 - val_loss: 3.0614 - val_accuracy: 0.3078\n",
            "Epoch 112/150\n",
            "128/128 [==============================] - 12s 88ms/step - loss: 1.7890 - accuracy: 0.5353 - val_loss: 2.9943 - val_accuracy: 0.3324\n",
            "Epoch 113/150\n",
            "128/128 [==============================] - 12s 89ms/step - loss: 1.7199 - accuracy: 0.5480 - val_loss: 3.0199 - val_accuracy: 0.3304\n",
            "Epoch 114/150\n",
            "128/128 [==============================] - 12s 94ms/step - loss: 1.8060 - accuracy: 0.5176 - val_loss: 3.0298 - val_accuracy: 0.3373\n",
            "Epoch 115/150\n",
            "128/128 [==============================] - 12s 95ms/step - loss: 1.7305 - accuracy: 0.5402 - val_loss: 3.1387 - val_accuracy: 0.3206\n",
            "Epoch 116/150\n",
            "128/128 [==============================] - 12s 95ms/step - loss: 1.6465 - accuracy: 0.5578 - val_loss: 3.1030 - val_accuracy: 0.3137\n",
            "Epoch 117/150\n",
            "128/128 [==============================] - 14s 107ms/step - loss: 1.7025 - accuracy: 0.5363 - val_loss: 3.0016 - val_accuracy: 0.3363\n",
            "Epoch 118/150\n",
            "128/128 [==============================] - 14s 108ms/step - loss: 1.6775 - accuracy: 0.5559 - val_loss: 2.9045 - val_accuracy: 0.3569\n",
            "Epoch 119/150\n",
            "128/128 [==============================] - 12s 87ms/step - loss: 1.6237 - accuracy: 0.5676 - val_loss: 3.0426 - val_accuracy: 0.3314\n",
            "Epoch 120/150\n",
            "128/128 [==============================] - 12s 88ms/step - loss: 1.6816 - accuracy: 0.5225 - val_loss: 3.0821 - val_accuracy: 0.3255\n",
            "Epoch 121/150\n",
            "128/128 [==============================] - 12s 90ms/step - loss: 1.6393 - accuracy: 0.5647 - val_loss: 3.0533 - val_accuracy: 0.3206\n",
            "Epoch 122/150\n",
            "128/128 [==============================] - 14s 109ms/step - loss: 1.6147 - accuracy: 0.5529 - val_loss: 3.0388 - val_accuracy: 0.3284\n",
            "Epoch 123/150\n",
            "128/128 [==============================] - 12s 89ms/step - loss: 1.5662 - accuracy: 0.5627 - val_loss: 3.0747 - val_accuracy: 0.3480\n",
            "Epoch 124/150\n",
            "128/128 [==============================] - 12s 89ms/step - loss: 1.4944 - accuracy: 0.5912 - val_loss: 3.0635 - val_accuracy: 0.3441\n",
            "Epoch 125/150\n",
            "128/128 [==============================] - 12s 87ms/step - loss: 1.5779 - accuracy: 0.5765 - val_loss: 3.0413 - val_accuracy: 0.3539\n",
            "Epoch 126/150\n",
            "128/128 [==============================] - 14s 108ms/step - loss: 1.5493 - accuracy: 0.5725 - val_loss: 3.1736 - val_accuracy: 0.3255\n",
            "Epoch 127/150\n",
            "128/128 [==============================] - 12s 88ms/step - loss: 1.4885 - accuracy: 0.5686 - val_loss: 3.1544 - val_accuracy: 0.3265\n",
            "Epoch 128/150\n",
            "128/128 [==============================] - 12s 89ms/step - loss: 1.5364 - accuracy: 0.5647 - val_loss: 3.0811 - val_accuracy: 0.3343\n",
            "Epoch 129/150\n",
            "128/128 [==============================] - 12s 88ms/step - loss: 1.5681 - accuracy: 0.5804 - val_loss: 2.9348 - val_accuracy: 0.3676\n",
            "Epoch 130/150\n",
            "128/128 [==============================] - 12s 91ms/step - loss: 1.5230 - accuracy: 0.5833 - val_loss: 3.0776 - val_accuracy: 0.3373\n",
            "Epoch 131/150\n",
            "128/128 [==============================] - 12s 89ms/step - loss: 1.5019 - accuracy: 0.5951 - val_loss: 3.0287 - val_accuracy: 0.3373\n",
            "Epoch 132/150\n",
            "128/128 [==============================] - 12s 88ms/step - loss: 1.5613 - accuracy: 0.5725 - val_loss: 3.1073 - val_accuracy: 0.3441\n",
            "Epoch 133/150\n",
            "128/128 [==============================] - 12s 91ms/step - loss: 1.5649 - accuracy: 0.5745 - val_loss: 3.1199 - val_accuracy: 0.3402\n",
            "Epoch 134/150\n",
            "128/128 [==============================] - 12s 92ms/step - loss: 1.4519 - accuracy: 0.5941 - val_loss: 3.0819 - val_accuracy: 0.3500\n",
            "Epoch 135/150\n",
            "128/128 [==============================] - 12s 88ms/step - loss: 1.4407 - accuracy: 0.5971 - val_loss: 3.2299 - val_accuracy: 0.3343\n",
            "Epoch 136/150\n",
            "128/128 [==============================] - 12s 89ms/step - loss: 1.4321 - accuracy: 0.6020 - val_loss: 3.2712 - val_accuracy: 0.3294\n",
            "Epoch 137/150\n",
            "128/128 [==============================] - 12s 88ms/step - loss: 1.5289 - accuracy: 0.5912 - val_loss: 3.1227 - val_accuracy: 0.3520\n",
            "Epoch 138/150\n",
            "128/128 [==============================] - 12s 90ms/step - loss: 1.4373 - accuracy: 0.6020 - val_loss: 3.1012 - val_accuracy: 0.3480\n",
            "Epoch 139/150\n",
            "128/128 [==============================] - 12s 89ms/step - loss: 1.4019 - accuracy: 0.6186 - val_loss: 3.0979 - val_accuracy: 0.3500\n",
            "Epoch 140/150\n",
            "128/128 [==============================] - 12s 91ms/step - loss: 1.4154 - accuracy: 0.6088 - val_loss: 3.1088 - val_accuracy: 0.3461\n",
            "Epoch 141/150\n",
            "128/128 [==============================] - 14s 107ms/step - loss: 1.4045 - accuracy: 0.6098 - val_loss: 3.1400 - val_accuracy: 0.3471\n",
            "Epoch 142/150\n",
            "128/128 [==============================] - 12s 89ms/step - loss: 1.4323 - accuracy: 0.5941 - val_loss: 3.1089 - val_accuracy: 0.3431\n",
            "Epoch 143/150\n",
            "128/128 [==============================] - 12s 91ms/step - loss: 1.3027 - accuracy: 0.6471 - val_loss: 3.0628 - val_accuracy: 0.3637\n",
            "Epoch 144/150\n",
            "128/128 [==============================] - 12s 93ms/step - loss: 1.4223 - accuracy: 0.6069 - val_loss: 3.0953 - val_accuracy: 0.3647\n",
            "Epoch 145/150\n",
            "128/128 [==============================] - 14s 106ms/step - loss: 1.2801 - accuracy: 0.6451 - val_loss: 3.0570 - val_accuracy: 0.3627\n",
            "Epoch 146/150\n",
            "128/128 [==============================] - 12s 89ms/step - loss: 1.3113 - accuracy: 0.6304 - val_loss: 3.0791 - val_accuracy: 0.3598\n",
            "Epoch 147/150\n",
            "128/128 [==============================] - 14s 109ms/step - loss: 1.2715 - accuracy: 0.6647 - val_loss: 3.2087 - val_accuracy: 0.3578\n",
            "Epoch 148/150\n",
            "128/128 [==============================] - 12s 89ms/step - loss: 1.2622 - accuracy: 0.6392 - val_loss: 3.2692 - val_accuracy: 0.3304\n",
            "Epoch 149/150\n",
            "128/128 [==============================] - 14s 107ms/step - loss: 1.1863 - accuracy: 0.6598 - val_loss: 3.2620 - val_accuracy: 0.3412\n",
            "Epoch 150/150\n",
            "128/128 [==============================] - 14s 110ms/step - loss: 1.3700 - accuracy: 0.6324 - val_loss: 3.1120 - val_accuracy: 0.3686\n"
          ]
        }
      ],
      "source": [
        "\n",
        "#keras.utils.plot_model(model, show_shapes=True)\n",
        "\n",
        "epochs = 150\n",
        "\n",
        "#reduce_lr = tf.keras.callbacks.ReduceLROnPlateau(monitor='val_loss', factor=0.2, patience=5, min_lr=0.0001)\n",
        "\n",
        "model.compile(\n",
        "    optimizer=tf.keras.optimizers.Adam(learning_rate=0.00001),\n",
        "    loss=tf.keras.losses.SparseCategoricalCrossentropy(from_logits=True),\n",
        "    metrics=[\"accuracy\"],\n",
        ")\n",
        "\n",
        "history = model.fit(\n",
        "    train_batches,\n",
        "    epochs=epochs,\n",
        "    validation_data=validation_batches,\n",
        "    batch_size=BATCH_SIZE,\n",
        "    validation_batch_size=BATCH_SIZE,\n",
        "    verbose=1\n",
        "    #callbacks=[reduce_lr]\n",
        ")"
      ]
    },
    {
      "cell_type": "code",
      "source": [
        "model.save('OxfordFlowers102-2.keras')"
      ],
      "metadata": {
        "id": "3tNYk4A0-VT7"
      },
      "execution_count": 33,
      "outputs": []
    },
    {
      "cell_type": "code",
      "execution_count": 34,
      "metadata": {
        "id": "4324daheKXsn",
        "colab": {
          "base_uri": "https://localhost:8080/"
        },
        "outputId": "5df1ddc4-8fb7-471c-e6de-2ed214635256"
      },
      "outputs": [
        {
          "output_type": "stream",
          "name": "stdout",
          "text": [
            "769/769 [==============================] - 17s 23ms/step - loss: 3.3661 - accuracy: 0.3210\n",
            "Test accuracy: 0.32102781534194946\n"
          ]
        }
      ],
      "source": [
        "test_loss, test_acc = model.evaluate(test_batches, verbose=1, batch_size=BATCH_SIZE)\n",
        "print(\"Test accuracy:\", test_acc)"
      ]
    },
    {
      "cell_type": "code",
      "source": [
        "plt.plot(history.history['loss'])\n",
        "plt.ylim(0,10)\n",
        "plt.plot(history.history['val_loss'])\n",
        "plt.title('model loss')\n",
        "plt.ylabel('loss')\n",
        "plt.xlabel('epoch')\n",
        "plt.legend(['train','val'], loc=\"upper left\")\n",
        "plt.show()"
      ],
      "metadata": {
        "id": "2iJRXw8RhICC",
        "colab": {
          "base_uri": "https://localhost:8080/",
          "height": 472
        },
        "outputId": "40b1d414-a6ad-4f38-bf00-e1282f01c55a"
      },
      "execution_count": 35,
      "outputs": [
        {
          "output_type": "display_data",
          "data": {
            "text/plain": [
              "<Figure size 640x480 with 1 Axes>"
            ],
            "image/png": "[encoded data removed]"
          },
          "metadata": {}
        }
      ]
    },
    {
      "cell_type": "code",
      "source": [
        "plt.plot(history.history['accuracy'])\n",
        "plt.plot(history.history['val_accuracy'])\n",
        "plt.title('model accuracy')\n",
        "plt.ylabel('accuracy')\n",
        "plt.xlabel('epoch')\n",
        "plt.legend(['train','val'], loc=\"upper left\")\n",
        "plt.show()"
      ],
      "metadata": {
        "id": "qMzpr_SZhHbh",
        "colab": {
          "base_uri": "https://localhost:8080/",
          "height": 472
        },
        "outputId": "b3c3513a-bd91-471a-aec4-fce3b76b4e6d"
      },
      "execution_count": 36,
      "outputs": [
        {
          "output_type": "display_data",
          "data": {
            "text/plain": [
              "<Figure size 640x480 with 1 Axes>"
            ],
            "image/png": "[encoded data removed]"
          },
          "metadata": {}
        }
      ]
    }
  ],
  "metadata": {
    "accelerator": "GPU",
    "colab": {
      "gpuType": "T4",
      "provenance": [],
      "include_colab_link": true
    },
    "gpuClass": "standard",
    "kernelspec": {
      "display_name": "Python 3",
      "name": "python3"
    },
    "language_info": {
      "codemirror_mode": {
        "name": "ipython",
        "version": 3
      },
      "file_extension": ".py",
      "mimetype": "text/x-python",
      "name": "python",
      "nbconvert_exporter": "python",
      "pygments_lexer": "ipython3",
      "version": "3.11.1"
    }
  },
  "nbformat": 4,
  "nbformat_minor": 0
}