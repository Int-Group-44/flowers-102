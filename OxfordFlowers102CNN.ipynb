{
  "cells": [
    {
      "cell_type": "markdown",
      "metadata": {
        "id": "view-in-github",
        "colab_type": "text"
      },
      "source": [
        "<a href=\"https://colab.research.google.com/github/Int-Group-44/flowers-102/blob/main/OxfordFlowers102CNN.ipynb\" target=\"_parent\"><img src=\"https://colab.research.google.com/assets/colab-badge.svg\" alt=\"Open In Colab\"/></a>"
      ]
    },
    {
      "cell_type": "code",
      "execution_count": 2,
      "metadata": {
        "id": "egaLH944BBD5"
      },
      "outputs": [],
      "source": [
        "import numpy as np\n",
        "import pandas as pd\n",
        "import tensorflow as tf\n",
        "from tensorflow import keras\n",
        "from keras import layers\n",
        "import tensorflow_datasets as tfds\n",
        "import matplotlib.pyplot as plt\n",
        "#device_name = tf.test.gpu_device_name()\n",
        "#if device_name != '/device:GPU:0':\n",
        "#  raise SystemError('GPU device not found')\n",
        "#print('Found GPU at: {}'.format(device_name))\n",
        "\n",
        "dataset, dataset_info = tfds.load('oxford_flowers102', with_info=True, as_supervised=True)\n",
        "dataset_info\n",
        "test_set, training_set, validation_set = dataset['test'], dataset['train'], dataset['validation']"
      ]
    },
    {
      "cell_type": "code",
      "execution_count": 3,
      "metadata": {
        "colab": {
          "base_uri": "https://localhost:8080/"
        },
        "id": "H8JAGNFt3PGE",
        "outputId": "066e28cb-67bc-45da-a4ac-803fa9329110"
      },
      "outputs": [
        {
          "output_type": "stream",
          "name": "stdout",
          "text": [
            "Physical devices cannot be modified after being initialized\n",
            "[PhysicalDevice(name='/physical_device:GPU:0', device_type='GPU')]\n"
          ]
        }
      ],
      "source": [
        "import tensorflow as tf\n",
        "tf.config.experimental.list_physical_devices('GPU')\n",
        "gpus = tf.config.experimental.list_physical_devices('GPU')\n",
        "if gpus:\n",
        "  try:\n",
        "    for gpu in gpus:\n",
        "      tf.config.experimental.set_memory_growth(gpu, True)\n",
        "  except RuntimeError as e:\n",
        "    print(e)\n",
        "\n",
        "print(gpus)"
      ]
    },
    {
      "cell_type": "markdown",
      "metadata": {
        "id": "hgSxJm7OYeKN"
      },
      "source": [
        "Importing TensorFlow "
      ]
    },
    {
      "cell_type": "code",
      "execution_count": 4,
      "metadata": {
        "id": "ql9q6LSWMZRk"
      },
      "outputs": [],
      "source": [
        "num_classes = dataset_info.features['label'].num_classes\n",
        "num_training_examples = 1020\n",
        "num_validation_examples = 1020"
      ]
    },
    {
      "cell_type": "code",
      "execution_count": 5,
      "metadata": {
        "id": "xwksk4asQhtr"
      },
      "outputs": [],
      "source": [
        "IMAGE_RES = 224\n",
        "\n",
        "def format_image(image, label):\n",
        "    image = tf.image.resize(image, (IMAGE_RES, IMAGE_RES))/255.0\n",
        "    #label = tf.one_hot(label, depth=num_classes)\n",
        "    return image, label\n",
        "BATCH_SIZE = 16\n",
        "train_batches = training_set.shuffle(num_training_examples//4).map(format_image).batch(BATCH_SIZE).prefetch(1)\n",
        "validation_batches = validation_set.shuffle(num_validation_examples//4).map(format_image).batch(BATCH_SIZE).prefetch(1)\n",
        "test_batches = test_set.map(format_image).batch(BATCH_SIZE).prefetch(1)\n"
      ]
    },
    {
      "cell_type": "code",
      "execution_count": 22,
      "metadata": {
        "id": "9WgfAXPgjFd5"
      },
      "outputs": [],
      "source": [
        "def make_model(input_shape, num_classes):\n",
        "  model = tf.keras.Sequential()\n",
        "  model.add(layers.RandomFlip(\"horizontal_and_vertical\", input_shape=input_shape))\n",
        "  model.add(layers.RandomRotation(20))\n",
        "  model.add(layers.RandomZoom(0.2))\n",
        "  model.add(layers.Conv2D(32, 3, padding='same', activation='relu'))\n",
        "  model.add(layers.BatchNormalization())\n",
        "  model.add(layers.Conv2D(32, 3, padding='same', activation='relu'))\n",
        "  model.add(layers.BatchNormalization())\n",
        "  model.add(layers.MaxPooling2D())\n",
        "  model.add(layers.Conv2D(64, 3, padding='same', activation='relu'))\n",
        "  model.add(layers.BatchNormalization())\n",
        "  model.add(layers.Conv2D(64, 3, padding='same', activation='relu'))\n",
        "  model.add(layers.BatchNormalization())\n",
        "  model.add(layers.MaxPooling2D())\n",
        "  model.add(layers.Conv2D(128, 3, padding='same', activation='relu'))\n",
        "  model.add(layers.BatchNormalization())\n",
        "  model.add(layers.Conv2D(128, 3, padding='same', activation='relu'))\n",
        "  model.add(layers.BatchNormalization())\n",
        "  model.add(layers.MaxPooling2D())\n",
        "  model.add(layers.Conv2D(256, 3, padding='same', activation='relu'))\n",
        "  model.add(layers.BatchNormalization())\n",
        "  model.add(layers.Conv2D(256, 3, padding='same', activation='relu'))\n",
        "  model.add(layers.BatchNormalization())\n",
        "  model.add(layers.MaxPooling2D())\n",
        "  model.add(layers.Conv2D(512, 3, padding='same', activation='relu'))\n",
        "  model.add(layers.BatchNormalization())\n",
        "  model.add(layers.Conv2D(512, 3, padding='same', activation='relu'))\n",
        "  model.add(layers.BatchNormalization())\n",
        "  model.add(layers.MaxPooling2D())\n",
        "  model.add(layers.Flatten())\n",
        "  model.add(layers.Dense(1024, activation='relu'))\n",
        "  model.add(layers.Dropout(0.25))\n",
        "  model.add(layers.Dense(512, activation='relu'))\n",
        "  model.add(layers.Dropout(0.25))\n",
        "  model.add(layers.Dense(256, activation='relu'))\n",
        "  model.add(layers.Dropout(0.25))\n",
        "  model.add(layers.Dense(num_classes))\n",
        "  return model\n"
      ]
    },
    {
      "cell_type": "code",
      "execution_count": 33,
      "metadata": {
        "id": "tF9v2wo9F8LW"
      },
      "outputs": [],
      "source": [
        "tf.keras.backend.clear_session()\n",
        "model = make_model(input_shape=(IMAGE_RES, IMAGE_RES) + (3,), num_classes=102)"
      ]
    },
    {
      "cell_type": "code",
      "execution_count": 34,
      "metadata": {
        "colab": {
          "base_uri": "https://localhost:8080/"
        },
        "id": "pumHmqXelH38",
        "outputId": "7bd19f5d-1aad-4c5c-d401-ef436b5f0225"
      },
      "outputs": [
        {
          "output_type": "stream",
          "name": "stdout",
          "text": [
            "Epoch 1/50\n",
            "64/64 [==============================] - 18s 153ms/step - loss: 5.8945 - accuracy: 0.0147 - val_loss: 4.7008 - val_accuracy: 0.0098\n",
            "Epoch 2/50\n",
            "64/64 [==============================] - 10s 147ms/step - loss: 4.9362 - accuracy: 0.0235 - val_loss: 4.8379 - val_accuracy: 0.0098\n",
            "Epoch 3/50\n",
            "64/64 [==============================] - 12s 187ms/step - loss: 4.8400 - accuracy: 0.0196 - val_loss: 4.9424 - val_accuracy: 0.0098\n",
            "Epoch 4/50\n",
            "64/64 [==============================] - 10s 156ms/step - loss: 4.7150 - accuracy: 0.0333 - val_loss: 4.7216 - val_accuracy: 0.0176\n",
            "Epoch 5/50\n",
            "64/64 [==============================] - 10s 146ms/step - loss: 4.6353 - accuracy: 0.0314 - val_loss: 4.6264 - val_accuracy: 0.0118\n",
            "Epoch 6/50\n",
            "64/64 [==============================] - 10s 148ms/step - loss: 4.6034 - accuracy: 0.0176 - val_loss: 4.6079 - val_accuracy: 0.0235\n",
            "Epoch 7/50\n",
            "64/64 [==============================] - 10s 150ms/step - loss: 4.5989 - accuracy: 0.0245 - val_loss: 4.5635 - val_accuracy: 0.0137\n",
            "Epoch 8/50\n",
            "64/64 [==============================] - 9s 142ms/step - loss: 4.4867 - accuracy: 0.0363 - val_loss: 4.3015 - val_accuracy: 0.0578\n",
            "Epoch 9/50\n",
            "64/64 [==============================] - 10s 159ms/step - loss: 4.4425 - accuracy: 0.0402 - val_loss: 4.1164 - val_accuracy: 0.0735\n",
            "Epoch 10/50\n",
            "64/64 [==============================] - 10s 147ms/step - loss: 4.3154 - accuracy: 0.0520 - val_loss: 4.2188 - val_accuracy: 0.0696\n",
            "Epoch 11/50\n",
            "64/64 [==============================] - 10s 141ms/step - loss: 4.3391 - accuracy: 0.0490 - val_loss: 4.1521 - val_accuracy: 0.0814\n",
            "Epoch 12/50\n",
            "64/64 [==============================] - 9s 141ms/step - loss: 4.1939 - accuracy: 0.0618 - val_loss: 4.0798 - val_accuracy: 0.0735\n",
            "Epoch 13/50\n",
            "64/64 [==============================] - 10s 148ms/step - loss: 4.1824 - accuracy: 0.0588 - val_loss: 4.1877 - val_accuracy: 0.0745\n",
            "Epoch 14/50\n",
            "64/64 [==============================] - 12s 187ms/step - loss: 4.1383 - accuracy: 0.0686 - val_loss: 4.0436 - val_accuracy: 0.0873\n",
            "Epoch 15/50\n",
            "64/64 [==============================] - 10s 147ms/step - loss: 4.1033 - accuracy: 0.0873 - val_loss: 4.0213 - val_accuracy: 0.0716\n",
            "Epoch 16/50\n",
            "64/64 [==============================] - 9s 141ms/step - loss: 4.1746 - accuracy: 0.0676 - val_loss: 3.8847 - val_accuracy: 0.1049\n",
            "Epoch 17/50\n",
            "64/64 [==============================] - 10s 150ms/step - loss: 4.0035 - accuracy: 0.0892 - val_loss: 3.8578 - val_accuracy: 0.1294\n",
            "Epoch 18/50\n",
            "64/64 [==============================] - 12s 189ms/step - loss: 3.9659 - accuracy: 0.0873 - val_loss: 4.1235 - val_accuracy: 0.1069\n",
            "Epoch 19/50\n",
            "64/64 [==============================] - 10s 146ms/step - loss: 3.9947 - accuracy: 0.0824 - val_loss: 4.0675 - val_accuracy: 0.1294\n",
            "Epoch 20/50\n",
            "64/64 [==============================] - 9s 142ms/step - loss: 3.8671 - accuracy: 0.0961 - val_loss: 3.9161 - val_accuracy: 0.1010\n",
            "Epoch 21/50\n",
            "64/64 [==============================] - 9s 142ms/step - loss: 3.8573 - accuracy: 0.1059 - val_loss: 3.8646 - val_accuracy: 0.1137\n",
            "Epoch 22/50\n",
            "64/64 [==============================] - 10s 146ms/step - loss: 3.8332 - accuracy: 0.1078 - val_loss: 3.6704 - val_accuracy: 0.1510\n",
            "Epoch 23/50\n",
            "64/64 [==============================] - 9s 143ms/step - loss: 3.7849 - accuracy: 0.1127 - val_loss: 3.6996 - val_accuracy: 0.1363\n",
            "Epoch 24/50\n",
            "64/64 [==============================] - 10s 148ms/step - loss: 3.7621 - accuracy: 0.1078 - val_loss: 3.7457 - val_accuracy: 0.1343\n",
            "Epoch 25/50\n",
            "64/64 [==============================] - 9s 141ms/step - loss: 3.6613 - accuracy: 0.1284 - val_loss: 3.7671 - val_accuracy: 0.1255\n",
            "Epoch 26/50\n",
            "64/64 [==============================] - 10s 149ms/step - loss: 3.6849 - accuracy: 0.1186 - val_loss: 3.9490 - val_accuracy: 0.1098\n",
            "Epoch 27/50\n",
            "64/64 [==============================] - 10s 147ms/step - loss: 3.5599 - accuracy: 0.1284 - val_loss: 3.8375 - val_accuracy: 0.1235\n",
            "Epoch 28/50\n",
            "64/64 [==============================] - 10s 146ms/step - loss: 3.5587 - accuracy: 0.1363 - val_loss: 3.4500 - val_accuracy: 0.1784\n",
            "Epoch 29/50\n",
            "64/64 [==============================] - 10s 146ms/step - loss: 3.4916 - accuracy: 0.1559 - val_loss: 3.6451 - val_accuracy: 0.1412\n",
            "Epoch 30/50\n",
            "64/64 [==============================] - 9s 141ms/step - loss: 3.5710 - accuracy: 0.1343 - val_loss: 3.5043 - val_accuracy: 0.1500\n",
            "Epoch 31/50\n",
            "64/64 [==============================] - 9s 141ms/step - loss: 3.4852 - accuracy: 0.1490 - val_loss: 3.6225 - val_accuracy: 0.1510\n",
            "Epoch 32/50\n",
            "64/64 [==============================] - 12s 187ms/step - loss: 3.4828 - accuracy: 0.1608 - val_loss: 3.5619 - val_accuracy: 0.1696\n",
            "Epoch 33/50\n",
            "64/64 [==============================] - 10s 145ms/step - loss: 3.4547 - accuracy: 0.1578 - val_loss: 3.5407 - val_accuracy: 0.1529\n",
            "Epoch 34/50\n",
            "64/64 [==============================] - 10s 149ms/step - loss: 3.3331 - accuracy: 0.1853 - val_loss: 3.5105 - val_accuracy: 0.1471\n",
            "Epoch 35/50\n",
            "64/64 [==============================] - 10s 145ms/step - loss: 3.3155 - accuracy: 0.1755 - val_loss: 3.5124 - val_accuracy: 0.1637\n",
            "Epoch 36/50\n",
            "64/64 [==============================] - 10s 150ms/step - loss: 3.3569 - accuracy: 0.1578 - val_loss: 3.3703 - val_accuracy: 0.1990\n",
            "Epoch 37/50\n",
            "64/64 [==============================] - 10s 147ms/step - loss: 3.2601 - accuracy: 0.1775 - val_loss: 3.8388 - val_accuracy: 0.1569\n",
            "Epoch 38/50\n",
            "64/64 [==============================] - 9s 139ms/step - loss: 3.2123 - accuracy: 0.1902 - val_loss: 3.3814 - val_accuracy: 0.1765\n",
            "Epoch 39/50\n",
            "64/64 [==============================] - 9s 139ms/step - loss: 3.2118 - accuracy: 0.1961 - val_loss: 3.5085 - val_accuracy: 0.1863\n",
            "Epoch 40/50\n",
            "64/64 [==============================] - 9s 142ms/step - loss: 3.1801 - accuracy: 0.1912 - val_loss: 3.4200 - val_accuracy: 0.1863\n",
            "Epoch 41/50\n",
            "64/64 [==============================] - 10s 145ms/step - loss: 3.0741 - accuracy: 0.2137 - val_loss: 3.3558 - val_accuracy: 0.1882\n",
            "Epoch 42/50\n",
            "64/64 [==============================] - 10s 147ms/step - loss: 3.1060 - accuracy: 0.2039 - val_loss: 3.2595 - val_accuracy: 0.2118\n",
            "Epoch 43/50\n",
            "64/64 [==============================] - 9s 139ms/step - loss: 3.0534 - accuracy: 0.2108 - val_loss: 3.3324 - val_accuracy: 0.2069\n",
            "Epoch 44/50\n",
            "64/64 [==============================] - 10s 149ms/step - loss: 3.0479 - accuracy: 0.2167 - val_loss: 3.4042 - val_accuracy: 0.1990\n",
            "Epoch 45/50\n",
            "64/64 [==============================] - 9s 142ms/step - loss: 3.1011 - accuracy: 0.2029 - val_loss: 3.3839 - val_accuracy: 0.2118\n",
            "Epoch 46/50\n",
            "64/64 [==============================] - 12s 188ms/step - loss: 3.0827 - accuracy: 0.2049 - val_loss: 4.0557 - val_accuracy: 0.1343\n",
            "Epoch 47/50\n",
            "64/64 [==============================] - 12s 188ms/step - loss: 3.1521 - accuracy: 0.2000 - val_loss: 3.1910 - val_accuracy: 0.2431\n",
            "Epoch 48/50\n",
            "64/64 [==============================] - 9s 139ms/step - loss: 3.0340 - accuracy: 0.2265 - val_loss: 3.1610 - val_accuracy: 0.2304\n",
            "Epoch 49/50\n",
            "64/64 [==============================] - 10s 150ms/step - loss: 2.9122 - accuracy: 0.2490 - val_loss: 3.2299 - val_accuracy: 0.2333\n",
            "Epoch 50/50\n",
            "64/64 [==============================] - 10s 150ms/step - loss: 2.9790 - accuracy: 0.2176 - val_loss: 3.1675 - val_accuracy: 0.2324\n"
          ]
        }
      ],
      "source": [
        "\n",
        "#keras.utils.plot_model(model, show_shapes=True)\n",
        "\n",
        "epochs = 50\n",
        "\n",
        "#reduce_lr = tf.keras.callbacks.ReduceLROnPlateau(monitor='val_loss', factor=0.2, patience=5, min_lr=0.0001)\n",
        "\n",
        "model.compile(\n",
        "    optimizer=tf.keras.optimizers.Adam(learning_rate=0.00025),\n",
        "    loss=tf.keras.losses.SparseCategoricalCrossentropy(from_logits=True),\n",
        "    metrics=[\"accuracy\"],\n",
        ")\n",
        "\n",
        "history = model.fit(\n",
        "    train_batches,\n",
        "    epochs=epochs,\n",
        "    validation_data=validation_batches,\n",
        "    batch_size=BATCH_SIZE,\n",
        "    validation_batch_size=BATCH_SIZE,\n",
        "    verbose=1\n",
        "    #callbacks=[reduce_lr]\n",
        ")"
      ]
    },
    {
      "cell_type": "code",
      "source": [
        "tloss1 = history.history['loss']\n",
        "vloss1 = history.history['val_loss']\n",
        "tacc1 = history.history['accuracy']\n",
        "vacc1 = history.history['val_accuracy']"
      ],
      "metadata": {
        "id": "mD33c-dQEKYM"
      },
      "execution_count": 35,
      "outputs": []
    },
    {
      "cell_type": "code",
      "source": [
        "\n",
        "#keras.utils.plot_model(model, show_shapes=True)\n",
        "\n",
        "epochs = 50\n",
        "\n",
        "#reduce_lr = tf.keras.callbacks.ReduceLROnPlateau(monitor='val_loss', factor=0.2, patience=5, min_lr=0.0001)\n",
        "\n",
        "model.compile(\n",
        "    optimizer=tf.keras.optimizers.Adam(learning_rate=0.0001),\n",
        "    loss=tf.keras.losses.SparseCategoricalCrossentropy(from_logits=True),\n",
        "    metrics=[\"accuracy\"],\n",
        ")\n",
        "\n",
        "history = model.fit(\n",
        "    train_batches,\n",
        "    epochs=epochs,\n",
        "    validation_data=validation_batches,\n",
        "    batch_size=BATCH_SIZE,\n",
        "    validation_batch_size=BATCH_SIZE,\n",
        "    verbose=1\n",
        "    #callbacks=[reduce_lr]\n",
        ")"
      ],
      "metadata": {
        "colab": {
          "base_uri": "https://localhost:8080/"
        },
        "id": "a2yLllbgBxDf",
        "outputId": "38c991ae-bdfb-4d5e-9eb9-100a16c5daac"
      },
      "execution_count": 36,
      "outputs": [
        {
          "output_type": "stream",
          "name": "stdout",
          "text": [
            "Epoch 1/50\n",
            "64/64 [==============================] - 19s 157ms/step - loss: 2.7713 - accuracy: 0.2725 - val_loss: 3.0086 - val_accuracy: 0.2804\n",
            "Epoch 2/50\n",
            "64/64 [==============================] - 9s 143ms/step - loss: 2.6842 - accuracy: 0.2961 - val_loss: 2.8714 - val_accuracy: 0.2990\n",
            "Epoch 3/50\n",
            "64/64 [==============================] - 9s 139ms/step - loss: 2.5832 - accuracy: 0.3167 - val_loss: 2.9533 - val_accuracy: 0.2892\n",
            "Epoch 4/50\n",
            "64/64 [==============================] - 9s 138ms/step - loss: 2.4890 - accuracy: 0.3186 - val_loss: 2.9420 - val_accuracy: 0.2686\n",
            "Epoch 5/50\n",
            "64/64 [==============================] - 10s 144ms/step - loss: 2.5125 - accuracy: 0.3108 - val_loss: 2.8702 - val_accuracy: 0.2814\n",
            "Epoch 6/50\n",
            "64/64 [==============================] - 9s 143ms/step - loss: 2.4702 - accuracy: 0.3431 - val_loss: 2.8429 - val_accuracy: 0.3020\n",
            "Epoch 7/50\n",
            "64/64 [==============================] - 9s 143ms/step - loss: 2.4589 - accuracy: 0.3392 - val_loss: 2.8819 - val_accuracy: 0.3059\n",
            "Epoch 8/50\n",
            "64/64 [==============================] - 10s 138ms/step - loss: 2.3855 - accuracy: 0.3480 - val_loss: 2.8940 - val_accuracy: 0.2961\n",
            "Epoch 9/50\n",
            "64/64 [==============================] - 9s 138ms/step - loss: 2.3571 - accuracy: 0.3412 - val_loss: 2.9368 - val_accuracy: 0.2843\n",
            "Epoch 10/50\n",
            "64/64 [==============================] - 12s 185ms/step - loss: 2.4192 - accuracy: 0.3627 - val_loss: 2.8570 - val_accuracy: 0.3078\n",
            "Epoch 11/50\n",
            "64/64 [==============================] - 9s 135ms/step - loss: 2.4042 - accuracy: 0.3343 - val_loss: 2.8570 - val_accuracy: 0.3108\n",
            "Epoch 12/50\n",
            "64/64 [==============================] - 10s 145ms/step - loss: 2.2485 - accuracy: 0.3686 - val_loss: 2.8963 - val_accuracy: 0.3010\n",
            "Epoch 13/50\n",
            "64/64 [==============================] - 9s 138ms/step - loss: 2.3471 - accuracy: 0.3627 - val_loss: 3.0183 - val_accuracy: 0.2775\n",
            "Epoch 14/50\n",
            "64/64 [==============================] - 9s 143ms/step - loss: 2.2589 - accuracy: 0.3765 - val_loss: 2.8563 - val_accuracy: 0.3039\n",
            "Epoch 15/50\n",
            "64/64 [==============================] - 10s 148ms/step - loss: 2.2140 - accuracy: 0.3794 - val_loss: 2.8612 - val_accuracy: 0.3108\n",
            "Epoch 16/50\n",
            "64/64 [==============================] - 9s 136ms/step - loss: 2.2336 - accuracy: 0.3961 - val_loss: 2.9990 - val_accuracy: 0.2951\n",
            "Epoch 17/50\n",
            "64/64 [==============================] - 9s 138ms/step - loss: 2.2197 - accuracy: 0.3882 - val_loss: 2.8283 - val_accuracy: 0.3108\n",
            "Epoch 18/50\n",
            "64/64 [==============================] - 9s 140ms/step - loss: 2.1430 - accuracy: 0.4127 - val_loss: 2.7828 - val_accuracy: 0.3363\n",
            "Epoch 19/50\n",
            "64/64 [==============================] - 9s 140ms/step - loss: 2.0761 - accuracy: 0.4225 - val_loss: 3.0079 - val_accuracy: 0.3196\n",
            "Epoch 20/50\n",
            "64/64 [==============================] - 9s 137ms/step - loss: 2.1955 - accuracy: 0.4049 - val_loss: 3.0610 - val_accuracy: 0.3069\n",
            "Epoch 21/50\n",
            "64/64 [==============================] - 10s 144ms/step - loss: 2.1682 - accuracy: 0.4039 - val_loss: 2.8552 - val_accuracy: 0.3294\n",
            "Epoch 22/50\n",
            "64/64 [==============================] - 9s 140ms/step - loss: 2.1105 - accuracy: 0.4078 - val_loss: 2.8896 - val_accuracy: 0.3412\n",
            "Epoch 23/50\n",
            "64/64 [==============================] - 10s 146ms/step - loss: 2.0927 - accuracy: 0.4412 - val_loss: 2.8493 - val_accuracy: 0.3333\n",
            "Epoch 24/50\n",
            "64/64 [==============================] - 10s 154ms/step - loss: 2.0787 - accuracy: 0.4137 - val_loss: 2.8502 - val_accuracy: 0.3294\n",
            "Epoch 25/50\n",
            "64/64 [==============================] - 9s 135ms/step - loss: 2.0678 - accuracy: 0.4098 - val_loss: 2.7962 - val_accuracy: 0.3578\n",
            "Epoch 26/50\n",
            "64/64 [==============================] - 9s 136ms/step - loss: 2.0673 - accuracy: 0.4314 - val_loss: 2.7823 - val_accuracy: 0.3471\n",
            "Epoch 27/50\n",
            "64/64 [==============================] - 10s 147ms/step - loss: 1.9593 - accuracy: 0.4529 - val_loss: 2.9094 - val_accuracy: 0.3382\n",
            "Epoch 28/50\n",
            "64/64 [==============================] - 10s 147ms/step - loss: 1.9478 - accuracy: 0.4559 - val_loss: 2.8820 - val_accuracy: 0.3304\n",
            "Epoch 29/50\n",
            "64/64 [==============================] - 10s 145ms/step - loss: 1.9459 - accuracy: 0.4559 - val_loss: 2.7738 - val_accuracy: 0.3461\n",
            "Epoch 30/50\n",
            "64/64 [==============================] - 10s 147ms/step - loss: 1.9234 - accuracy: 0.4402 - val_loss: 2.9573 - val_accuracy: 0.3127\n",
            "Epoch 31/50\n",
            "64/64 [==============================] - 9s 137ms/step - loss: 1.9210 - accuracy: 0.4765 - val_loss: 2.8662 - val_accuracy: 0.3314\n",
            "Epoch 32/50\n",
            "64/64 [==============================] - 9s 137ms/step - loss: 1.8729 - accuracy: 0.4618 - val_loss: 2.7962 - val_accuracy: 0.3667\n",
            "Epoch 33/50\n",
            "64/64 [==============================] - 10s 147ms/step - loss: 1.8693 - accuracy: 0.4696 - val_loss: 2.8706 - val_accuracy: 0.3422\n",
            "Epoch 34/50\n",
            "64/64 [==============================] - 9s 141ms/step - loss: 1.8125 - accuracy: 0.4814 - val_loss: 2.8319 - val_accuracy: 0.3510\n",
            "Epoch 35/50\n",
            "64/64 [==============================] - 12s 184ms/step - loss: 1.8989 - accuracy: 0.4520 - val_loss: 2.7748 - val_accuracy: 0.3490\n",
            "Epoch 36/50\n",
            "64/64 [==============================] - 10s 143ms/step - loss: 1.8007 - accuracy: 0.4843 - val_loss: 2.8253 - val_accuracy: 0.3569\n",
            "Epoch 37/50\n",
            "64/64 [==============================] - 10s 146ms/step - loss: 1.7787 - accuracy: 0.4794 - val_loss: 2.8535 - val_accuracy: 0.3706\n",
            "Epoch 38/50\n",
            "64/64 [==============================] - 9s 139ms/step - loss: 1.8069 - accuracy: 0.4706 - val_loss: 2.8550 - val_accuracy: 0.3627\n",
            "Epoch 39/50\n",
            "64/64 [==============================] - 12s 185ms/step - loss: 1.6813 - accuracy: 0.5167 - val_loss: 2.9028 - val_accuracy: 0.3412\n",
            "Epoch 40/50\n",
            "64/64 [==============================] - 9s 142ms/step - loss: 1.7706 - accuracy: 0.4853 - val_loss: 2.8287 - val_accuracy: 0.3627\n",
            "Epoch 41/50\n",
            "64/64 [==============================] - 9s 133ms/step - loss: 1.6489 - accuracy: 0.5029 - val_loss: 2.9777 - val_accuracy: 0.3490\n",
            "Epoch 42/50\n",
            "64/64 [==============================] - 10s 144ms/step - loss: 1.7447 - accuracy: 0.4990 - val_loss: 2.9695 - val_accuracy: 0.3559\n",
            "Epoch 43/50\n",
            "64/64 [==============================] - 9s 138ms/step - loss: 1.6776 - accuracy: 0.5294 - val_loss: 2.8930 - val_accuracy: 0.3608\n",
            "Epoch 44/50\n",
            "64/64 [==============================] - 12s 183ms/step - loss: 1.7613 - accuracy: 0.5000 - val_loss: 2.9631 - val_accuracy: 0.3363\n",
            "Epoch 45/50\n",
            "64/64 [==============================] - 10s 152ms/step - loss: 1.6824 - accuracy: 0.5167 - val_loss: 3.0114 - val_accuracy: 0.3500\n",
            "Epoch 46/50\n",
            "64/64 [==============================] - 9s 144ms/step - loss: 1.6777 - accuracy: 0.5225 - val_loss: 3.0149 - val_accuracy: 0.3529\n",
            "Epoch 47/50\n",
            "64/64 [==============================] - 9s 138ms/step - loss: 1.6705 - accuracy: 0.4922 - val_loss: 2.9444 - val_accuracy: 0.3676\n",
            "Epoch 48/50\n",
            "64/64 [==============================] - 10s 145ms/step - loss: 1.5692 - accuracy: 0.5588 - val_loss: 2.7848 - val_accuracy: 0.3765\n",
            "Epoch 49/50\n",
            "64/64 [==============================] - 10s 149ms/step - loss: 1.5751 - accuracy: 0.5794 - val_loss: 3.0737 - val_accuracy: 0.3539\n",
            "Epoch 50/50\n",
            "64/64 [==============================] - 9s 143ms/step - loss: 1.5657 - accuracy: 0.5529 - val_loss: 3.1015 - val_accuracy: 0.3382\n"
          ]
        }
      ]
    },
    {
      "cell_type": "code",
      "source": [
        "tloss2 = history.history['loss']\n",
        "vloss2 = history.history['val_loss']\n",
        "tacc2 = history.history['accuracy']\n",
        "vacc2 = history.history['val_accuracy']"
      ],
      "metadata": {
        "id": "j7YNON-AElOl"
      },
      "execution_count": 37,
      "outputs": []
    },
    {
      "cell_type": "code",
      "source": [
        "#keras.utils.plot_model(model, show_shapes=True)\n",
        "\n",
        "epochs = 50\n",
        "\n",
        "#reduce_lr = tf.keras.callbacks.ReduceLROnPlateau(monitor='val_loss', factor=0.2, patience=5, min_lr=0.0001)\n",
        "\n",
        "model.compile(\n",
        "    optimizer=tf.keras.optimizers.Adam(learning_rate=0.000025),\n",
        "    loss=tf.keras.losses.SparseCategoricalCrossentropy(from_logits=True),\n",
        "    metrics=[\"accuracy\"],\n",
        ")\n",
        "\n",
        "history = model.fit(\n",
        "    train_batches,\n",
        "    epochs=epochs,\n",
        "    validation_data=validation_batches,\n",
        "    batch_size=BATCH_SIZE,\n",
        "    validation_batch_size=BATCH_SIZE,\n",
        "    verbose=1\n",
        "    #callbacks=[reduce_lr]\n",
        ")"
      ],
      "metadata": {
        "colab": {
          "base_uri": "https://localhost:8080/"
        },
        "id": "F81ZnLOWMDuj",
        "outputId": "63c56dc9-3c74-4036-9bf7-66527b481aa0"
      },
      "execution_count": 38,
      "outputs": [
        {
          "output_type": "stream",
          "name": "stdout",
          "text": [
            "Epoch 1/50\n",
            "64/64 [==============================] - 19s 146ms/step - loss: 1.4818 - accuracy: 0.5647 - val_loss: 2.8198 - val_accuracy: 0.3951\n",
            "Epoch 2/50\n",
            "64/64 [==============================] - 10s 151ms/step - loss: 1.3833 - accuracy: 0.5863 - val_loss: 2.8100 - val_accuracy: 0.4020\n",
            "Epoch 3/50\n",
            "64/64 [==============================] - 9s 140ms/step - loss: 1.3329 - accuracy: 0.5980 - val_loss: 2.7874 - val_accuracy: 0.4000\n",
            "Epoch 4/50\n",
            "64/64 [==============================] - 10s 141ms/step - loss: 1.3281 - accuracy: 0.5951 - val_loss: 2.8052 - val_accuracy: 0.3922\n",
            "Epoch 5/50\n",
            "64/64 [==============================] - 9s 144ms/step - loss: 1.3060 - accuracy: 0.6324 - val_loss: 2.7901 - val_accuracy: 0.4157\n",
            "Epoch 6/50\n",
            "64/64 [==============================] - 10s 145ms/step - loss: 1.3716 - accuracy: 0.5824 - val_loss: 2.8206 - val_accuracy: 0.4020\n",
            "Epoch 7/50\n",
            "64/64 [==============================] - 9s 143ms/step - loss: 1.2366 - accuracy: 0.6147 - val_loss: 2.7543 - val_accuracy: 0.4147\n",
            "Epoch 8/50\n",
            "64/64 [==============================] - 9s 136ms/step - loss: 1.3372 - accuracy: 0.6127 - val_loss: 2.8045 - val_accuracy: 0.4098\n",
            "Epoch 9/50\n",
            "64/64 [==============================] - 9s 142ms/step - loss: 1.3195 - accuracy: 0.6010 - val_loss: 2.8076 - val_accuracy: 0.4039\n",
            "Epoch 10/50\n",
            "64/64 [==============================] - 9s 137ms/step - loss: 1.3220 - accuracy: 0.6167 - val_loss: 2.7595 - val_accuracy: 0.4069\n",
            "Epoch 11/50\n",
            "64/64 [==============================] - 10s 145ms/step - loss: 1.2635 - accuracy: 0.6235 - val_loss: 2.8265 - val_accuracy: 0.4157\n",
            "Epoch 12/50\n",
            "64/64 [==============================] - 12s 182ms/step - loss: 1.2623 - accuracy: 0.6206 - val_loss: 2.8408 - val_accuracy: 0.4088\n",
            "Epoch 13/50\n",
            "64/64 [==============================] - 9s 142ms/step - loss: 1.2321 - accuracy: 0.6294 - val_loss: 2.8434 - val_accuracy: 0.4157\n",
            "Epoch 14/50\n",
            "64/64 [==============================] - 9s 136ms/step - loss: 1.2156 - accuracy: 0.6157 - val_loss: 2.8042 - val_accuracy: 0.4059\n",
            "Epoch 15/50\n",
            "64/64 [==============================] - 10s 144ms/step - loss: 1.2162 - accuracy: 0.6422 - val_loss: 2.8027 - val_accuracy: 0.4157\n",
            "Epoch 16/50\n",
            "64/64 [==============================] - 12s 183ms/step - loss: 1.1892 - accuracy: 0.6676 - val_loss: 2.8886 - val_accuracy: 0.3882\n",
            "Epoch 17/50\n",
            "64/64 [==============================] - 9s 134ms/step - loss: 1.2447 - accuracy: 0.6304 - val_loss: 2.7908 - val_accuracy: 0.4088\n",
            "Epoch 18/50\n",
            "64/64 [==============================] - 10s 144ms/step - loss: 1.2065 - accuracy: 0.6314 - val_loss: 2.8089 - val_accuracy: 0.4167\n",
            "Epoch 19/50\n",
            "64/64 [==============================] - 10s 144ms/step - loss: 1.1961 - accuracy: 0.6402 - val_loss: 2.8212 - val_accuracy: 0.4039\n",
            "Epoch 20/50\n",
            "64/64 [==============================] - 10s 152ms/step - loss: 1.1902 - accuracy: 0.6324 - val_loss: 2.8053 - val_accuracy: 0.4157\n",
            "Epoch 21/50\n",
            "64/64 [==============================] - 9s 142ms/step - loss: 1.1724 - accuracy: 0.6363 - val_loss: 2.8399 - val_accuracy: 0.4029\n",
            "Epoch 22/50\n",
            "64/64 [==============================] - 10s 143ms/step - loss: 1.1708 - accuracy: 0.6480 - val_loss: 2.8660 - val_accuracy: 0.3961\n",
            "Epoch 23/50\n",
            "64/64 [==============================] - 9s 138ms/step - loss: 1.2065 - accuracy: 0.6627 - val_loss: 2.8265 - val_accuracy: 0.4029\n",
            "Epoch 24/50\n",
            "64/64 [==============================] - 9s 137ms/step - loss: 1.1497 - accuracy: 0.6529 - val_loss: 2.8099 - val_accuracy: 0.4020\n",
            "Epoch 25/50\n",
            "64/64 [==============================] - 9s 141ms/step - loss: 1.1159 - accuracy: 0.6637 - val_loss: 2.8280 - val_accuracy: 0.4088\n",
            "Epoch 26/50\n",
            "64/64 [==============================] - 9s 136ms/step - loss: 1.1280 - accuracy: 0.6765 - val_loss: 2.8271 - val_accuracy: 0.4176\n",
            "Epoch 27/50\n",
            "64/64 [==============================] - 10s 146ms/step - loss: 1.1372 - accuracy: 0.6569 - val_loss: 2.8351 - val_accuracy: 0.4098\n",
            "Epoch 28/50\n",
            "64/64 [==============================] - 10s 146ms/step - loss: 1.0800 - accuracy: 0.6725 - val_loss: 2.8601 - val_accuracy: 0.4049\n",
            "Epoch 29/50\n",
            "64/64 [==============================] - 12s 185ms/step - loss: 1.1406 - accuracy: 0.6569 - val_loss: 2.8368 - val_accuracy: 0.4069\n",
            "Epoch 30/50\n",
            "64/64 [==============================] - 12s 185ms/step - loss: 1.0630 - accuracy: 0.6824 - val_loss: 2.8976 - val_accuracy: 0.4157\n",
            "Epoch 31/50\n",
            "64/64 [==============================] - 10s 150ms/step - loss: 1.0789 - accuracy: 0.6725 - val_loss: 2.9564 - val_accuracy: 0.4039\n",
            "Epoch 32/50\n",
            "64/64 [==============================] - 9s 143ms/step - loss: 1.1055 - accuracy: 0.6725 - val_loss: 2.8749 - val_accuracy: 0.4167\n",
            "Epoch 33/50\n",
            "64/64 [==============================] - 9s 136ms/step - loss: 1.0782 - accuracy: 0.6794 - val_loss: 2.8672 - val_accuracy: 0.4275\n",
            "Epoch 34/50\n",
            "64/64 [==============================] - 10s 146ms/step - loss: 1.0405 - accuracy: 0.6882 - val_loss: 2.8754 - val_accuracy: 0.4176\n",
            "Epoch 35/50\n",
            "64/64 [==============================] - 9s 140ms/step - loss: 1.0410 - accuracy: 0.6784 - val_loss: 2.9138 - val_accuracy: 0.4078\n",
            "Epoch 36/50\n",
            "64/64 [==============================] - 10s 150ms/step - loss: 1.0027 - accuracy: 0.6980 - val_loss: 2.8901 - val_accuracy: 0.4108\n",
            "Epoch 37/50\n",
            "64/64 [==============================] - 9s 135ms/step - loss: 1.0742 - accuracy: 0.6716 - val_loss: 2.9090 - val_accuracy: 0.4127\n",
            "Epoch 38/50\n",
            "64/64 [==============================] - 10s 146ms/step - loss: 1.0537 - accuracy: 0.6735 - val_loss: 2.9013 - val_accuracy: 0.4078\n",
            "Epoch 39/50\n",
            "64/64 [==============================] - 9s 138ms/step - loss: 1.0841 - accuracy: 0.6735 - val_loss: 2.9511 - val_accuracy: 0.3980\n",
            "Epoch 40/50\n",
            "64/64 [==============================] - 10s 151ms/step - loss: 1.0673 - accuracy: 0.6765 - val_loss: 2.9639 - val_accuracy: 0.4039\n",
            "Epoch 41/50\n",
            "64/64 [==============================] - 9s 143ms/step - loss: 1.0163 - accuracy: 0.6892 - val_loss: 2.9828 - val_accuracy: 0.4069\n",
            "Epoch 42/50\n",
            "64/64 [==============================] - 9s 136ms/step - loss: 1.0371 - accuracy: 0.6833 - val_loss: 2.9109 - val_accuracy: 0.4206\n",
            "Epoch 43/50\n",
            "64/64 [==============================] - 10s 147ms/step - loss: 1.0118 - accuracy: 0.6775 - val_loss: 2.9795 - val_accuracy: 0.4059\n",
            "Epoch 44/50\n",
            "64/64 [==============================] - 10s 146ms/step - loss: 0.9284 - accuracy: 0.7049 - val_loss: 2.9620 - val_accuracy: 0.4127\n",
            "Epoch 45/50\n",
            "64/64 [==============================] - 12s 184ms/step - loss: 1.0580 - accuracy: 0.6775 - val_loss: 2.9427 - val_accuracy: 0.4118\n",
            "Epoch 46/50\n",
            "64/64 [==============================] - 10s 153ms/step - loss: 1.0528 - accuracy: 0.6922 - val_loss: 2.8970 - val_accuracy: 0.4176\n",
            "Epoch 47/50\n",
            "64/64 [==============================] - 9s 143ms/step - loss: 1.0008 - accuracy: 0.6951 - val_loss: 2.9064 - val_accuracy: 0.4324\n",
            "Epoch 48/50\n",
            "64/64 [==============================] - 9s 136ms/step - loss: 1.0450 - accuracy: 0.6676 - val_loss: 2.9375 - val_accuracy: 0.4196\n",
            "Epoch 49/50\n",
            "64/64 [==============================] - 9s 137ms/step - loss: 0.9906 - accuracy: 0.6902 - val_loss: 2.9680 - val_accuracy: 0.4098\n",
            "Epoch 50/50\n",
            "64/64 [==============================] - 9s 139ms/step - loss: 0.9337 - accuracy: 0.7098 - val_loss: 3.0162 - val_accuracy: 0.4059\n"
          ]
        }
      ]
    },
    {
      "cell_type": "code",
      "source": [
        "tloss3 = history.history['loss']\n",
        "vloss3 = history.history['val_loss']\n",
        "tacc3 = history.history['accuracy']\n",
        "vacc3 = history.history['val_accuracy']"
      ],
      "metadata": {
        "id": "ZobFLN36MgYP"
      },
      "execution_count": 39,
      "outputs": []
    },
    {
      "cell_type": "code",
      "source": [
        "model.save('OxfordFlowers102-2.keras')"
      ],
      "metadata": {
        "id": "3tNYk4A0-VT7"
      },
      "execution_count": null,
      "outputs": []
    },
    {
      "cell_type": "code",
      "execution_count": 40,
      "metadata": {
        "id": "4324daheKXsn",
        "outputId": "ad8629e9-98d5-41fa-defa-da13145e832e",
        "colab": {
          "base_uri": "https://localhost:8080/"
        }
      },
      "outputs": [
        {
          "output_type": "stream",
          "name": "stdout",
          "text": [
            "385/385 [==============================] - 13s 34ms/step - loss: 3.4175 - accuracy: 0.3737\n",
            "Test accuracy: 0.37371930480003357\n"
          ]
        }
      ],
      "source": [
        "test_loss, test_acc = model.evaluate(test_batches, verbose=1, batch_size=BATCH_SIZE)\n",
        "print(\"Test accuracy:\", test_acc)"
      ]
    },
    {
      "cell_type": "code",
      "source": [
        "plt.plot(tloss1+tloss2+tloss3)\n",
        "plt.ylim(0,10)\n",
        "plt.plot(vloss1+vloss2+vloss3)\n",
        "plt.title('model loss')\n",
        "plt.ylabel('loss')\n",
        "plt.xlabel('epoch')\n",
        "plt.legend(['train','val'], loc=\"upper left\")\n",
        "plt.show()"
      ],
      "metadata": {
        "id": "2iJRXw8RhICC",
        "outputId": "8b461cb2-c1a4-44f8-f981-e5c29e68d0a8",
        "colab": {
          "base_uri": "https://localhost:8080/",
          "height": 472
        }
      },
      "execution_count": 41,
      "outputs": [
        {
          "output_type": "display_data",
          "data": {
            "text/plain": [
              "<Figure size 640x480 with 1 Axes>"
            ],
            "image/png": "[encoded data removed]"
          },
          "metadata": {}
        }
      ]
    },
    {
      "cell_type": "code",
      "source": [
        "plt.plot(tacc1+tacc2+tacc3)\n",
        "plt.plot(vacc1+vacc2+vacc3)\n",
        "plt.title('model accuracy')\n",
        "plt.ylabel('accuracy')\n",
        "plt.xlabel('epoch')\n",
        "plt.legend(['train','val'], loc=\"upper left\")\n",
        "plt.show()"
      ],
      "metadata": {
        "id": "qMzpr_SZhHbh",
        "outputId": "da476445-a395-4f48-9e74-0a753c5b2f10",
        "colab": {
          "base_uri": "https://localhost:8080/",
          "height": 472
        }
      },
      "execution_count": 42,
      "outputs": [
        {
          "output_type": "display_data",
          "data": {
            "text/plain": [
              "<Figure size 640x480 with 1 Axes>"
            ],
            "image/png": "[encoded data removed]"
          },
          "metadata": {}
        }
      ]
    }
  ],
  "metadata": {
    "accelerator": "GPU",
    "colab": {
      "gpuType": "T4",
      "provenance": [],
      "include_colab_link": true
    },
    "gpuClass": "standard",
    "kernelspec": {
      "display_name": "Python 3",
      "name": "python3"
    },
    "language_info": {
      "codemirror_mode": {
        "name": "ipython",
        "version": 3
      },
      "file_extension": ".py",
      "mimetype": "text/x-python",
      "name": "python",
      "nbconvert_exporter": "python",
      "pygments_lexer": "ipython3",
      "version": "3.11.1"
    }
  },
  "nbformat": 4,
  "nbformat_minor": 0
}