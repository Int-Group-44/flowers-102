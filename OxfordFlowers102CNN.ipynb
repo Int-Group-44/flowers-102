{
  "cells": [
    {
      "cell_type": "markdown",
      "metadata": {
        "id": "view-in-github",
        "colab_type": "text"
      },
      "source": [
        "<a href=\"https://colab.research.google.com/github/Int-Group-44/flowers-102/blob/main/OxfordFlowers102CNN.ipynb\" target=\"_parent\"><img src=\"https://colab.research.google.com/assets/colab-badge.svg\" alt=\"Open In Colab\"/></a>"
      ]
    },
    {
      "cell_type": "code",
      "execution_count": 1,
      "metadata": {
        "id": "egaLH944BBD5"
      },
      "outputs": [],
      "source": [
        "import numpy as np\n",
        "import pandas as pd\n",
        "import tensorflow as tf\n",
        "from tensorflow import keras\n",
        "from keras import layers\n",
        "import tensorflow_datasets as tfds\n",
        "import matplotlib.pyplot as plt\n",
        "#device_name = tf.test.gpu_device_name()\n",
        "#if device_name != '/device:GPU:0':\n",
        "#  raise SystemError('GPU device not found')\n",
        "#print('Found GPU at: {}'.format(device_name))\n",
        "\n",
        "dataset, dataset_info = tfds.load('oxford_flowers102', with_info=True, as_supervised=True)\n",
        "dataset_info\n",
        "test_set, training_set, validation_set = dataset['test'], dataset['train'], dataset['validation']"
      ]
    },
    {
      "cell_type": "code",
      "execution_count": 2,
      "metadata": {
        "colab": {
          "base_uri": "https://localhost:8080/"
        },
        "id": "H8JAGNFt3PGE",
        "outputId": "70f9c138-5f1f-4c97-cdb9-21200ea630e9"
      },
      "outputs": [
        {
          "output_type": "stream",
          "name": "stdout",
          "text": [
            "Physical devices cannot be modified after being initialized\n",
            "[PhysicalDevice(name='/physical_device:GPU:0', device_type='GPU')]\n"
          ]
        }
      ],
      "source": [
        "import tensorflow as tf\n",
        "tf.config.experimental.list_physical_devices('GPU')\n",
        "gpus = tf.config.experimental.list_physical_devices('GPU')\n",
        "if gpus:\n",
        "  try:\n",
        "    for gpu in gpus:\n",
        "      tf.config.experimental.set_memory_growth(gpu, True)\n",
        "  except RuntimeError as e:\n",
        "    print(e)\n",
        "\n",
        "print(gpus)"
      ]
    },
    {
      "cell_type": "markdown",
      "metadata": {
        "id": "hgSxJm7OYeKN"
      },
      "source": [
        "Importing TensorFlow "
      ]
    },
    {
      "cell_type": "code",
      "execution_count": 3,
      "metadata": {
        "id": "ql9q6LSWMZRk"
      },
      "outputs": [],
      "source": [
        "num_classes = dataset_info.features['label'].num_classes\n",
        "num_training_examples = 1020\n",
        "num_validation_examples = 1020"
      ]
    },
    {
      "cell_type": "code",
      "execution_count": 4,
      "metadata": {
        "id": "xwksk4asQhtr"
      },
      "outputs": [],
      "source": [
        "IMAGE_RES = 224\n",
        "\n",
        "def format_image(image, label):\n",
        "    image = tf.image.resize(image, (IMAGE_RES, IMAGE_RES))/255.0\n",
        "    #label = tf.one_hot(label, depth=num_classes)\n",
        "    return image, label\n",
        "BATCH_SIZE = 64\n",
        "train_batches = training_set.shuffle(num_training_examples//4).map(format_image).batch(BATCH_SIZE).prefetch(1)\n",
        "validation_batches = validation_set.shuffle(num_validation_examples//4).map(format_image).batch(BATCH_SIZE).prefetch(1)\n",
        "test_batches = test_set.map(format_image).batch(BATCH_SIZE).prefetch(1)\n"
      ]
    },
    {
      "cell_type": "code",
      "execution_count": 21,
      "metadata": {
        "id": "9WgfAXPgjFd5"
      },
      "outputs": [],
      "source": [
        "def make_model(input_shape, num_classes):\n",
        "  model = tf.keras.Sequential()\n",
        "  model.add(layers.RandomFlip(\"horizontal\", input_shape=input_shape))\n",
        "  model.add(layers.RandomRotation(20))\n",
        "  model.add(layers.RandomZoom(0.2))\n",
        "  #model.add(layers.RandomContrast(factor=(0.0, 0.1)))\n",
        "  model.add(layers.Conv2D(64, 3, padding='same', activation='relu')) #64 filters, kernel size 3x3, stride = 1\n",
        "  model.add(layers.BatchNormalization())\n",
        "  model.add(layers.Conv2D(64, 3, padding='same', activation='relu')) \n",
        "  model.add(layers.BatchNormalization())\n",
        "  model.add(layers.MaxPooling2D())                                   #2x2 pooling, stride of 2\n",
        "  model.add(layers.Conv2D(128, 3, padding='same', activation='relu'))\n",
        "  model.add(layers.BatchNormalization())\n",
        "  model.add(layers.Conv2D(128, 3, padding='same', activation='relu'))\n",
        "  model.add(layers.BatchNormalization())\n",
        "  model.add(layers.MaxPooling2D())\n",
        "  model.add(layers.Conv2D(256, 3, padding='same', activation='relu'))\n",
        "  model.add(layers.BatchNormalization())\n",
        "  model.add(layers.Conv2D(256, 3, padding='same', activation='relu'))\n",
        "  model.add(layers.BatchNormalization())\n",
        "  model.add(layers.Conv2D(256, 3, padding='same', activation='relu'))\n",
        "  model.add(layers.BatchNormalization())\n",
        "  model.add(layers.MaxPooling2D())\n",
        "  model.add(layers.Conv2D(512, 3, padding='same', activation='relu'))\n",
        "  model.add(layers.BatchNormalization())\n",
        "  model.add(layers.Conv2D(512, 3, padding='same', activation='relu'))\n",
        "  model.add(layers.BatchNormalization())\n",
        "  model.add(layers.Conv2D(512, 3, padding='same', activation='relu'))\n",
        "  model.add(layers.BatchNormalization())\n",
        "  model.add(layers.MaxPooling2D())\n",
        "  model.add(layers.Conv2D(512, 3, padding='same', activation='relu'))\n",
        "  model.add(layers.BatchNormalization())\n",
        "  model.add(layers.Conv2D(512, 3, padding='same', activation='relu'))\n",
        "  model.add(layers.BatchNormalization())\n",
        "  model.add(layers.Conv2D(512, 3, padding='same', activation='relu'))\n",
        "  model.add(layers.BatchNormalization())\n",
        "  model.add(layers.MaxPooling2D())\n",
        "  model.add(layers.Flatten())\n",
        "  model.add(layers.Dense(4096, activation='relu'))\n",
        "  #model.add(layers.Dropout(0.2))\n",
        "  model.add(layers.Dense(4096, activation='relu'))\n",
        "  #model.add(layers.Dropout(0.2))\n",
        "  model.add(layers.Dense(1024, activation='relu'))\n",
        "  #model.add(layers.Dropout(0.2))\n",
        "  model.add(layers.Dense(num_classes))\n",
        "  return model\n"
      ]
    },
    {
      "cell_type": "code",
      "execution_count": 22,
      "metadata": {
        "id": "tF9v2wo9F8LW"
      },
      "outputs": [],
      "source": [
        "tf.keras.backend.clear_session()"
      ]
    },
    {
      "cell_type": "code",
      "execution_count": 23,
      "metadata": {
        "colab": {
          "base_uri": "https://localhost:8080/",
          "height": 1000
        },
        "id": "pumHmqXelH38",
        "outputId": "c8aca8c6-1465-411d-e977-9a24ef4e0bfd"
      },
      "outputs": [
        {
          "output_type": "stream",
          "name": "stdout",
          "text": [
            "Epoch 1/150\n",
            "32/32 [==============================] - 25s 642ms/step - loss: 4.8387 - accuracy: 0.0245 - val_loss: 4.6272 - val_accuracy: 0.0098 - lr: 0.0100\n",
            "Epoch 2/150\n",
            "32/32 [==============================] - 21s 634ms/step - loss: 4.1033 - accuracy: 0.0676 - val_loss: 4.6461 - val_accuracy: 0.0098 - lr: 0.0100\n",
            "Epoch 3/150\n",
            "32/32 [==============================] - 21s 649ms/step - loss: 3.6863 - accuracy: 0.1333 - val_loss: 4.6891 - val_accuracy: 0.0098 - lr: 0.0100\n",
            "Epoch 4/150\n",
            "32/32 [==============================] - 21s 650ms/step - loss: 3.3747 - accuracy: 0.1794 - val_loss: 4.8977 - val_accuracy: 0.0157 - lr: 0.0100\n",
            "Epoch 5/150\n",
            "32/32 [==============================] - 21s 650ms/step - loss: 2.8679 - accuracy: 0.2784 - val_loss: 5.0753 - val_accuracy: 0.0098 - lr: 0.0050\n",
            "Epoch 6/150\n",
            "32/32 [==============================] - 20s 630ms/step - loss: 2.6222 - accuracy: 0.3294 - val_loss: 5.1993 - val_accuracy: 0.0098 - lr: 0.0050\n",
            "Epoch 7/150\n",
            "32/32 [==============================] - 21s 650ms/step - loss: 2.4429 - accuracy: 0.3657 - val_loss: 5.3537 - val_accuracy: 0.0127 - lr: 0.0050\n",
            "Epoch 8/150\n",
            "32/32 [==============================] - 21s 654ms/step - loss: 2.1407 - accuracy: 0.4529 - val_loss: 5.4911 - val_accuracy: 0.0127 - lr: 0.0025\n",
            "Epoch 9/150\n",
            "32/32 [==============================] - 21s 646ms/step - loss: 2.0496 - accuracy: 0.4451 - val_loss: 5.5064 - val_accuracy: 0.0176 - lr: 0.0025\n",
            "Epoch 10/150\n",
            "32/32 [==============================] - 21s 650ms/step - loss: 1.9233 - accuracy: 0.5098 - val_loss: 5.2469 - val_accuracy: 0.0294 - lr: 0.0025\n",
            "Epoch 11/150\n",
            "32/32 [==============================] - 21s 638ms/step - loss: 1.7189 - accuracy: 0.5461 - val_loss: 5.1475 - val_accuracy: 0.0343 - lr: 0.0012\n",
            "Epoch 12/150\n",
            "32/32 [==============================] - 21s 641ms/step - loss: 1.7008 - accuracy: 0.5627 - val_loss: 4.8332 - val_accuracy: 0.0490 - lr: 0.0012\n",
            "Epoch 13/150\n",
            "32/32 [==============================] - 21s 650ms/step - loss: 1.6494 - accuracy: 0.5627 - val_loss: 4.4394 - val_accuracy: 0.0882 - lr: 0.0012\n",
            "Epoch 14/150\n",
            "32/32 [==============================] - 21s 647ms/step - loss: 1.5738 - accuracy: 0.5784 - val_loss: 4.0882 - val_accuracy: 0.1206 - lr: 0.0012\n",
            "Epoch 15/150\n",
            "32/32 [==============================] - 21s 651ms/step - loss: 1.5862 - accuracy: 0.5843 - val_loss: 3.6725 - val_accuracy: 0.1794 - lr: 0.0012\n",
            "Epoch 16/150\n",
            "32/32 [==============================] - 21s 646ms/step - loss: 1.5713 - accuracy: 0.5922 - val_loss: 3.5005 - val_accuracy: 0.1990 - lr: 0.0012\n",
            "Epoch 17/150\n",
            "32/32 [==============================] - 21s 649ms/step - loss: 1.4420 - accuracy: 0.6333 - val_loss: 3.2276 - val_accuracy: 0.2578 - lr: 0.0012\n",
            "Epoch 18/150\n",
            "32/32 [==============================] - 21s 645ms/step - loss: 1.4544 - accuracy: 0.5980 - val_loss: 3.1429 - val_accuracy: 0.2814 - lr: 0.0012\n",
            "Epoch 19/150\n",
            "32/32 [==============================] - 21s 632ms/step - loss: 1.3878 - accuracy: 0.6402 - val_loss: 2.9403 - val_accuracy: 0.3235 - lr: 0.0012\n",
            "Epoch 20/150\n",
            "32/32 [==============================] - 21s 645ms/step - loss: 1.3735 - accuracy: 0.6392 - val_loss: 2.9507 - val_accuracy: 0.3255 - lr: 0.0012\n",
            "Epoch 21/150\n",
            "32/32 [==============================] - 21s 638ms/step - loss: 1.2939 - accuracy: 0.6451 - val_loss: 2.9193 - val_accuracy: 0.3275 - lr: 0.0012\n",
            "Epoch 22/150\n",
            "32/32 [==============================] - 21s 649ms/step - loss: 1.3170 - accuracy: 0.6569 - val_loss: 2.8781 - val_accuracy: 0.3353 - lr: 0.0012\n",
            "Epoch 23/150\n",
            "32/32 [==============================] - 21s 651ms/step - loss: 1.2530 - accuracy: 0.6824 - val_loss: 2.8803 - val_accuracy: 0.3314 - lr: 0.0012\n",
            "Epoch 24/150\n",
            "32/32 [==============================] - 21s 652ms/step - loss: 1.2189 - accuracy: 0.6833 - val_loss: 2.8701 - val_accuracy: 0.3520 - lr: 0.0012\n",
            "Epoch 25/150\n",
            "32/32 [==============================] - 21s 642ms/step - loss: 1.2039 - accuracy: 0.6990 - val_loss: 2.9469 - val_accuracy: 0.3304 - lr: 0.0012\n",
            "Epoch 26/150\n",
            "32/32 [==============================] - 21s 658ms/step - loss: 1.1685 - accuracy: 0.7010 - val_loss: 2.8530 - val_accuracy: 0.3549 - lr: 0.0012\n",
            "Epoch 27/150\n",
            "32/32 [==============================] - 21s 641ms/step - loss: 1.0751 - accuracy: 0.7167 - val_loss: 2.9025 - val_accuracy: 0.3549 - lr: 0.0012\n",
            "Epoch 28/150\n",
            "32/32 [==============================] - 21s 654ms/step - loss: 1.1438 - accuracy: 0.7049 - val_loss: 2.8922 - val_accuracy: 0.3441 - lr: 0.0012\n",
            "Epoch 29/150\n",
            "32/32 [==============================] - 21s 653ms/step - loss: 1.0695 - accuracy: 0.7176 - val_loss: 2.9233 - val_accuracy: 0.3549 - lr: 0.0012\n",
            "Epoch 30/150\n",
            "32/32 [==============================] - 21s 650ms/step - loss: 0.9992 - accuracy: 0.7598 - val_loss: 2.8403 - val_accuracy: 0.3608 - lr: 6.2500e-04\n",
            "Epoch 31/150\n",
            "32/32 [==============================] - 21s 652ms/step - loss: 0.9558 - accuracy: 0.7696 - val_loss: 2.8369 - val_accuracy: 0.3618 - lr: 6.2500e-04\n",
            "Epoch 32/150\n",
            "32/32 [==============================] - 21s 655ms/step - loss: 0.9381 - accuracy: 0.7696 - val_loss: 2.8402 - val_accuracy: 0.3637 - lr: 6.2500e-04\n",
            "Epoch 33/150\n",
            "32/32 [==============================] - 21s 649ms/step - loss: 0.9350 - accuracy: 0.7686 - val_loss: 2.8508 - val_accuracy: 0.3627 - lr: 6.2500e-04\n",
            "Epoch 34/150\n",
            "32/32 [==============================] - 21s 636ms/step - loss: 0.9145 - accuracy: 0.7765 - val_loss: 2.8466 - val_accuracy: 0.3598 - lr: 6.2500e-04\n",
            "Epoch 35/150\n",
            "32/32 [==============================] - 21s 641ms/step - loss: 0.8958 - accuracy: 0.7853 - val_loss: 2.8658 - val_accuracy: 0.3618 - lr: 3.1250e-04\n",
            "Epoch 36/150\n",
            "32/32 [==============================] - 21s 635ms/step - loss: 0.8434 - accuracy: 0.8069 - val_loss: 2.8513 - val_accuracy: 0.3559 - lr: 3.1250e-04\n",
            "Epoch 37/150\n",
            "32/32 [==============================] - 21s 651ms/step - loss: 0.8629 - accuracy: 0.7912 - val_loss: 2.8605 - val_accuracy: 0.3667 - lr: 3.1250e-04\n",
            "Epoch 38/150\n",
            "32/32 [==============================] - 26s 819ms/step - loss: 0.8164 - accuracy: 0.8108 - val_loss: 2.8565 - val_accuracy: 0.3716 - lr: 1.5625e-04\n",
            "Epoch 39/150\n",
            "32/32 [==============================] - 21s 652ms/step - loss: 0.8348 - accuracy: 0.8216 - val_loss: 2.8524 - val_accuracy: 0.3676 - lr: 1.5625e-04\n",
            "Epoch 40/150\n",
            "32/32 [==============================] - 21s 648ms/step - loss: 0.7897 - accuracy: 0.8196 - val_loss: 2.8552 - val_accuracy: 0.3716 - lr: 1.5625e-04\n",
            "Epoch 41/150\n",
            "32/32 [==============================] - 21s 645ms/step - loss: 0.8052 - accuracy: 0.8157 - val_loss: 2.8516 - val_accuracy: 0.3716 - lr: 7.8125e-05\n",
            "Epoch 42/150\n",
            "32/32 [==============================] - 21s 631ms/step - loss: 0.8036 - accuracy: 0.8020 - val_loss: 2.8526 - val_accuracy: 0.3676 - lr: 7.8125e-05\n",
            "Epoch 43/150\n",
            "32/32 [==============================] - 21s 641ms/step - loss: 0.8307 - accuracy: 0.8088 - val_loss: 2.8565 - val_accuracy: 0.3696 - lr: 7.8125e-05\n",
            "Epoch 44/150\n",
            "32/32 [==============================] - 21s 642ms/step - loss: 0.8180 - accuracy: 0.8196 - val_loss: 2.8578 - val_accuracy: 0.3637 - lr: 3.9062e-05\n",
            "Epoch 45/150\n",
            "32/32 [==============================] - 21s 640ms/step - loss: 0.7952 - accuracy: 0.8176 - val_loss: 2.8560 - val_accuracy: 0.3676 - lr: 3.9062e-05\n",
            "Epoch 46/150\n",
            "32/32 [==============================] - 21s 641ms/step - loss: 0.7665 - accuracy: 0.8392 - val_loss: 2.8575 - val_accuracy: 0.3647 - lr: 3.9062e-05\n",
            "Epoch 47/150\n",
            "32/32 [==============================] - 21s 645ms/step - loss: 0.8305 - accuracy: 0.8010 - val_loss: 2.8570 - val_accuracy: 0.3647 - lr: 1.9531e-05\n",
            "Epoch 48/150\n",
            "32/32 [==============================] - 21s 641ms/step - loss: 0.7995 - accuracy: 0.8157 - val_loss: 2.8558 - val_accuracy: 0.3637 - lr: 1.9531e-05\n",
            "Epoch 49/150\n",
            "32/32 [==============================] - 21s 635ms/step - loss: 0.7973 - accuracy: 0.8294 - val_loss: 2.8584 - val_accuracy: 0.3647 - lr: 1.9531e-05\n",
            "Epoch 50/150\n",
            "32/32 [==============================] - 21s 647ms/step - loss: 0.8217 - accuracy: 0.8049 - val_loss: 2.8581 - val_accuracy: 0.3647 - lr: 9.7656e-06\n",
            "Epoch 51/150\n",
            "32/32 [==============================] - 21s 646ms/step - loss: 0.7834 - accuracy: 0.8235 - val_loss: 2.8600 - val_accuracy: 0.3647 - lr: 9.7656e-06\n",
            "Epoch 52/150\n",
            "32/32 [==============================] - 21s 639ms/step - loss: 0.7604 - accuracy: 0.8363 - val_loss: 2.8591 - val_accuracy: 0.3647 - lr: 9.7656e-06\n",
            "Epoch 53/150\n",
            "32/32 [==============================] - 21s 653ms/step - loss: 0.7775 - accuracy: 0.8167 - val_loss: 2.8596 - val_accuracy: 0.3637 - lr: 4.8828e-06\n"
          ]
        },
        {
          "output_type": "error",
          "ename": "KeyboardInterrupt",
          "evalue": "ignored",
          "traceback": [
            "\u001b[0;31m---------------------------------------------------------------------------\u001b[0m",
            "\u001b[0;31mKeyboardInterrupt\u001b[0m                         Traceback (most recent call last)",
            "\u001b[0;32m<ipython-input-23-86b3b7a21040>\u001b[0m in \u001b[0;36m<cell line: 14>\u001b[0;34m()\u001b[0m\n\u001b[1;32m     12\u001b[0m )\n\u001b[1;32m     13\u001b[0m \u001b[0;34m\u001b[0m\u001b[0m\n\u001b[0;32m---> 14\u001b[0;31m model.fit(\n\u001b[0m\u001b[1;32m     15\u001b[0m     \u001b[0mtrain_batches\u001b[0m\u001b[0;34m,\u001b[0m\u001b[0;34m\u001b[0m\u001b[0;34m\u001b[0m\u001b[0m\n\u001b[1;32m     16\u001b[0m     \u001b[0mepochs\u001b[0m\u001b[0;34m=\u001b[0m\u001b[0mepochs\u001b[0m\u001b[0;34m,\u001b[0m\u001b[0;34m\u001b[0m\u001b[0;34m\u001b[0m\u001b[0m\n",
            "\u001b[0;32m/usr/local/lib/python3.10/dist-packages/keras/utils/traceback_utils.py\u001b[0m in \u001b[0;36merror_handler\u001b[0;34m(*args, **kwargs)\u001b[0m\n\u001b[1;32m     63\u001b[0m         \u001b[0mfiltered_tb\u001b[0m \u001b[0;34m=\u001b[0m \u001b[0;32mNone\u001b[0m\u001b[0;34m\u001b[0m\u001b[0;34m\u001b[0m\u001b[0m\n\u001b[1;32m     64\u001b[0m         \u001b[0;32mtry\u001b[0m\u001b[0;34m:\u001b[0m\u001b[0;34m\u001b[0m\u001b[0;34m\u001b[0m\u001b[0m\n\u001b[0;32m---> 65\u001b[0;31m             \u001b[0;32mreturn\u001b[0m \u001b[0mfn\u001b[0m\u001b[0;34m(\u001b[0m\u001b[0;34m*\u001b[0m\u001b[0margs\u001b[0m\u001b[0;34m,\u001b[0m \u001b[0;34m**\u001b[0m\u001b[0mkwargs\u001b[0m\u001b[0;34m)\u001b[0m\u001b[0;34m\u001b[0m\u001b[0;34m\u001b[0m\u001b[0m\n\u001b[0m\u001b[1;32m     66\u001b[0m         \u001b[0;32mexcept\u001b[0m \u001b[0mException\u001b[0m \u001b[0;32mas\u001b[0m \u001b[0me\u001b[0m\u001b[0;34m:\u001b[0m\u001b[0;34m\u001b[0m\u001b[0;34m\u001b[0m\u001b[0m\n\u001b[1;32m     67\u001b[0m             \u001b[0mfiltered_tb\u001b[0m \u001b[0;34m=\u001b[0m \u001b[0m_process_traceback_frames\u001b[0m\u001b[0;34m(\u001b[0m\u001b[0me\u001b[0m\u001b[0;34m.\u001b[0m\u001b[0m__traceback__\u001b[0m\u001b[0;34m)\u001b[0m\u001b[0;34m\u001b[0m\u001b[0;34m\u001b[0m\u001b[0m\n",
            "\u001b[0;32m/usr/local/lib/python3.10/dist-packages/keras/engine/training.py\u001b[0m in \u001b[0;36mfit\u001b[0;34m(self, x, y, batch_size, epochs, verbose, callbacks, validation_split, validation_data, shuffle, class_weight, sample_weight, initial_epoch, steps_per_epoch, validation_steps, validation_batch_size, validation_freq, max_queue_size, workers, use_multiprocessing)\u001b[0m\n\u001b[1;32m   1671\u001b[0m             \u001b[0mlogs\u001b[0m \u001b[0;34m=\u001b[0m \u001b[0;32mNone\u001b[0m\u001b[0;34m\u001b[0m\u001b[0;34m\u001b[0m\u001b[0m\n\u001b[1;32m   1672\u001b[0m             \u001b[0;32mfor\u001b[0m \u001b[0mepoch\u001b[0m\u001b[0;34m,\u001b[0m \u001b[0miterator\u001b[0m \u001b[0;32min\u001b[0m \u001b[0mdata_handler\u001b[0m\u001b[0;34m.\u001b[0m\u001b[0menumerate_epochs\u001b[0m\u001b[0;34m(\u001b[0m\u001b[0;34m)\u001b[0m\u001b[0;34m:\u001b[0m\u001b[0;34m\u001b[0m\u001b[0;34m\u001b[0m\u001b[0m\n\u001b[0;32m-> 1673\u001b[0;31m                 \u001b[0mself\u001b[0m\u001b[0;34m.\u001b[0m\u001b[0mreset_metrics\u001b[0m\u001b[0;34m(\u001b[0m\u001b[0;34m)\u001b[0m\u001b[0;34m\u001b[0m\u001b[0;34m\u001b[0m\u001b[0m\n\u001b[0m\u001b[1;32m   1674\u001b[0m                 \u001b[0mcallbacks\u001b[0m\u001b[0;34m.\u001b[0m\u001b[0mon_epoch_begin\u001b[0m\u001b[0;34m(\u001b[0m\u001b[0mepoch\u001b[0m\u001b[0;34m)\u001b[0m\u001b[0;34m\u001b[0m\u001b[0;34m\u001b[0m\u001b[0m\n\u001b[1;32m   1675\u001b[0m                 \u001b[0;32mwith\u001b[0m \u001b[0mdata_handler\u001b[0m\u001b[0;34m.\u001b[0m\u001b[0mcatch_stop_iteration\u001b[0m\u001b[0;34m(\u001b[0m\u001b[0;34m)\u001b[0m\u001b[0;34m:\u001b[0m\u001b[0;34m\u001b[0m\u001b[0;34m\u001b[0m\u001b[0m\n",
            "\u001b[0;32m/usr/local/lib/python3.10/dist-packages/keras/engine/training.py\u001b[0m in \u001b[0;36mreset_metrics\u001b[0;34m(self)\u001b[0m\n\u001b[1;32m   2426\u001b[0m         \u001b[0;32mreturn\u001b[0m \u001b[0mtf_utils\u001b[0m\u001b[0;34m.\u001b[0m\u001b[0msync_to_numpy_or_python_type\u001b[0m\u001b[0;34m(\u001b[0m\u001b[0mall_outputs\u001b[0m\u001b[0;34m)\u001b[0m\u001b[0;34m\u001b[0m\u001b[0;34m\u001b[0m\u001b[0m\n\u001b[1;32m   2427\u001b[0m \u001b[0;34m\u001b[0m\u001b[0m\n\u001b[0;32m-> 2428\u001b[0;31m     \u001b[0;32mdef\u001b[0m \u001b[0mreset_metrics\u001b[0m\u001b[0;34m(\u001b[0m\u001b[0mself\u001b[0m\u001b[0;34m)\u001b[0m\u001b[0;34m:\u001b[0m\u001b[0;34m\u001b[0m\u001b[0;34m\u001b[0m\u001b[0m\n\u001b[0m\u001b[1;32m   2429\u001b[0m         \"\"\"Resets the state of all the metrics in the model.\n\u001b[1;32m   2430\u001b[0m \u001b[0;34m\u001b[0m\u001b[0m\n",
            "\u001b[0;31mKeyboardInterrupt\u001b[0m: "
          ]
        }
      ],
      "source": [
        "model = make_model(input_shape=(IMAGE_RES, IMAGE_RES) + (3,), num_classes=102)\n",
        "#keras.utils.plot_model(model, show_shapes=True)\n",
        "\n",
        "epochs = 150\n",
        "\n",
        "reduce_lr = tf.keras.callbacks.ReduceLROnPlateau(monitor='val_loss', factor=0.5, patience=3, min_lr=0.000001)\n",
        "\n",
        "model.compile(\n",
        "    optimizer=tf.keras.optimizers.SGD(),\n",
        "    loss=tf.keras.losses.SparseCategoricalCrossentropy(from_logits=True),\n",
        "    metrics=[\"accuracy\"],\n",
        ")\n",
        "\n",
        "model.fit(\n",
        "    train_batches,\n",
        "    epochs=epochs,\n",
        "    validation_data=validation_batches,\n",
        "    batch_size=BATCH_SIZE,\n",
        "    validation_batch_size=BATCH_SIZE,\n",
        "    verbose=1,\n",
        "    callbacks=[reduce_lr]\n",
        ")"
      ]
    },
    {
      "cell_type": "code",
      "source": [
        "model.save('OxfordFlowers102-2.keras')"
      ],
      "metadata": {
        "id": "3tNYk4A0-VT7"
      },
      "execution_count": 15,
      "outputs": []
    },
    {
      "cell_type": "code",
      "execution_count": 8,
      "metadata": {
        "colab": {
          "base_uri": "https://localhost:8080/"
        },
        "id": "4324daheKXsn",
        "outputId": "76f52dbc-a7ed-410a-a2d2-9cf1425db1ed"
      },
      "outputs": [
        {
          "output_type": "stream",
          "name": "stdout",
          "text": [
            "193/193 [==============================] - 27s 140ms/step - loss: 3.2010 - accuracy: 0.2420\n",
            "Test accuracy: 0.2419905662536621\n"
          ]
        }
      ],
      "source": [
        "test_loss, test_acc = model.evaluate(test_batches, verbose=1, batch_size=BATCH_SIZE)\n",
        "print(\"Test accuracy:\", test_acc)"
      ]
    }
  ],
  "metadata": {
    "accelerator": "GPU",
    "colab": {
      "gpuType": "T4",
      "provenance": [],
      "include_colab_link": true
    },
    "gpuClass": "standard",
    "kernelspec": {
      "display_name": "Python 3",
      "name": "python3"
    },
    "language_info": {
      "codemirror_mode": {
        "name": "ipython",
        "version": 3
      },
      "file_extension": ".py",
      "mimetype": "text/x-python",
      "name": "python",
      "nbconvert_exporter": "python",
      "pygments_lexer": "ipython3",
      "version": "3.11.1"
    }
  },
  "nbformat": 4,
  "nbformat_minor": 0
}