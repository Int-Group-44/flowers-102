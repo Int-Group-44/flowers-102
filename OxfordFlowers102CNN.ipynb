{
  "cells": [
    {
      "cell_type": "markdown",
      "metadata": {
        "id": "view-in-github",
        "colab_type": "text"
      },
      "source": [
        "<a href=\"https://colab.research.google.com/github/Int-Group-44/flowers-102/blob/main/OxfordFlowers102CNN.ipynb\" target=\"_parent\"><img src=\"https://colab.research.google.com/assets/colab-badge.svg\" alt=\"Open In Colab\"/></a>"
      ]
    },
    {
      "cell_type": "code",
      "execution_count": 1,
      "metadata": {
        "id": "egaLH944BBD5"
      },
      "outputs": [],
      "source": [
        "import numpy as np\n",
        "import pandas as pd\n",
        "import tensorflow as tf\n",
        "from tensorflow import keras\n",
        "from keras import layers\n",
        "import tensorflow_datasets as tfds\n",
        "import matplotlib.pyplot as plt\n",
        "#device_name = tf.test.gpu_device_name()\n",
        "#if device_name != '/device:GPU:0':\n",
        "#  raise SystemError('GPU device not found')\n",
        "#print('Found GPU at: {}'.format(device_name))\n",
        "\n",
        "dataset, dataset_info = tfds.load('oxford_flowers102', with_info=True, as_supervised=True)\n",
        "dataset_info\n",
        "test_set, training_set, validation_set = dataset['test'], dataset['train'], dataset['validation']"
      ]
    },
    {
      "cell_type": "code",
      "execution_count": 2,
      "metadata": {
        "colab": {
          "base_uri": "https://localhost:8080/"
        },
        "id": "H8JAGNFt3PGE",
        "outputId": "70f9c138-5f1f-4c97-cdb9-21200ea630e9"
      },
      "outputs": [
        {
          "output_type": "stream",
          "name": "stdout",
          "text": [
            "Physical devices cannot be modified after being initialized\n",
            "[PhysicalDevice(name='/physical_device:GPU:0', device_type='GPU')]\n"
          ]
        }
      ],
      "source": [
        "import tensorflow as tf\n",
        "tf.config.experimental.list_physical_devices('GPU')\n",
        "gpus = tf.config.experimental.list_physical_devices('GPU')\n",
        "if gpus:\n",
        "  try:\n",
        "    for gpu in gpus:\n",
        "      tf.config.experimental.set_memory_growth(gpu, True)\n",
        "  except RuntimeError as e:\n",
        "    print(e)\n",
        "\n",
        "print(gpus)"
      ]
    },
    {
      "cell_type": "markdown",
      "metadata": {
        "id": "hgSxJm7OYeKN"
      },
      "source": [
        "Importing TensorFlow "
      ]
    },
    {
      "cell_type": "code",
      "execution_count": 3,
      "metadata": {
        "id": "ql9q6LSWMZRk"
      },
      "outputs": [],
      "source": [
        "num_classes = dataset_info.features['label'].num_classes\n",
        "num_training_examples = 1020\n",
        "num_validation_examples = 1020"
      ]
    },
    {
      "cell_type": "code",
      "execution_count": 4,
      "metadata": {
        "id": "xwksk4asQhtr"
      },
      "outputs": [],
      "source": [
        "IMAGE_RES = 224\n",
        "\n",
        "def format_image(image, label):\n",
        "    image = tf.image.resize(image, (IMAGE_RES, IMAGE_RES))/255.0\n",
        "    #label = tf.one_hot(label, depth=num_classes)\n",
        "    return image, label\n",
        "BATCH_SIZE = 32\n",
        "train_batches = training_set.shuffle(num_training_examples//4).map(format_image).batch(BATCH_SIZE).prefetch(1)\n",
        "validation_batches = validation_set.shuffle(num_validation_examples//4).map(format_image).batch(BATCH_SIZE).prefetch(1)\n",
        "test_batches = test_set.map(format_image).batch(BATCH_SIZE).prefetch(1)\n"
      ]
    },
    {
      "cell_type": "code",
      "execution_count": 14,
      "metadata": {
        "id": "9WgfAXPgjFd5"
      },
      "outputs": [],
      "source": [
        "def make_model(input_shape, num_classes):\n",
        "  model = tf.keras.Sequential()\n",
        "  model.add(layers.RandomFlip(\"horizontal\", input_shape=input_shape))\n",
        "  model.add(layers.RandomRotation(20))\n",
        "  model.add(layers.RandomZoom(0.2))\n",
        "  #model.add(layers.RandomContrast(factor=(0.0, 0.1)))\n",
        "  model.add(layers.Conv2D(64, 3, padding='same', activation='relu')) #64 filters, kernel size 3x3, stride = 1\n",
        "  model.add(layers.BatchNormalization())\n",
        "  model.add(layers.Conv2D(64, 3, padding='same', activation='relu')) \n",
        "  model.add(layers.BatchNormalization())\n",
        "  model.add(layers.MaxPooling2D())                                   #2x2 pooling, stride of 2\n",
        "  model.add(layers.Conv2D(128, 3, padding='same', activation='relu'))\n",
        "  model.add(layers.BatchNormalization())\n",
        "  model.add(layers.Conv2D(128, 3, padding='same', activation='relu'))\n",
        "  model.add(layers.BatchNormalization())\n",
        "  model.add(layers.MaxPooling2D())\n",
        "  model.add(layers.Conv2D(256, 3, padding='same', activation='relu'))\n",
        "  model.add(layers.BatchNormalization())\n",
        "  model.add(layers.Conv2D(256, 3, padding='same', activation='relu'))\n",
        "  model.add(layers.BatchNormalization())\n",
        "  model.add(layers.Conv2D(256, 3, padding='same', activation='relu'))\n",
        "  model.add(layers.BatchNormalization())\n",
        "  model.add(layers.MaxPooling2D())\n",
        "  model.add(layers.Conv2D(512, 3, padding='same', activation='relu'))\n",
        "  model.add(layers.BatchNormalization())\n",
        "  model.add(layers.Conv2D(512, 3, padding='same', activation='relu'))\n",
        "  model.add(layers.BatchNormalization())\n",
        "  model.add(layers.Conv2D(512, 3, padding='same', activation='relu'))\n",
        "  model.add(layers.BatchNormalization())\n",
        "  model.add(layers.MaxPooling2D())\n",
        "  model.add(layers.Conv2D(512, 3, padding='same', activation='relu'))\n",
        "  model.add(layers.BatchNormalization())\n",
        "  model.add(layers.Conv2D(512, 3, padding='same', activation='relu'))\n",
        "  model.add(layers.BatchNormalization())\n",
        "  model.add(layers.Conv2D(512, 3, padding='same', activation='relu'))\n",
        "  model.add(layers.BatchNormalization())\n",
        "  model.add(layers.MaxPooling2D())\n",
        "  model.add(layers.Flatten())\n",
        "  model.add(layers.Dense(4096, activation='relu'))\n",
        "  model.add(layers.Dropout(0.4))\n",
        "  model.add(layers.Dense(4096, activation='relu'))\n",
        "  model.add(layers.Dropout(0.4))\n",
        "  model.add(layers.Dense(1024, activation='relu'))\n",
        "  model.add(layers.Dropout(0.4))\n",
        "  model.add(layers.Dense(num_classes))\n",
        "  return model\n"
      ]
    },
    {
      "cell_type": "code",
      "execution_count": 15,
      "metadata": {
        "id": "tF9v2wo9F8LW"
      },
      "outputs": [],
      "source": [
        "tf.keras.backend.clear_session()"
      ]
    },
    {
      "cell_type": "code",
      "execution_count": null,
      "metadata": {
        "colab": {
          "base_uri": "https://localhost:8080/"
        },
        "id": "pumHmqXelH38",
        "outputId": "d02acf65-c8c0-440d-98ea-8ef6e6b90e0f"
      },
      "outputs": [
        {
          "output_type": "stream",
          "name": "stdout",
          "text": [
            "Epoch 1/150\n",
            "32/32 [==============================] - 26s 649ms/step - loss: 5.7721 - accuracy: 0.0147 - val_loss: 4.6278 - val_accuracy: 0.0167 - lr: 0.0100\n",
            "Epoch 2/150\n",
            "32/32 [==============================] - 21s 636ms/step - loss: 4.8773 - accuracy: 0.0196 - val_loss: 4.6054 - val_accuracy: 0.0225 - lr: 0.0100\n",
            "Epoch 3/150\n",
            "32/32 [==============================] - 20s 624ms/step - loss: 4.6793 - accuracy: 0.0294 - val_loss: 4.6054 - val_accuracy: 0.0157 - lr: 0.0100\n",
            "Epoch 4/150\n",
            "32/32 [==============================] - 20s 628ms/step - loss: 4.4679 - accuracy: 0.0461 - val_loss: 4.6100 - val_accuracy: 0.0147 - lr: 0.0100\n",
            "Epoch 5/150\n",
            "32/32 [==============================] - 20s 629ms/step - loss: 4.4163 - accuracy: 0.0324 - val_loss: 4.5838 - val_accuracy: 0.0137 - lr: 0.0100\n",
            "Epoch 6/150\n",
            "32/32 [==============================] - 21s 636ms/step - loss: 4.2493 - accuracy: 0.0647 - val_loss: 4.6659 - val_accuracy: 0.0196 - lr: 0.0100\n",
            "Epoch 7/150\n",
            "32/32 [==============================] - 20s 630ms/step - loss: 4.1010 - accuracy: 0.0706 - val_loss: 4.7266 - val_accuracy: 0.0157 - lr: 0.0100\n",
            "Epoch 8/150\n",
            "32/32 [==============================] - 21s 637ms/step - loss: 4.0059 - accuracy: 0.0794 - val_loss: 4.6544 - val_accuracy: 0.0284 - lr: 0.0100\n",
            "Epoch 9/150\n",
            "32/32 [==============================] - 21s 643ms/step - loss: 3.8143 - accuracy: 0.1010 - val_loss: 4.5670 - val_accuracy: 0.0353 - lr: 0.0050\n",
            "Epoch 10/150\n",
            "32/32 [==============================] - 21s 640ms/step - loss: 3.7788 - accuracy: 0.1078 - val_loss: 4.2659 - val_accuracy: 0.0471 - lr: 0.0050\n",
            "Epoch 11/150\n",
            "32/32 [==============================] - 21s 643ms/step - loss: 3.7488 - accuracy: 0.1127 - val_loss: 4.0233 - val_accuracy: 0.0765 - lr: 0.0050\n",
            "Epoch 12/150\n",
            "32/32 [==============================] - 21s 651ms/step - loss: 3.6309 - accuracy: 0.1314 - val_loss: 3.9109 - val_accuracy: 0.0873 - lr: 0.0050\n",
            "Epoch 13/150\n",
            "32/32 [==============================] - 21s 652ms/step - loss: 3.5873 - accuracy: 0.1196 - val_loss: 3.7451 - val_accuracy: 0.1137 - lr: 0.0050\n",
            "Epoch 14/150\n",
            "32/32 [==============================] - 21s 641ms/step - loss: 3.5310 - accuracy: 0.1382 - val_loss: 3.6019 - val_accuracy: 0.1520 - lr: 0.0050\n",
            "Epoch 15/150\n",
            "32/32 [==============================] - 21s 647ms/step - loss: 3.4736 - accuracy: 0.1333 - val_loss: 3.4944 - val_accuracy: 0.1765 - lr: 0.0050\n",
            "Epoch 16/150\n",
            "32/32 [==============================] - 21s 645ms/step - loss: 3.4115 - accuracy: 0.1559 - val_loss: 3.4147 - val_accuracy: 0.1784 - lr: 0.0050\n",
            "Epoch 17/150\n",
            "32/32 [==============================] - 21s 640ms/step - loss: 3.4190 - accuracy: 0.1647 - val_loss: 3.4629 - val_accuracy: 0.1735 - lr: 0.0050\n",
            "Epoch 18/150\n",
            "32/32 [==============================] - 21s 650ms/step - loss: 3.3973 - accuracy: 0.1569 - val_loss: 3.3712 - val_accuracy: 0.1882 - lr: 0.0050\n",
            "Epoch 19/150\n",
            "32/32 [==============================] - 21s 654ms/step - loss: 3.3016 - accuracy: 0.1627 - val_loss: 3.3376 - val_accuracy: 0.1922 - lr: 0.0050\n",
            "Epoch 20/150\n",
            "32/32 [==============================] - 21s 650ms/step - loss: 3.2679 - accuracy: 0.1618 - val_loss: 3.2458 - val_accuracy: 0.2020 - lr: 0.0050\n",
            "Epoch 21/150\n",
            "32/32 [==============================] - 21s 662ms/step - loss: 3.1954 - accuracy: 0.1873 - val_loss: 3.2332 - val_accuracy: 0.2245 - lr: 0.0050\n",
            "Epoch 22/150\n",
            "32/32 [==============================] - 21s 638ms/step - loss: 3.1882 - accuracy: 0.1775 - val_loss: 3.2206 - val_accuracy: 0.2088 - lr: 0.0050\n",
            "Epoch 23/150\n",
            "32/32 [==============================] - 21s 633ms/step - loss: 3.2128 - accuracy: 0.1765 - val_loss: 3.2083 - val_accuracy: 0.2196 - lr: 0.0050\n",
            "Epoch 24/150\n",
            "32/32 [==============================] - 21s 652ms/step - loss: 3.1240 - accuracy: 0.2039 - val_loss: 3.2592 - val_accuracy: 0.2069 - lr: 0.0050\n",
            "Epoch 25/150\n",
            "32/32 [==============================] - 21s 643ms/step - loss: 3.0897 - accuracy: 0.2049 - val_loss: 3.1072 - val_accuracy: 0.2333 - lr: 0.0050\n",
            "Epoch 26/150\n",
            "32/32 [==============================] - 21s 639ms/step - loss: 3.0822 - accuracy: 0.2157 - val_loss: 3.1250 - val_accuracy: 0.2382 - lr: 0.0050\n",
            "Epoch 27/150\n",
            "32/32 [==============================] - 21s 649ms/step - loss: 3.0616 - accuracy: 0.2176 - val_loss: 3.1151 - val_accuracy: 0.2480 - lr: 0.0050\n",
            "Epoch 28/150\n",
            "32/32 [==============================] - 21s 654ms/step - loss: 3.0475 - accuracy: 0.2167 - val_loss: 3.0729 - val_accuracy: 0.2569 - lr: 0.0050\n",
            "Epoch 29/150\n",
            "32/32 [==============================] - 21s 659ms/step - loss: 2.9264 - accuracy: 0.2500 - val_loss: 3.0975 - val_accuracy: 0.2343 - lr: 0.0050\n",
            "Epoch 30/150\n",
            "32/32 [==============================] - 21s 658ms/step - loss: 2.9309 - accuracy: 0.2422 - val_loss: 3.1982 - val_accuracy: 0.2078 - lr: 0.0050\n",
            "Epoch 31/150\n",
            "32/32 [==============================] - 21s 648ms/step - loss: 2.8874 - accuracy: 0.2520 - val_loss: 3.1440 - val_accuracy: 0.2412 - lr: 0.0050\n",
            "Epoch 32/150\n",
            "32/32 [==============================] - 21s 650ms/step - loss: 2.8145 - accuracy: 0.2500 - val_loss: 3.0084 - val_accuracy: 0.2618 - lr: 0.0025\n",
            "Epoch 33/150\n",
            "32/32 [==============================] - 21s 634ms/step - loss: 2.8105 - accuracy: 0.2598 - val_loss: 3.0102 - val_accuracy: 0.2657 - lr: 0.0025\n",
            "Epoch 34/150\n",
            "32/32 [==============================] - 21s 641ms/step - loss: 2.7256 - accuracy: 0.2902 - val_loss: 2.9892 - val_accuracy: 0.2725 - lr: 0.0025\n",
            "Epoch 35/150\n",
            "32/32 [==============================] - 21s 635ms/step - loss: 2.7289 - accuracy: 0.2725 - val_loss: 2.9968 - val_accuracy: 0.2745 - lr: 0.0025\n",
            "Epoch 36/150\n",
            "32/32 [==============================] - 21s 641ms/step - loss: 2.6608 - accuracy: 0.2980 - val_loss: 3.0002 - val_accuracy: 0.2647 - lr: 0.0025\n",
            "Epoch 37/150\n",
            "32/32 [==============================] - 21s 647ms/step - loss: 2.7240 - accuracy: 0.2735 - val_loss: 2.9446 - val_accuracy: 0.2892 - lr: 0.0025\n",
            "Epoch 38/150\n",
            "32/32 [==============================] - 21s 649ms/step - loss: 2.7184 - accuracy: 0.2706 - val_loss: 2.9672 - val_accuracy: 0.2608 - lr: 0.0025\n",
            "Epoch 39/150\n",
            "32/32 [==============================] - 21s 647ms/step - loss: 2.6558 - accuracy: 0.2922 - val_loss: 2.9557 - val_accuracy: 0.2824 - lr: 0.0025\n",
            "Epoch 40/150\n",
            "32/32 [==============================] - 21s 651ms/step - loss: 2.5994 - accuracy: 0.2912 - val_loss: 2.9655 - val_accuracy: 0.2696 - lr: 0.0025\n",
            "Epoch 41/150\n",
            "32/32 [==============================] - 21s 641ms/step - loss: 2.5957 - accuracy: 0.3000 - val_loss: 2.9272 - val_accuracy: 0.2775 - lr: 0.0012\n",
            "Epoch 42/150\n",
            "32/32 [==============================] - 21s 635ms/step - loss: 2.6281 - accuracy: 0.2833 - val_loss: 2.9290 - val_accuracy: 0.2745 - lr: 0.0012\n",
            "Epoch 43/150\n",
            "32/32 [==============================] - 21s 649ms/step - loss: 2.5251 - accuracy: 0.3098 - val_loss: 2.9035 - val_accuracy: 0.2863 - lr: 0.0012\n",
            "Epoch 44/150\n",
            "32/32 [==============================] - 21s 650ms/step - loss: 2.5565 - accuracy: 0.3137 - val_loss: 2.8927 - val_accuracy: 0.2882 - lr: 0.0012\n",
            "Epoch 45/150\n",
            "32/32 [==============================] - 21s 649ms/step - loss: 2.5323 - accuracy: 0.3196 - val_loss: 2.8961 - val_accuracy: 0.2941 - lr: 0.0012\n",
            "Epoch 46/150\n",
            "32/32 [==============================] - 21s 647ms/step - loss: 2.5487 - accuracy: 0.3078 - val_loss: 2.9330 - val_accuracy: 0.2755 - lr: 0.0012\n",
            "Epoch 47/150\n",
            "32/32 [==============================] - 20s 630ms/step - loss: 2.5177 - accuracy: 0.3186 - val_loss: 2.9131 - val_accuracy: 0.2775 - lr: 0.0012\n",
            "Epoch 48/150\n",
            "32/32 [==============================] - 21s 637ms/step - loss: 2.4419 - accuracy: 0.3441 - val_loss: 2.9102 - val_accuracy: 0.2824 - lr: 6.2500e-04\n",
            "Epoch 49/150\n",
            "32/32 [==============================] - 21s 643ms/step - loss: 2.4803 - accuracy: 0.3265 - val_loss: 2.9069 - val_accuracy: 0.2843 - lr: 6.2500e-04\n",
            "Epoch 50/150\n",
            "32/32 [==============================] - 21s 638ms/step - loss: 2.4864 - accuracy: 0.3167 - val_loss: 2.8889 - val_accuracy: 0.2882 - lr: 6.2500e-04\n",
            "Epoch 51/150\n",
            "32/32 [==============================] - 21s 649ms/step - loss: 2.4866 - accuracy: 0.3294 - val_loss: 2.8901 - val_accuracy: 0.2961 - lr: 6.2500e-04\n",
            "Epoch 52/150\n",
            "32/32 [==============================] - 21s 643ms/step - loss: 2.4896 - accuracy: 0.3069 - val_loss: 2.9050 - val_accuracy: 0.2882 - lr: 6.2500e-04\n",
            "Epoch 53/150\n",
            "32/32 [==============================] - 21s 645ms/step - loss: 2.5404 - accuracy: 0.3078 - val_loss: 2.8901 - val_accuracy: 0.2941 - lr: 6.2500e-04\n",
            "Epoch 54/150\n",
            "32/32 [==============================] - 20s 631ms/step - loss: 2.4247 - accuracy: 0.3392 - val_loss: 2.8836 - val_accuracy: 0.2941 - lr: 3.1250e-04\n",
            "Epoch 55/150\n",
            "32/32 [==============================] - 21s 639ms/step - loss: 2.4311 - accuracy: 0.3451 - val_loss: 2.8756 - val_accuracy: 0.2990 - lr: 3.1250e-04\n",
            "Epoch 56/150\n",
            "32/32 [==============================] - 21s 646ms/step - loss: 2.4233 - accuracy: 0.3382 - val_loss: 2.8801 - val_accuracy: 0.2931 - lr: 3.1250e-04\n",
            "Epoch 57/150\n",
            "32/32 [==============================] - 26s 817ms/step - loss: 2.4124 - accuracy: 0.3265 - val_loss: 2.8748 - val_accuracy: 0.2951 - lr: 3.1250e-04\n",
            "Epoch 58/150\n",
            "32/32 [==============================] - 21s 650ms/step - loss: 2.4256 - accuracy: 0.3431 - val_loss: 2.8717 - val_accuracy: 0.3029 - lr: 3.1250e-04\n",
            "Epoch 59/150\n",
            "26/32 [=======================>......] - ETA: 2s - loss: 2.3860 - accuracy: 0.3389"
          ]
        }
      ],
      "source": [
        "model = make_model(input_shape=(IMAGE_RES, IMAGE_RES) + (3,), num_classes=102)\n",
        "#keras.utils.plot_model(model, show_shapes=True)\n",
        "\n",
        "epochs = 150\n",
        "\n",
        "reduce_lr = tf.keras.callbacks.ReduceLROnPlateau(monitor='val_loss', factor=0.5, patience=3, min_lr=0.000001)\n",
        "\n",
        "model.compile(\n",
        "    optimizer=tf.keras.optimizers.SGD(),\n",
        "    loss=tf.keras.losses.SparseCategoricalCrossentropy(from_logits=True),\n",
        "    metrics=[\"accuracy\"],\n",
        ")\n",
        "\n",
        "model.fit(\n",
        "    train_batches,\n",
        "    epochs=epochs,\n",
        "    validation_data=validation_batches,\n",
        "    batch_size=BATCH_SIZE,\n",
        "    validation_batch_size=BATCH_SIZE,\n",
        "    verbose=1,\n",
        "    callbacks=[reduce_lr]\n",
        ")"
      ]
    },
    {
      "cell_type": "code",
      "source": [
        "model.save('OxfordFlowers102-2.keras')"
      ],
      "metadata": {
        "id": "3tNYk4A0-VT7"
      },
      "execution_count": 15,
      "outputs": []
    },
    {
      "cell_type": "code",
      "execution_count": 8,
      "metadata": {
        "colab": {
          "base_uri": "https://localhost:8080/"
        },
        "id": "4324daheKXsn",
        "outputId": "76f52dbc-a7ed-410a-a2d2-9cf1425db1ed"
      },
      "outputs": [
        {
          "output_type": "stream",
          "name": "stdout",
          "text": [
            "193/193 [==============================] - 27s 140ms/step - loss: 3.2010 - accuracy: 0.2420\n",
            "Test accuracy: 0.2419905662536621\n"
          ]
        }
      ],
      "source": [
        "test_loss, test_acc = model.evaluate(test_batches, verbose=1, batch_size=BATCH_SIZE)\n",
        "print(\"Test accuracy:\", test_acc)"
      ]
    }
  ],
  "metadata": {
    "accelerator": "GPU",
    "colab": {
      "gpuType": "T4",
      "provenance": [],
      "include_colab_link": true
    },
    "gpuClass": "standard",
    "kernelspec": {
      "display_name": "Python 3",
      "name": "python3"
    },
    "language_info": {
      "codemirror_mode": {
        "name": "ipython",
        "version": 3
      },
      "file_extension": ".py",
      "mimetype": "text/x-python",
      "name": "python",
      "nbconvert_exporter": "python",
      "pygments_lexer": "ipython3",
      "version": "3.11.1"
    }
  },
  "nbformat": 4,
  "nbformat_minor": 0
}