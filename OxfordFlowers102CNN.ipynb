{
  "cells": [
    {
      "cell_type": "markdown",
      "metadata": {
        "id": "view-in-github",
        "colab_type": "text"
      },
      "source": [
        "<a href=\"https://colab.research.google.com/github/Int-Group-44/flowers-102/blob/main/OxfordFlowers102CNN.ipynb\" target=\"_parent\"><img src=\"https://colab.research.google.com/assets/colab-badge.svg\" alt=\"Open In Colab\"/></a>"
      ]
    },
    {
      "cell_type": "code",
      "execution_count": 2,
      "metadata": {
        "id": "egaLH944BBD5"
      },
      "outputs": [],
      "source": [
        "import numpy as np\n",
        "import pandas as pd\n",
        "import tensorflow as tf\n",
        "from tensorflow import keras\n",
        "from keras import layers\n",
        "import tensorflow_datasets as tfds\n",
        "import matplotlib.pyplot as plt\n",
        "#device_name = tf.test.gpu_device_name()\n",
        "#if device_name != '/device:GPU:0':\n",
        "#  raise SystemError('GPU device not found')\n",
        "#print('Found GPU at: {}'.format(device_name))\n",
        "\n",
        "dataset, dataset_info = tfds.load('oxford_flowers102', with_info=True, as_supervised=True)\n",
        "dataset_info\n",
        "test_set, training_set, validation_set = dataset['test'], dataset['train'], dataset['validation']"
      ]
    },
    {
      "cell_type": "code",
      "execution_count": 3,
      "metadata": {
        "colab": {
          "base_uri": "https://localhost:8080/"
        },
        "id": "H8JAGNFt3PGE",
        "outputId": "066e28cb-67bc-45da-a4ac-803fa9329110"
      },
      "outputs": [
        {
          "output_type": "stream",
          "name": "stdout",
          "text": [
            "Physical devices cannot be modified after being initialized\n",
            "[PhysicalDevice(name='/physical_device:GPU:0', device_type='GPU')]\n"
          ]
        }
      ],
      "source": [
        "import tensorflow as tf\n",
        "tf.config.experimental.list_physical_devices('GPU')\n",
        "gpus = tf.config.experimental.list_physical_devices('GPU')\n",
        "if gpus:\n",
        "  try:\n",
        "    for gpu in gpus:\n",
        "      tf.config.experimental.set_memory_growth(gpu, True)\n",
        "  except RuntimeError as e:\n",
        "    print(e)\n",
        "\n",
        "print(gpus)"
      ]
    },
    {
      "cell_type": "markdown",
      "metadata": {
        "id": "hgSxJm7OYeKN"
      },
      "source": [
        "Importing TensorFlow "
      ]
    },
    {
      "cell_type": "code",
      "execution_count": 4,
      "metadata": {
        "id": "ql9q6LSWMZRk"
      },
      "outputs": [],
      "source": [
        "num_classes = dataset_info.features['label'].num_classes\n",
        "num_training_examples = 1020\n",
        "num_validation_examples = 1020"
      ]
    },
    {
      "cell_type": "code",
      "execution_count": 5,
      "metadata": {
        "id": "xwksk4asQhtr"
      },
      "outputs": [],
      "source": [
        "IMAGE_RES = 224\n",
        "\n",
        "def format_image(image, label):\n",
        "    image = tf.image.resize(image, (IMAGE_RES, IMAGE_RES))/255.0\n",
        "    #label = tf.one_hot(label, depth=num_classes)\n",
        "    return image, label\n",
        "BATCH_SIZE = 16\n",
        "train_batches = training_set.shuffle(num_training_examples//4).map(format_image).batch(BATCH_SIZE).prefetch(1)\n",
        "validation_batches = validation_set.shuffle(num_validation_examples//4).map(format_image).batch(BATCH_SIZE).prefetch(1)\n",
        "test_batches = test_set.map(format_image).batch(BATCH_SIZE).prefetch(1)\n"
      ]
    },
    {
      "cell_type": "code",
      "execution_count": 12,
      "metadata": {
        "id": "9WgfAXPgjFd5"
      },
      "outputs": [],
      "source": [
        "def make_model(input_shape, num_classes):\n",
        "  model = tf.keras.Sequential()\n",
        "  model.add(layers.RandomFlip(\"horizontal_and_vertical\", input_shape=input_shape))\n",
        "  model.add(layers.RandomRotation(20))\n",
        "  model.add(layers.RandomZoom(0.2))\n",
        "  model.add(layers.Conv2D(32, 3, padding='same', activation='relu'))\n",
        "  model.add(layers.BatchNormalization())\n",
        "  model.add(layers.Conv2D(32, 3, padding='same', activation='relu'))\n",
        "  model.add(layers.BatchNormalization())\n",
        "  model.add(layers.MaxPooling2D())\n",
        "  model.add(layers.Conv2D(64, 3, padding='same', activation='relu'))\n",
        "  model.add(layers.BatchNormalization())\n",
        "  model.add(layers.Conv2D(64, 3, padding='same', activation='relu'))\n",
        "  model.add(layers.BatchNormalization())\n",
        "  model.add(layers.MaxPooling2D())\n",
        "  model.add(layers.Conv2D(128, 3, padding='same', activation='relu'))\n",
        "  model.add(layers.BatchNormalization())\n",
        "  model.add(layers.Conv2D(128, 3, padding='same', activation='relu'))\n",
        "  model.add(layers.BatchNormalization())\n",
        "  model.add(layers.MaxPooling2D())\n",
        "  model.add(layers.Conv2D(256, 3, padding='same', activation='relu'))\n",
        "  model.add(layers.BatchNormalization())\n",
        "  model.add(layers.Conv2D(256, 3, padding='same', activation='relu'))\n",
        "  model.add(layers.BatchNormalization())\n",
        "  model.add(layers.MaxPooling2D())\n",
        "  model.add(layers.Conv2D(512, 3, padding='same', activation='relu'))\n",
        "  model.add(layers.BatchNormalization())\n",
        "  model.add(layers.Conv2D(512, 3, padding='same', activation='relu'))\n",
        "  model.add(layers.BatchNormalization())\n",
        "  model.add(layers.MaxPooling2D())\n",
        "  model.add(layers.Flatten())\n",
        "  model.add(layers.Dense(1024, activation='relu'))\n",
        "  model.add(layers.Dropout(0.2))\n",
        "  model.add(layers.Dense(512, activation='relu'))\n",
        "  model.add(layers.Dropout(0.2))\n",
        "  model.add(layers.Dense(256, activation='relu'))\n",
        "  model.add(layers.Dropout(0.2))\n",
        "  model.add(layers.Dense(num_classes))\n",
        "  return model\n"
      ]
    },
    {
      "cell_type": "code",
      "execution_count": 13,
      "metadata": {
        "id": "tF9v2wo9F8LW"
      },
      "outputs": [],
      "source": [
        "tf.keras.backend.clear_session()\n",
        "model = make_model(input_shape=(IMAGE_RES, IMAGE_RES) + (3,), num_classes=102)"
      ]
    },
    {
      "cell_type": "code",
      "execution_count": 14,
      "metadata": {
        "colab": {
          "base_uri": "https://localhost:8080/"
        },
        "id": "pumHmqXelH38",
        "outputId": "5d1a3938-4174-4aa2-df88-91f4e8912a0e"
      },
      "outputs": [
        {
          "output_type": "stream",
          "name": "stdout",
          "text": [
            "Epoch 1/50\n",
            "64/64 [==============================] - 63s 188ms/step - loss: 5.2323 - accuracy: 0.0137 - val_loss: 4.6724 - val_accuracy: 0.0059\n",
            "Epoch 2/50\n",
            "64/64 [==============================] - 10s 148ms/step - loss: 4.7226 - accuracy: 0.0275 - val_loss: 4.7046 - val_accuracy: 0.0098\n",
            "Epoch 3/50\n",
            "64/64 [==============================] - 10s 146ms/step - loss: 4.5052 - accuracy: 0.0314 - val_loss: 4.8012 - val_accuracy: 0.0098\n",
            "Epoch 4/50\n",
            "64/64 [==============================] - 9s 133ms/step - loss: 4.4334 - accuracy: 0.0500 - val_loss: 4.9940 - val_accuracy: 0.0157\n",
            "Epoch 5/50\n",
            "64/64 [==============================] - 10s 144ms/step - loss: 4.3269 - accuracy: 0.0618 - val_loss: 4.8049 - val_accuracy: 0.0176\n",
            "Epoch 6/50\n",
            "64/64 [==============================] - 10s 144ms/step - loss: 4.1884 - accuracy: 0.0824 - val_loss: 4.6656 - val_accuracy: 0.0314\n",
            "Epoch 7/50\n",
            "64/64 [==============================] - 10s 152ms/step - loss: 4.0826 - accuracy: 0.0804 - val_loss: 4.2302 - val_accuracy: 0.0745\n",
            "Epoch 8/50\n",
            "64/64 [==============================] - 12s 184ms/step - loss: 4.0268 - accuracy: 0.1127 - val_loss: 4.0344 - val_accuracy: 0.0961\n",
            "Epoch 9/50\n",
            "64/64 [==============================] - 10s 144ms/step - loss: 3.9686 - accuracy: 0.1245 - val_loss: 3.7845 - val_accuracy: 0.1363\n",
            "Epoch 10/50\n",
            "64/64 [==============================] - 9s 144ms/step - loss: 3.7548 - accuracy: 0.1549 - val_loss: 3.5129 - val_accuracy: 0.1931\n",
            "Epoch 11/50\n",
            "64/64 [==============================] - 12s 182ms/step - loss: 3.6892 - accuracy: 0.1539 - val_loss: 3.5232 - val_accuracy: 0.1833\n",
            "Epoch 12/50\n",
            "64/64 [==============================] - 12s 183ms/step - loss: 3.5906 - accuracy: 0.1784 - val_loss: 3.5121 - val_accuracy: 0.1971\n",
            "Epoch 13/50\n",
            "64/64 [==============================] - 12s 183ms/step - loss: 3.5142 - accuracy: 0.1961 - val_loss: 3.5688 - val_accuracy: 0.1990\n",
            "Epoch 14/50\n",
            "64/64 [==============================] - 10s 144ms/step - loss: 3.4669 - accuracy: 0.1843 - val_loss: 3.3080 - val_accuracy: 0.2451\n",
            "Epoch 15/50\n",
            "64/64 [==============================] - 9s 143ms/step - loss: 3.3648 - accuracy: 0.2000 - val_loss: 3.2543 - val_accuracy: 0.2373\n",
            "Epoch 16/50\n",
            "64/64 [==============================] - 10s 144ms/step - loss: 3.2533 - accuracy: 0.2255 - val_loss: 3.2226 - val_accuracy: 0.2431\n",
            "Epoch 17/50\n",
            "64/64 [==============================] - 10s 146ms/step - loss: 3.1766 - accuracy: 0.2245 - val_loss: 3.2504 - val_accuracy: 0.2539\n",
            "Epoch 18/50\n",
            "64/64 [==============================] - 9s 140ms/step - loss: 3.0598 - accuracy: 0.2706 - val_loss: 3.3055 - val_accuracy: 0.2255\n",
            "Epoch 19/50\n",
            "64/64 [==============================] - 10s 150ms/step - loss: 3.0637 - accuracy: 0.2539 - val_loss: 3.7123 - val_accuracy: 0.2235\n",
            "Epoch 20/50\n",
            "64/64 [==============================] - 9s 135ms/step - loss: 2.8945 - accuracy: 0.2775 - val_loss: 3.1401 - val_accuracy: 0.2882\n",
            "Epoch 21/50\n",
            "64/64 [==============================] - 9s 136ms/step - loss: 2.9444 - accuracy: 0.2735 - val_loss: 3.3944 - val_accuracy: 0.2284\n",
            "Epoch 22/50\n",
            "64/64 [==============================] - 9s 138ms/step - loss: 2.7817 - accuracy: 0.3157 - val_loss: 3.2571 - val_accuracy: 0.2598\n",
            "Epoch 23/50\n",
            "64/64 [==============================] - 10s 147ms/step - loss: 2.7788 - accuracy: 0.2980 - val_loss: 3.1483 - val_accuracy: 0.2784\n",
            "Epoch 24/50\n",
            "64/64 [==============================] - 12s 185ms/step - loss: 2.6540 - accuracy: 0.3245 - val_loss: 3.1862 - val_accuracy: 0.2657\n",
            "Epoch 25/50\n",
            "64/64 [==============================] - 12s 184ms/step - loss: 2.7203 - accuracy: 0.3176 - val_loss: 3.1869 - val_accuracy: 0.2804\n",
            "Epoch 26/50\n",
            "64/64 [==============================] - 10s 151ms/step - loss: 2.7023 - accuracy: 0.3402 - val_loss: 3.1917 - val_accuracy: 0.2931\n",
            "Epoch 27/50\n",
            "64/64 [==============================] - 9s 143ms/step - loss: 2.4918 - accuracy: 0.3725 - val_loss: 3.0956 - val_accuracy: 0.2843\n",
            "Epoch 28/50\n",
            "64/64 [==============================] - 9s 135ms/step - loss: 2.3891 - accuracy: 0.3882 - val_loss: 3.4215 - val_accuracy: 0.2941\n",
            "Epoch 29/50\n",
            "64/64 [==============================] - 10s 147ms/step - loss: 2.4811 - accuracy: 0.3686 - val_loss: 3.0797 - val_accuracy: 0.3127\n",
            "Epoch 30/50\n",
            "64/64 [==============================] - 13s 195ms/step - loss: 2.3742 - accuracy: 0.3843 - val_loss: 3.1573 - val_accuracy: 0.2882\n",
            "Epoch 31/50\n",
            "64/64 [==============================] - 10s 152ms/step - loss: 2.4033 - accuracy: 0.3882 - val_loss: 3.1560 - val_accuracy: 0.2882\n",
            "Epoch 32/50\n",
            "64/64 [==============================] - 12s 185ms/step - loss: 2.2518 - accuracy: 0.4255 - val_loss: 3.1478 - val_accuracy: 0.2951\n",
            "Epoch 33/50\n",
            "64/64 [==============================] - 9s 143ms/step - loss: 2.1833 - accuracy: 0.4451 - val_loss: 3.3799 - val_accuracy: 0.3127\n",
            "Epoch 34/50\n",
            "64/64 [==============================] - 10s 143ms/step - loss: 2.1490 - accuracy: 0.4324 - val_loss: 3.0664 - val_accuracy: 0.3284\n",
            "Epoch 35/50\n",
            "64/64 [==============================] - 9s 139ms/step - loss: 2.1339 - accuracy: 0.4529 - val_loss: 2.9382 - val_accuracy: 0.3520\n",
            "Epoch 36/50\n",
            "64/64 [==============================] - 9s 138ms/step - loss: 2.0720 - accuracy: 0.4637 - val_loss: 2.9861 - val_accuracy: 0.3324\n",
            "Epoch 37/50\n",
            "64/64 [==============================] - 9s 143ms/step - loss: 1.9765 - accuracy: 0.4824 - val_loss: 3.8594 - val_accuracy: 0.2578\n",
            "Epoch 38/50\n",
            "64/64 [==============================] - 10s 143ms/step - loss: 1.8621 - accuracy: 0.4873 - val_loss: 3.0614 - val_accuracy: 0.3549\n",
            "Epoch 39/50\n",
            "64/64 [==============================] - 10s 147ms/step - loss: 1.7840 - accuracy: 0.5294 - val_loss: 3.4678 - val_accuracy: 0.2922\n",
            "Epoch 40/50\n",
            "64/64 [==============================] - 10s 146ms/step - loss: 2.0156 - accuracy: 0.4578 - val_loss: 3.0457 - val_accuracy: 0.3353\n",
            "Epoch 41/50\n",
            "64/64 [==============================] - 10s 146ms/step - loss: 1.9406 - accuracy: 0.4833 - val_loss: 3.0643 - val_accuracy: 0.3431\n",
            "Epoch 42/50\n",
            "64/64 [==============================] - 9s 144ms/step - loss: 1.7630 - accuracy: 0.5353 - val_loss: 3.1695 - val_accuracy: 0.3588\n",
            "Epoch 43/50\n",
            "64/64 [==============================] - 10s 145ms/step - loss: 1.6687 - accuracy: 0.5265 - val_loss: 3.3276 - val_accuracy: 0.3373\n",
            "Epoch 44/50\n",
            "64/64 [==============================] - 9s 139ms/step - loss: 1.6843 - accuracy: 0.5598 - val_loss: 3.4862 - val_accuracy: 0.3157\n",
            "Epoch 45/50\n",
            "64/64 [==============================] - 10s 147ms/step - loss: 1.7120 - accuracy: 0.5500 - val_loss: 3.1760 - val_accuracy: 0.3510\n",
            "Epoch 46/50\n",
            "64/64 [==============================] - 10s 147ms/step - loss: 1.6192 - accuracy: 0.5618 - val_loss: 3.3231 - val_accuracy: 0.3363\n",
            "Epoch 47/50\n",
            "64/64 [==============================] - 10s 144ms/step - loss: 1.5971 - accuracy: 0.5637 - val_loss: 3.4017 - val_accuracy: 0.3314\n",
            "Epoch 48/50\n",
            "64/64 [==============================] - 10s 144ms/step - loss: 1.6350 - accuracy: 0.5676 - val_loss: 3.1519 - val_accuracy: 0.3480\n",
            "Epoch 49/50\n",
            "64/64 [==============================] - 10s 151ms/step - loss: 1.4431 - accuracy: 0.5941 - val_loss: 3.2441 - val_accuracy: 0.3716\n",
            "Epoch 50/50\n",
            "64/64 [==============================] - 11s 168ms/step - loss: 1.4530 - accuracy: 0.5951 - val_loss: 3.1728 - val_accuracy: 0.3706\n"
          ]
        }
      ],
      "source": [
        "\n",
        "#keras.utils.plot_model(model, show_shapes=True)\n",
        "\n",
        "epochs = 50\n",
        "\n",
        "#reduce_lr = tf.keras.callbacks.ReduceLROnPlateau(monitor='val_loss', factor=0.2, patience=5, min_lr=0.0001)\n",
        "\n",
        "model.compile(\n",
        "    optimizer=tf.keras.optimizers.Adam(learning_rate=0.0001),\n",
        "    loss=tf.keras.losses.SparseCategoricalCrossentropy(from_logits=True),\n",
        "    metrics=[\"accuracy\"],\n",
        ")\n",
        "\n",
        "history = model.fit(\n",
        "    train_batches,\n",
        "    epochs=epochs,\n",
        "    validation_data=validation_batches,\n",
        "    batch_size=BATCH_SIZE,\n",
        "    validation_batch_size=BATCH_SIZE,\n",
        "    verbose=1\n",
        "    #callbacks=[reduce_lr]\n",
        ")"
      ]
    },
    {
      "cell_type": "code",
      "source": [
        "tloss1 = history.history['loss']\n",
        "vloss1 = history.history['val_loss']\n",
        "tacc1 = history.history['accuracy']\n",
        "vacc1 = history.history['val_accuracy']"
      ],
      "metadata": {
        "id": "mD33c-dQEKYM"
      },
      "execution_count": 15,
      "outputs": []
    },
    {
      "cell_type": "code",
      "source": [
        "\n",
        "#keras.utils.plot_model(model, show_shapes=True)\n",
        "\n",
        "epochs = 50\n",
        "\n",
        "#reduce_lr = tf.keras.callbacks.ReduceLROnPlateau(monitor='val_loss', factor=0.2, patience=5, min_lr=0.0001)\n",
        "\n",
        "model.compile(\n",
        "    optimizer=tf.keras.optimizers.Adam(learning_rate=0.00001),\n",
        "    loss=tf.keras.losses.SparseCategoricalCrossentropy(from_logits=True),\n",
        "    metrics=[\"accuracy\"],\n",
        ")\n",
        "\n",
        "history = model.fit(\n",
        "    train_batches,\n",
        "    epochs=epochs,\n",
        "    validation_data=validation_batches,\n",
        "    batch_size=BATCH_SIZE,\n",
        "    validation_batch_size=BATCH_SIZE,\n",
        "    verbose=1\n",
        "    #callbacks=[reduce_lr]\n",
        ")"
      ],
      "metadata": {
        "colab": {
          "base_uri": "https://localhost:8080/",
          "height": 1000
        },
        "id": "a2yLllbgBxDf",
        "outputId": "0cf58a42-1937-4e94-f606-4a141b800e45"
      },
      "execution_count": 16,
      "outputs": [
        {
          "output_type": "stream",
          "name": "stdout",
          "text": [
            "Epoch 1/50\n",
            "64/64 [==============================] - 18s 148ms/step - loss: 1.3438 - accuracy: 0.6147 - val_loss: 2.9429 - val_accuracy: 0.3922\n",
            "Epoch 2/50\n",
            "64/64 [==============================] - 9s 140ms/step - loss: 1.1552 - accuracy: 0.6716 - val_loss: 2.8892 - val_accuracy: 0.4147\n",
            "Epoch 3/50\n",
            "64/64 [==============================] - 12s 180ms/step - loss: 1.0207 - accuracy: 0.6961 - val_loss: 2.9408 - val_accuracy: 0.4108\n",
            "Epoch 4/50\n",
            "64/64 [==============================] - 9s 142ms/step - loss: 1.1307 - accuracy: 0.6667 - val_loss: 2.9214 - val_accuracy: 0.4157\n",
            "Epoch 5/50\n",
            "64/64 [==============================] - 9s 133ms/step - loss: 1.0048 - accuracy: 0.7059 - val_loss: 2.9335 - val_accuracy: 0.4167\n",
            "Epoch 6/50\n",
            "64/64 [==============================] - 9s 137ms/step - loss: 1.0078 - accuracy: 0.7108 - val_loss: 2.9116 - val_accuracy: 0.4245\n",
            "Epoch 7/50\n",
            "64/64 [==============================] - 9s 135ms/step - loss: 1.0308 - accuracy: 0.7069 - val_loss: 2.8848 - val_accuracy: 0.4235\n",
            "Epoch 8/50\n",
            "64/64 [==============================] - 10s 150ms/step - loss: 1.0433 - accuracy: 0.7010 - val_loss: 2.9194 - val_accuracy: 0.4235\n",
            "Epoch 9/50\n",
            "64/64 [==============================] - 9s 141ms/step - loss: 0.9980 - accuracy: 0.7078 - val_loss: 2.9029 - val_accuracy: 0.4284\n",
            "Epoch 10/50\n",
            "64/64 [==============================] - 10s 142ms/step - loss: 0.9097 - accuracy: 0.7225 - val_loss: 2.8913 - val_accuracy: 0.4284\n",
            "Epoch 11/50\n",
            "64/64 [==============================] - 9s 136ms/step - loss: 0.8904 - accuracy: 0.7373 - val_loss: 2.9266 - val_accuracy: 0.4255\n",
            "Epoch 12/50\n",
            "64/64 [==============================] - 10s 144ms/step - loss: 0.9562 - accuracy: 0.7176 - val_loss: 2.9171 - val_accuracy: 0.4147\n",
            "Epoch 13/50\n",
            "64/64 [==============================] - 10s 152ms/step - loss: 0.8822 - accuracy: 0.7431 - val_loss: 2.9602 - val_accuracy: 0.4108\n",
            "Epoch 14/50\n",
            "64/64 [==============================] - 9s 135ms/step - loss: 0.8633 - accuracy: 0.7265 - val_loss: 2.9730 - val_accuracy: 0.4118\n",
            "Epoch 15/50\n",
            "64/64 [==============================] - 9s 137ms/step - loss: 0.8886 - accuracy: 0.7490 - val_loss: 2.9068 - val_accuracy: 0.4186\n",
            "Epoch 16/50\n",
            "64/64 [==============================] - 10s 145ms/step - loss: 0.8790 - accuracy: 0.7412 - val_loss: 2.9714 - val_accuracy: 0.4176\n",
            "Epoch 17/50\n",
            "64/64 [==============================] - 10s 147ms/step - loss: 0.8148 - accuracy: 0.7618 - val_loss: 2.9647 - val_accuracy: 0.4147\n",
            "Epoch 18/50\n",
            "64/64 [==============================] - 9s 143ms/step - loss: 0.8135 - accuracy: 0.7725 - val_loss: 2.9669 - val_accuracy: 0.4176\n",
            "Epoch 19/50\n",
            "64/64 [==============================] - 10s 143ms/step - loss: 0.7561 - accuracy: 0.7814 - val_loss: 2.9631 - val_accuracy: 0.4196\n",
            "Epoch 20/50\n",
            "64/64 [==============================] - 10s 145ms/step - loss: 0.8524 - accuracy: 0.7657 - val_loss: 2.9453 - val_accuracy: 0.4353\n",
            "Epoch 21/50\n",
            "64/64 [==============================] - 9s 137ms/step - loss: 0.7969 - accuracy: 0.7765 - val_loss: 2.9765 - val_accuracy: 0.4245\n",
            "Epoch 22/50\n",
            "64/64 [==============================] - 10s 151ms/step - loss: 0.8179 - accuracy: 0.7569 - val_loss: 2.9286 - val_accuracy: 0.4275\n",
            "Epoch 23/50\n",
            "64/64 [==============================] - 9s 135ms/step - loss: 0.7825 - accuracy: 0.7725 - val_loss: 3.0305 - val_accuracy: 0.4176\n",
            "Epoch 24/50\n",
            "64/64 [==============================] - 9s 134ms/step - loss: 0.7663 - accuracy: 0.7637 - val_loss: 2.9843 - val_accuracy: 0.4216\n",
            "Epoch 25/50\n",
            "64/64 [==============================] - 10s 139ms/step - loss: 0.7388 - accuracy: 0.7667 - val_loss: 3.0330 - val_accuracy: 0.4118\n",
            "Epoch 26/50\n",
            "64/64 [==============================] - 10s 146ms/step - loss: 0.7355 - accuracy: 0.7755 - val_loss: 3.0661 - val_accuracy: 0.4147\n",
            "Epoch 27/50\n",
            "64/64 [==============================] - 10s 146ms/step - loss: 0.7404 - accuracy: 0.7824 - val_loss: 2.9908 - val_accuracy: 0.4275\n",
            "Epoch 28/50\n",
            "64/64 [==============================] - 12s 184ms/step - loss: 0.7332 - accuracy: 0.7922 - val_loss: 3.0870 - val_accuracy: 0.4108\n",
            "Epoch 29/50\n",
            "64/64 [==============================] - 10s 154ms/step - loss: 0.7622 - accuracy: 0.7814 - val_loss: 3.0238 - val_accuracy: 0.4167\n",
            "Epoch 30/50\n",
            "64/64 [==============================] - 9s 136ms/step - loss: 0.7582 - accuracy: 0.7745 - val_loss: 3.0887 - val_accuracy: 0.4127\n",
            "Epoch 31/50\n",
            "64/64 [==============================] - 9s 139ms/step - loss: 0.6906 - accuracy: 0.7922 - val_loss: 3.0268 - val_accuracy: 0.4245\n",
            "Epoch 32/50\n",
            "64/64 [==============================] - 10s 145ms/step - loss: 0.7894 - accuracy: 0.7588 - val_loss: 2.9730 - val_accuracy: 0.4255\n",
            "Epoch 33/50\n",
            "64/64 [==============================] - 9s 139ms/step - loss: 0.7041 - accuracy: 0.7961 - val_loss: 3.0192 - val_accuracy: 0.4137\n",
            "Epoch 34/50\n",
            "64/64 [==============================] - 12s 185ms/step - loss: 0.7140 - accuracy: 0.7873 - val_loss: 3.0181 - val_accuracy: 0.4245\n",
            "Epoch 35/50\n",
            "64/64 [==============================] - 9s 136ms/step - loss: 0.7006 - accuracy: 0.7873 - val_loss: 3.0358 - val_accuracy: 0.4167\n",
            "Epoch 36/50\n",
            "64/64 [==============================] - 9s 139ms/step - loss: 0.6578 - accuracy: 0.7931 - val_loss: 3.0473 - val_accuracy: 0.4118\n",
            "Epoch 37/50\n",
            "64/64 [==============================] - 9s 139ms/step - loss: 0.6642 - accuracy: 0.7980 - val_loss: 3.0977 - val_accuracy: 0.4186\n",
            "Epoch 38/50\n",
            "64/64 [==============================] - 12s 186ms/step - loss: 0.7156 - accuracy: 0.7882 - val_loss: 3.0713 - val_accuracy: 0.4225\n",
            "Epoch 39/50\n",
            "64/64 [==============================] - 12s 184ms/step - loss: 0.6497 - accuracy: 0.8049 - val_loss: 3.0532 - val_accuracy: 0.4284\n",
            "Epoch 40/50\n",
            "64/64 [==============================] - 11s 162ms/step - loss: 0.6866 - accuracy: 0.7853 - val_loss: 3.0582 - val_accuracy: 0.4333\n",
            "Epoch 41/50\n",
            "64/64 [==============================] - 12s 184ms/step - loss: 0.6197 - accuracy: 0.8108 - val_loss: 3.0514 - val_accuracy: 0.4275\n",
            "Epoch 42/50\n",
            "64/64 [==============================] - 13s 190ms/step - loss: 0.7048 - accuracy: 0.7843 - val_loss: 3.0030 - val_accuracy: 0.4343\n",
            "Epoch 43/50\n",
            "64/64 [==============================] - 10s 151ms/step - loss: 0.6741 - accuracy: 0.7971 - val_loss: 3.0975 - val_accuracy: 0.4186\n",
            "Epoch 44/50\n",
            "64/64 [==============================] - 10s 153ms/step - loss: 0.6608 - accuracy: 0.7941 - val_loss: 3.0945 - val_accuracy: 0.4275\n",
            "Epoch 45/50\n",
            "64/64 [==============================] - 12s 189ms/step - loss: 0.5938 - accuracy: 0.8225 - val_loss: 3.1337 - val_accuracy: 0.4216\n",
            "Epoch 46/50\n",
            "64/64 [==============================] - 10s 152ms/step - loss: 0.6966 - accuracy: 0.7912 - val_loss: 3.0099 - val_accuracy: 0.4304\n",
            "Epoch 47/50\n",
            "64/64 [==============================] - 9s 134ms/step - loss: 0.5853 - accuracy: 0.8206 - val_loss: 3.0384 - val_accuracy: 0.4275\n",
            "Epoch 48/50\n",
            "64/64 [==============================] - 9s 137ms/step - loss: 0.6317 - accuracy: 0.8157 - val_loss: 3.0936 - val_accuracy: 0.4294\n",
            "Epoch 49/50\n",
            "64/64 [==============================] - 9s 138ms/step - loss: 0.6258 - accuracy: 0.8049 - val_loss: 3.1073 - val_accuracy: 0.4324\n",
            "Epoch 50/50\n",
            "64/64 [==============================] - 9s 139ms/step - loss: 0.5844 - accuracy: 0.8206 - val_loss: 3.0978 - val_accuracy: 0.4284\n"
          ]
        },
        {
          "output_type": "error",
          "ename": "TypeError",
          "evalue": "ignored",
          "traceback": [
            "\u001b[0;31m---------------------------------------------------------------------------\u001b[0m",
            "\u001b[0;31mTypeError\u001b[0m                                 Traceback (most recent call last)",
            "\u001b[0;32m<ipython-input-16-b7ba4c35b17c>\u001b[0m in \u001b[0;36m<cell line: 13>\u001b[0;34m()\u001b[0m\n\u001b[1;32m     11\u001b[0m )\n\u001b[1;32m     12\u001b[0m \u001b[0;34m\u001b[0m\u001b[0m\n\u001b[0;32m---> 13\u001b[0;31m history += model.fit(\n\u001b[0m\u001b[1;32m     14\u001b[0m     \u001b[0mtrain_batches\u001b[0m\u001b[0;34m,\u001b[0m\u001b[0;34m\u001b[0m\u001b[0;34m\u001b[0m\u001b[0m\n\u001b[1;32m     15\u001b[0m     \u001b[0mepochs\u001b[0m\u001b[0;34m=\u001b[0m\u001b[0mepochs\u001b[0m\u001b[0;34m,\u001b[0m\u001b[0;34m\u001b[0m\u001b[0;34m\u001b[0m\u001b[0m\n",
            "\u001b[0;31mTypeError\u001b[0m: unsupported operand type(s) for +=: 'History' and 'History'"
          ]
        }
      ]
    },
    {
      "cell_type": "code",
      "source": [
        "tloss2 = history.history['loss']\n",
        "vloss2 = history.history['val_loss']\n",
        "tacc2 = history.history['accuracy']\n",
        "vacc2 = history.history['val_accuracy']"
      ],
      "metadata": {
        "id": "j7YNON-AElOl"
      },
      "execution_count": null,
      "outputs": []
    },
    {
      "cell_type": "code",
      "source": [
        "model.save('OxfordFlowers102-2.keras')"
      ],
      "metadata": {
        "id": "3tNYk4A0-VT7"
      },
      "execution_count": null,
      "outputs": []
    },
    {
      "cell_type": "code",
      "execution_count": 18,
      "metadata": {
        "id": "4324daheKXsn",
        "outputId": "e43877b2-6fb6-4a0a-817c-a2f9a8376d36",
        "colab": {
          "base_uri": "https://localhost:8080/"
        }
      },
      "outputs": [
        {
          "output_type": "stream",
          "name": "stdout",
          "text": [
            "385/385 [==============================] - 14s 35ms/step - loss: 3.3065 - accuracy: 0.3869\n",
            "Test accuracy: 0.386892169713974\n"
          ]
        }
      ],
      "source": [
        "test_loss, test_acc = model.evaluate(test_batches, verbose=1, batch_size=BATCH_SIZE)\n",
        "print(\"Test accuracy:\", test_acc)"
      ]
    },
    {
      "cell_type": "code",
      "source": [
        "plt.plot(tloss1)\n",
        "plt.ylim(0,10)\n",
        "plt.plot(vloss1)\n",
        "plt.title('model loss')\n",
        "plt.ylabel('loss')\n",
        "plt.xlabel('epoch')\n",
        "plt.legend(['train','val'], loc=\"upper left\")\n",
        "plt.show()"
      ],
      "metadata": {
        "id": "2iJRXw8RhICC",
        "outputId": "8fe3754e-162b-421a-835e-b0eb3af65023",
        "colab": {
          "base_uri": "https://localhost:8080/",
          "height": 472
        }
      },
      "execution_count": 17,
      "outputs": [
        {
          "output_type": "display_data",
          "data": {
            "text/plain": [
              "<Figure size 640x480 with 1 Axes>"
            ],
            "image/png": "[encoded data removed]"
          },
          "metadata": {}
        }
      ]
    },
    {
      "cell_type": "code",
      "source": [
        "plt.plot(tacc1)\n",
        "plt.plot(vacc1)\n",
        "plt.title('model accuracy')\n",
        "plt.ylabel('accuracy')\n",
        "plt.xlabel('epoch')\n",
        "plt.legend(['train','val'], loc=\"upper left\")\n",
        "plt.show()"
      ],
      "metadata": {
        "id": "qMzpr_SZhHbh",
        "outputId": "baed7c33-c735-40da-8184-9fd26c8fd40d",
        "colab": {
          "base_uri": "https://localhost:8080/",
          "height": 472
        }
      },
      "execution_count": 19,
      "outputs": [
        {
          "output_type": "display_data",
          "data": {
            "text/plain": [
              "<Figure size 640x480 with 1 Axes>"
            ],
            "image/png": "[encoded data removed]"
          },
          "metadata": {}
        }
      ]
    }
  ],
  "metadata": {
    "accelerator": "GPU",
    "colab": {
      "gpuType": "T4",
      "provenance": [],
      "include_colab_link": true
    },
    "gpuClass": "standard",
    "kernelspec": {
      "display_name": "Python 3",
      "name": "python3"
    },
    "language_info": {
      "codemirror_mode": {
        "name": "ipython",
        "version": 3
      },
      "file_extension": ".py",
      "mimetype": "text/x-python",
      "name": "python",
      "nbconvert_exporter": "python",
      "pygments_lexer": "ipython3",
      "version": "3.11.1"
    }
  },
  "nbformat": 4,
  "nbformat_minor": 0
}