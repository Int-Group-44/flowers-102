{
  "cells": [
    {
      "cell_type": "markdown",
      "metadata": {
        "id": "view-in-github",
        "colab_type": "text"
      },
      "source": [
        "<a href=\"https://colab.research.google.com/github/Int-Group-44/flowers-102/blob/main/OxfordFlowers102CNN.ipynb\" target=\"_parent\"><img src=\"https://colab.research.google.com/assets/colab-badge.svg\" alt=\"Open In Colab\"/></a>"
      ]
    },
    {
      "cell_type": "code",
      "execution_count": 1,
      "metadata": {
        "id": "egaLH944BBD5"
      },
      "outputs": [],
      "source": [
        "import numpy as np\n",
        "import pandas as pd\n",
        "import tensorflow as tf\n",
        "from tensorflow import keras\n",
        "from keras import layers\n",
        "import tensorflow_datasets as tfds\n",
        "import matplotlib.pyplot as plt\n",
        "#device_name = tf.test.gpu_device_name()\n",
        "#if device_name != '/device:GPU:0':\n",
        "#  raise SystemError('GPU device not found')\n",
        "#print('Found GPU at: {}'.format(device_name))\n",
        "\n",
        "dataset, dataset_info = tfds.load('oxford_flowers102', with_info=True, as_supervised=True)\n",
        "dataset_info\n",
        "test_set, training_set, validation_set = dataset['test'], dataset['train'], dataset['validation']"
      ]
    },
    {
      "cell_type": "code",
      "execution_count": 2,
      "metadata": {
        "colab": {
          "base_uri": "https://localhost:8080/"
        },
        "id": "H8JAGNFt3PGE",
        "outputId": "70f9c138-5f1f-4c97-cdb9-21200ea630e9"
      },
      "outputs": [
        {
          "output_type": "stream",
          "name": "stdout",
          "text": [
            "Physical devices cannot be modified after being initialized\n",
            "[PhysicalDevice(name='/physical_device:GPU:0', device_type='GPU')]\n"
          ]
        }
      ],
      "source": [
        "import tensorflow as tf\n",
        "tf.config.experimental.list_physical_devices('GPU')\n",
        "gpus = tf.config.experimental.list_physical_devices('GPU')\n",
        "if gpus:\n",
        "  try:\n",
        "    for gpu in gpus:\n",
        "      tf.config.experimental.set_memory_growth(gpu, True)\n",
        "  except RuntimeError as e:\n",
        "    print(e)\n",
        "\n",
        "print(gpus)"
      ]
    },
    {
      "cell_type": "markdown",
      "metadata": {
        "id": "hgSxJm7OYeKN"
      },
      "source": [
        "Importing TensorFlow "
      ]
    },
    {
      "cell_type": "code",
      "execution_count": 3,
      "metadata": {
        "id": "ql9q6LSWMZRk"
      },
      "outputs": [],
      "source": [
        "num_classes = dataset_info.features['label'].num_classes\n",
        "num_training_examples = 1020\n",
        "num_validation_examples = 1020"
      ]
    },
    {
      "cell_type": "code",
      "execution_count": 4,
      "metadata": {
        "id": "xwksk4asQhtr"
      },
      "outputs": [],
      "source": [
        "IMAGE_RES = 224\n",
        "\n",
        "def format_image(image, label):\n",
        "    image = tf.image.resize(image, (IMAGE_RES, IMAGE_RES))/255.0\n",
        "    #label = tf.one_hot(label, depth=num_classes)\n",
        "    return image, label\n",
        "BATCH_SIZE = 64\n",
        "train_batches = training_set.shuffle(num_training_examples//4).map(format_image).batch(BATCH_SIZE).prefetch(1)\n",
        "validation_batches = validation_set.shuffle(num_validation_examples//4).map(format_image).batch(BATCH_SIZE).prefetch(1)\n",
        "test_batches = test_set.map(format_image).batch(BATCH_SIZE).prefetch(1)\n"
      ]
    },
    {
      "cell_type": "code",
      "execution_count": 18,
      "metadata": {
        "id": "9WgfAXPgjFd5"
      },
      "outputs": [],
      "source": [
        "def make_model(input_shape, num_classes):\n",
        "  model = tf.keras.Sequential()\n",
        "  model.add(layers.RandomFlip(\"horizontal\", input_shape=input_shape))\n",
        "  model.add(layers.RandomRotation(20))\n",
        "  model.add(layers.RandomZoom(0.2))\n",
        "  #model.add(layers.RandomContrast(factor=(0.0, 0.1)))\n",
        "  model.add(layers.Conv2D(64, 3, padding='same', activation='relu')) #64 filters, kernel size 3x3, stride = 1\n",
        "  model.add(layers.BatchNormalization())\n",
        "  model.add(layers.Conv2D(64, 3, padding='same', activation='relu')) \n",
        "  model.add(layers.BatchNormalization())\n",
        "  model.add(layers.MaxPooling2D())                                   #2x2 pooling, stride of 2\n",
        "  model.add(layers.Conv2D(128, 3, padding='same', activation='relu'))\n",
        "  model.add(layers.BatchNormalization())\n",
        "  model.add(layers.Conv2D(128, 3, padding='same', activation='relu'))\n",
        "  model.add(layers.BatchNormalization())\n",
        "  model.add(layers.MaxPooling2D())\n",
        "  model.add(layers.Conv2D(256, 3, padding='same', activation='relu'))\n",
        "  model.add(layers.BatchNormalization())\n",
        "  model.add(layers.Conv2D(256, 3, padding='same', activation='relu'))\n",
        "  model.add(layers.BatchNormalization())\n",
        "  model.add(layers.Conv2D(256, 3, padding='same', activation='relu'))\n",
        "  model.add(layers.BatchNormalization())\n",
        "  model.add(layers.MaxPooling2D())\n",
        "  model.add(layers.Conv2D(512, 3, padding='same', activation='relu'))\n",
        "  model.add(layers.BatchNormalization())\n",
        "  model.add(layers.Conv2D(512, 3, padding='same', activation='relu'))\n",
        "  model.add(layers.BatchNormalization())\n",
        "  model.add(layers.Conv2D(512, 3, padding='same', activation='relu'))\n",
        "  model.add(layers.BatchNormalization())\n",
        "  model.add(layers.MaxPooling2D())\n",
        "  model.add(layers.Conv2D(512, 3, padding='same', activation='relu'))\n",
        "  model.add(layers.BatchNormalization())\n",
        "  model.add(layers.Conv2D(512, 3, padding='same', activation='relu'))\n",
        "  model.add(layers.BatchNormalization())\n",
        "  model.add(layers.Conv2D(512, 3, padding='same', activation='relu'))\n",
        "  model.add(layers.BatchNormalization())\n",
        "  model.add(layers.MaxPooling2D())\n",
        "  model.add(layers.Flatten())\n",
        "  model.add(layers.Dense(4096, activation='relu'))\n",
        "  model.add(layers.Dropout(0.2))\n",
        "  model.add(layers.Dense(4096, activation='relu'))\n",
        "  model.add(layers.Dropout(0.2))\n",
        "  model.add(layers.Dense(1024, activation='relu'))\n",
        "  model.add(layers.Dropout(0.2))\n",
        "  model.add(layers.Dense(num_classes))\n",
        "  return model\n"
      ]
    },
    {
      "cell_type": "code",
      "execution_count": 19,
      "metadata": {
        "id": "tF9v2wo9F8LW"
      },
      "outputs": [],
      "source": [
        "tf.keras.backend.clear_session()"
      ]
    },
    {
      "cell_type": "code",
      "execution_count": null,
      "metadata": {
        "colab": {
          "base_uri": "https://localhost:8080/"
        },
        "id": "pumHmqXelH38",
        "outputId": "fff16531-6026-4e91-e8d7-9392b0784afa"
      },
      "outputs": [
        {
          "output_type": "stream",
          "name": "stdout",
          "text": [
            "Epoch 1/150\n",
            "32/32 [==============================] - 25s 639ms/step - loss: 5.0812 - accuracy: 0.0147 - val_loss: 4.6263 - val_accuracy: 0.0098 - lr: 0.0100\n",
            "Epoch 2/150\n",
            "32/32 [==============================] - 21s 643ms/step - loss: 4.5207 - accuracy: 0.0333 - val_loss: 4.6294 - val_accuracy: 0.0059 - lr: 0.0100\n",
            "Epoch 3/150\n",
            "32/32 [==============================] - 21s 642ms/step - loss: 4.1308 - accuracy: 0.0755 - val_loss: 4.6901 - val_accuracy: 0.0127 - lr: 0.0100\n",
            "Epoch 4/150\n",
            "32/32 [==============================] - 20s 623ms/step - loss: 3.8606 - accuracy: 0.1069 - val_loss: 4.8359 - val_accuracy: 0.0127 - lr: 0.0100\n",
            "Epoch 5/150\n",
            "32/32 [==============================] - 21s 634ms/step - loss: 3.5414 - accuracy: 0.1392 - val_loss: 5.1215 - val_accuracy: 0.0196 - lr: 0.0050\n",
            "Epoch 6/150\n",
            "32/32 [==============================] - 20s 629ms/step - loss: 3.3138 - accuracy: 0.1843 - val_loss: 5.2574 - val_accuracy: 0.0157 - lr: 0.0050\n",
            "Epoch 7/150\n",
            "32/32 [==============================] - 21s 647ms/step - loss: 3.1732 - accuracy: 0.2059 - val_loss: 5.5774 - val_accuracy: 0.0118 - lr: 0.0050\n",
            "Epoch 8/150\n",
            "32/32 [==============================] - 21s 645ms/step - loss: 3.0563 - accuracy: 0.2324 - val_loss: 5.6511 - val_accuracy: 0.0176 - lr: 0.0025\n",
            "Epoch 9/150\n",
            "32/32 [==============================] - 21s 639ms/step - loss: 2.9308 - accuracy: 0.2402 - val_loss: 5.4672 - val_accuracy: 0.0255 - lr: 0.0025\n",
            "Epoch 10/150\n",
            "32/32 [==============================] - 21s 637ms/step - loss: 2.8157 - accuracy: 0.2745 - val_loss: 5.4062 - val_accuracy: 0.0294 - lr: 0.0025\n",
            "Epoch 11/150\n",
            "32/32 [==============================] - 21s 645ms/step - loss: 2.7334 - accuracy: 0.2931 - val_loss: 5.0436 - val_accuracy: 0.0431 - lr: 0.0012\n",
            "Epoch 12/150\n",
            "32/32 [==============================] - 21s 644ms/step - loss: 2.6834 - accuracy: 0.2961 - val_loss: 4.7022 - val_accuracy: 0.0598 - lr: 0.0012\n",
            "Epoch 13/150\n",
            "32/32 [==============================] - 21s 647ms/step - loss: 2.6114 - accuracy: 0.3176 - val_loss: 4.3103 - val_accuracy: 0.0794 - lr: 0.0012\n",
            "Epoch 14/150\n",
            "32/32 [==============================] - 21s 637ms/step - loss: 2.6122 - accuracy: 0.3245 - val_loss: 3.9287 - val_accuracy: 0.1108 - lr: 0.0012\n",
            "Epoch 15/150\n",
            "32/32 [==============================] - 21s 645ms/step - loss: 2.6627 - accuracy: 0.3157 - val_loss: 3.6238 - val_accuracy: 0.1539 - lr: 0.0012\n",
            "Epoch 16/150\n",
            "32/32 [==============================] - 20s 628ms/step - loss: 2.5580 - accuracy: 0.3422 - val_loss: 3.4218 - val_accuracy: 0.1912 - lr: 0.0012\n",
            "Epoch 17/150\n",
            "32/32 [==============================] - 20s 631ms/step - loss: 2.5722 - accuracy: 0.3206 - val_loss: 3.2184 - val_accuracy: 0.2353 - lr: 0.0012\n",
            "Epoch 18/150\n",
            "32/32 [==============================] - 21s 646ms/step - loss: 2.5086 - accuracy: 0.3333 - val_loss: 3.1077 - val_accuracy: 0.2500 - lr: 0.0012\n",
            "Epoch 19/150\n",
            "32/32 [==============================] - 21s 645ms/step - loss: 2.5090 - accuracy: 0.3529 - val_loss: 3.0385 - val_accuracy: 0.2755 - lr: 0.0012\n",
            "Epoch 20/150\n",
            "32/32 [==============================] - 20s 627ms/step - loss: 2.4827 - accuracy: 0.3441 - val_loss: 3.0064 - val_accuracy: 0.2735 - lr: 0.0012\n",
            "Epoch 21/150\n",
            "32/32 [==============================] - 21s 646ms/step - loss: 2.4532 - accuracy: 0.3598 - val_loss: 2.9889 - val_accuracy: 0.2755 - lr: 0.0012\n",
            "Epoch 22/150\n",
            "32/32 [==============================] - 20s 630ms/step - loss: 2.3744 - accuracy: 0.3696 - val_loss: 2.9699 - val_accuracy: 0.2892 - lr: 0.0012\n",
            "Epoch 23/150\n",
            "32/32 [==============================] - 21s 638ms/step - loss: 2.3402 - accuracy: 0.3657 - val_loss: 2.9644 - val_accuracy: 0.2863 - lr: 0.0012\n",
            "Epoch 24/150\n",
            "32/32 [==============================] - 21s 635ms/step - loss: 2.2949 - accuracy: 0.3863 - val_loss: 2.9220 - val_accuracy: 0.2922 - lr: 0.0012\n",
            "Epoch 25/150\n",
            "32/32 [==============================] - 21s 641ms/step - loss: 2.3231 - accuracy: 0.3833 - val_loss: 2.9261 - val_accuracy: 0.3000 - lr: 0.0012\n",
            "Epoch 26/150\n",
            "32/32 [==============================] - 21s 642ms/step - loss: 2.3690 - accuracy: 0.3716 - val_loss: 2.9395 - val_accuracy: 0.2941 - lr: 0.0012\n",
            "Epoch 27/150\n",
            "32/32 [==============================] - 21s 642ms/step - loss: 2.2472 - accuracy: 0.3814 - val_loss: 2.9170 - val_accuracy: 0.2931 - lr: 0.0012\n",
            "Epoch 28/150\n",
            "32/32 [==============================] - 20s 625ms/step - loss: 2.2375 - accuracy: 0.4000 - val_loss: 2.8974 - val_accuracy: 0.3010 - lr: 0.0012\n",
            "Epoch 29/150\n",
            "32/32 [==============================] - 21s 636ms/step - loss: 2.1659 - accuracy: 0.4176 - val_loss: 2.9003 - val_accuracy: 0.2980 - lr: 0.0012\n",
            "Epoch 30/150\n",
            "32/32 [==============================] - 21s 652ms/step - loss: 2.1873 - accuracy: 0.3912 - val_loss: 2.9132 - val_accuracy: 0.3039 - lr: 0.0012\n",
            "Epoch 31/150\n",
            "32/32 [==============================] - 21s 629ms/step - loss: 2.1328 - accuracy: 0.4284 - val_loss: 2.8774 - val_accuracy: 0.3147 - lr: 0.0012\n",
            "Epoch 32/150\n",
            "32/32 [==============================] - 21s 648ms/step - loss: 2.1035 - accuracy: 0.4186 - val_loss: 2.8994 - val_accuracy: 0.3069 - lr: 0.0012\n",
            "Epoch 33/150\n",
            "32/32 [==============================] - 21s 642ms/step - loss: 2.0691 - accuracy: 0.4441 - val_loss: 2.9432 - val_accuracy: 0.3029 - lr: 0.0012\n",
            "Epoch 34/150\n",
            "32/32 [==============================] - 21s 647ms/step - loss: 2.1263 - accuracy: 0.4196 - val_loss: 2.9216 - val_accuracy: 0.3127 - lr: 0.0012\n",
            "Epoch 35/150\n",
            "32/32 [==============================] - 21s 649ms/step - loss: 1.9953 - accuracy: 0.4569 - val_loss: 2.8746 - val_accuracy: 0.3118 - lr: 6.2500e-04\n",
            "Epoch 36/150\n",
            "32/32 [==============================] - 21s 652ms/step - loss: 2.0343 - accuracy: 0.4490 - val_loss: 2.8677 - val_accuracy: 0.3176 - lr: 6.2500e-04\n",
            "Epoch 37/150\n",
            "32/32 [==============================] - 21s 654ms/step - loss: 1.9774 - accuracy: 0.4863 - val_loss: 2.8621 - val_accuracy: 0.3206 - lr: 6.2500e-04\n",
            "Epoch 38/150\n",
            "32/32 [==============================] - 21s 653ms/step - loss: 1.9124 - accuracy: 0.4775 - val_loss: 2.8577 - val_accuracy: 0.3108 - lr: 6.2500e-04\n",
            "Epoch 39/150\n",
            "32/32 [==============================] - 21s 645ms/step - loss: 2.0508 - accuracy: 0.4167 - val_loss: 2.8636 - val_accuracy: 0.3186 - lr: 6.2500e-04\n",
            "Epoch 40/150\n",
            "32/32 [==============================] - 21s 644ms/step - loss: 1.9693 - accuracy: 0.4539 - val_loss: 2.8479 - val_accuracy: 0.3186 - lr: 6.2500e-04\n",
            "Epoch 41/150\n",
            "15/32 [=============>................] - ETA: 8s - loss: 1.9920 - accuracy: 0.4521"
          ]
        }
      ],
      "source": [
        "model = make_model(input_shape=(IMAGE_RES, IMAGE_RES) + (3,), num_classes=102)\n",
        "#keras.utils.plot_model(model, show_shapes=True)\n",
        "\n",
        "epochs = 150\n",
        "\n",
        "reduce_lr = tf.keras.callbacks.ReduceLROnPlateau(monitor='val_loss', factor=0.5, patience=3, min_lr=0.000001)\n",
        "\n",
        "model.compile(\n",
        "    optimizer=tf.keras.optimizers.SGD(),\n",
        "    loss=tf.keras.losses.SparseCategoricalCrossentropy(from_logits=True),\n",
        "    metrics=[\"accuracy\"],\n",
        ")\n",
        "\n",
        "model.fit(\n",
        "    train_batches,\n",
        "    epochs=epochs,\n",
        "    validation_data=validation_batches,\n",
        "    batch_size=BATCH_SIZE,\n",
        "    validation_batch_size=BATCH_SIZE,\n",
        "    verbose=1,\n",
        "    callbacks=[reduce_lr]\n",
        ")"
      ]
    },
    {
      "cell_type": "code",
      "source": [
        "model.save('OxfordFlowers102-2.keras')"
      ],
      "metadata": {
        "id": "3tNYk4A0-VT7"
      },
      "execution_count": 15,
      "outputs": []
    },
    {
      "cell_type": "code",
      "execution_count": 8,
      "metadata": {
        "colab": {
          "base_uri": "https://localhost:8080/"
        },
        "id": "4324daheKXsn",
        "outputId": "76f52dbc-a7ed-410a-a2d2-9cf1425db1ed"
      },
      "outputs": [
        {
          "output_type": "stream",
          "name": "stdout",
          "text": [
            "193/193 [==============================] - 27s 140ms/step - loss: 3.2010 - accuracy: 0.2420\n",
            "Test accuracy: 0.2419905662536621\n"
          ]
        }
      ],
      "source": [
        "test_loss, test_acc = model.evaluate(test_batches, verbose=1, batch_size=BATCH_SIZE)\n",
        "print(\"Test accuracy:\", test_acc)"
      ]
    }
  ],
  "metadata": {
    "accelerator": "GPU",
    "colab": {
      "gpuType": "T4",
      "provenance": [],
      "include_colab_link": true
    },
    "gpuClass": "standard",
    "kernelspec": {
      "display_name": "Python 3",
      "name": "python3"
    },
    "language_info": {
      "codemirror_mode": {
        "name": "ipython",
        "version": 3
      },
      "file_extension": ".py",
      "mimetype": "text/x-python",
      "name": "python",
      "nbconvert_exporter": "python",
      "pygments_lexer": "ipython3",
      "version": "3.11.1"
    }
  },
  "nbformat": 4,
  "nbformat_minor": 0
}