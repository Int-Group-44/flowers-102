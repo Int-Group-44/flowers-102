{
  "cells": [
    {
      "cell_type": "markdown",
      "metadata": {
        "id": "view-in-github",
        "colab_type": "text"
      },
      "source": [
        "<a href=\"https://colab.research.google.com/github/Int-Group-44/flowers-102/blob/main/OxfordFlowers102CNN.ipynb\" target=\"_parent\"><img src=\"https://colab.research.google.com/assets/colab-badge.svg\" alt=\"Open In Colab\"/></a>"
      ]
    },
    {
      "cell_type": "code",
      "execution_count": 31,
      "metadata": {
        "id": "egaLH944BBD5"
      },
      "outputs": [],
      "source": [
        "import numpy as np\n",
        "import pandas as pd\n",
        "import tensorflow as tf\n",
        "from tensorflow import keras\n",
        "from keras import layers\n",
        "import tensorflow_datasets as tfds\n",
        "import matplotlib.pyplot as plt\n",
        "#device_name = tf.test.gpu_device_name()\n",
        "#if device_name != '/device:GPU:0':\n",
        "#  raise SystemError('GPU device not found')\n",
        "#print('Found GPU at: {}'.format(device_name))\n",
        "\n",
        "dataset, dataset_info = tfds.load('oxford_flowers102', with_info=True, as_supervised=True)\n",
        "dataset_info\n",
        "test_set, training_set, validation_set = dataset['test'], dataset['train'], dataset['validation']"
      ]
    },
    {
      "cell_type": "code",
      "execution_count": 32,
      "metadata": {
        "id": "H8JAGNFt3PGE",
        "colab": {
          "base_uri": "https://localhost:8080/"
        },
        "outputId": "d29f8304-c57d-4d56-b655-8650dad466b0"
      },
      "outputs": [
        {
          "output_type": "stream",
          "name": "stdout",
          "text": [
            "Physical devices cannot be modified after being initialized\n",
            "[PhysicalDevice(name='/physical_device:GPU:0', device_type='GPU')]\n"
          ]
        }
      ],
      "source": [
        "import tensorflow as tf\n",
        "tf.config.experimental.list_physical_devices('GPU')\n",
        "gpus = tf.config.experimental.list_physical_devices('GPU')\n",
        "if gpus:\n",
        "  try:\n",
        "    for gpu in gpus:\n",
        "      tf.config.experimental.set_memory_growth(gpu, True)\n",
        "  except RuntimeError as e:\n",
        "    print(e)\n",
        "\n",
        "print(gpus)"
      ]
    },
    {
      "cell_type": "markdown",
      "metadata": {
        "id": "hgSxJm7OYeKN"
      },
      "source": [
        "Importing TensorFlow "
      ]
    },
    {
      "cell_type": "code",
      "execution_count": 33,
      "metadata": {
        "id": "ql9q6LSWMZRk"
      },
      "outputs": [],
      "source": [
        "num_classes = dataset_info.features['label'].num_classes\n",
        "num_training_examples = 1020\n",
        "num_validation_examples = 1020"
      ]
    },
    {
      "cell_type": "code",
      "execution_count": 34,
      "metadata": {
        "id": "xwksk4asQhtr"
      },
      "outputs": [],
      "source": [
        "IMAGE_RES = 224\n",
        "\n",
        "def format_image(image, label):\n",
        "    image = tf.image.resize(image, (IMAGE_RES, IMAGE_RES))/255.0\n",
        "    #label = tf.one_hot(label, depth=num_classes)\n",
        "    return image, label\n",
        "BATCH_SIZE = 16\n",
        "train_batches = training_set.shuffle(num_training_examples//4).map(format_image).batch(BATCH_SIZE).prefetch(1)\n",
        "validation_batches = validation_set.shuffle(num_validation_examples//4).map(format_image).batch(BATCH_SIZE).prefetch(1)\n",
        "test_batches = test_set.map(format_image).batch(BATCH_SIZE).prefetch(1)\n"
      ]
    },
    {
      "cell_type": "code",
      "execution_count": 35,
      "metadata": {
        "id": "9WgfAXPgjFd5"
      },
      "outputs": [],
      "source": [
        "def make_model(input_shape, num_classes):\n",
        "  model = tf.keras.Sequential()\n",
        "  model.add(layers.RandomFlip(\"horizontal_and_vertical\", input_shape=input_shape))\n",
        "  model.add(layers.RandomRotation(20))\n",
        "  model.add(layers.RandomZoom(0.2))\n",
        "  model.add(layers.Conv2D(32, 3, padding='same', activation='relu'))\n",
        "  model.add(layers.BatchNormalization())\n",
        "  model.add(layers.Conv2D(32, 3, padding='same', activation='relu'))\n",
        "  model.add(layers.BatchNormalization())\n",
        "  model.add(layers.MaxPooling2D())\n",
        "  model.add(layers.Conv2D(64, 3, padding='same', activation='relu'))\n",
        "  model.add(layers.BatchNormalization())\n",
        "  model.add(layers.Conv2D(64, 3, padding='same', activation='relu'))\n",
        "  model.add(layers.BatchNormalization())\n",
        "  model.add(layers.MaxPooling2D())\n",
        "  model.add(layers.Conv2D(128, 3, padding='same', activation='relu'))\n",
        "  model.add(layers.BatchNormalization())\n",
        "  model.add(layers.Conv2D(128, 3, padding='same', activation='relu'))\n",
        "  model.add(layers.BatchNormalization())\n",
        "  model.add(layers.MaxPooling2D())\n",
        "  model.add(layers.Conv2D(256, 3, padding='same', activation='relu'))\n",
        "  model.add(layers.BatchNormalization())\n",
        "  model.add(layers.Conv2D(256, 3, padding='same', activation='relu'))\n",
        "  model.add(layers.BatchNormalization())\n",
        "  model.add(layers.MaxPooling2D())\n",
        "  model.add(layers.Conv2D(512, 3, padding='same', activation='relu'))\n",
        "  model.add(layers.BatchNormalization())\n",
        "  model.add(layers.Conv2D(512, 3, padding='same', activation='relu'))\n",
        "  model.add(layers.BatchNormalization())\n",
        "  model.add(layers.MaxPooling2D())\n",
        "  model.add(layers.Flatten())\n",
        "  model.add(layers.Dense(1024, activation='relu'))\n",
        "  model.add(layers.Dropout(0.35))\n",
        "  model.add(layers.Dense(512, activation='relu'))\n",
        "  model.add(layers.Dropout(0.35))\n",
        "  model.add(layers.Dense(256, activation='relu'))\n",
        "  model.add(layers.Dropout(0.35))\n",
        "  model.add(layers.Dense(num_classes))\n",
        "  return model\n"
      ]
    },
    {
      "cell_type": "code",
      "execution_count": 36,
      "metadata": {
        "id": "tF9v2wo9F8LW"
      },
      "outputs": [],
      "source": [
        "tf.keras.backend.clear_session()\n",
        "model = make_model(input_shape=(IMAGE_RES, IMAGE_RES) + (3,), num_classes=102)"
      ]
    },
    {
      "cell_type": "code",
      "execution_count": null,
      "metadata": {
        "id": "pumHmqXelH38",
        "colab": {
          "base_uri": "https://localhost:8080/"
        },
        "outputId": "85a87f0d-f726-4264-ecd0-1b060e56a514"
      },
      "outputs": [
        {
          "output_type": "stream",
          "name": "stdout",
          "text": [
            "Epoch 1/150\n",
            "64/64 [==============================] - 19s 148ms/step - loss: 5.6686 - accuracy: 0.0088 - val_loss: 4.6644 - val_accuracy: 0.0098\n",
            "Epoch 2/150\n",
            "64/64 [==============================] - 9s 142ms/step - loss: 4.8913 - accuracy: 0.0206 - val_loss: 4.6753 - val_accuracy: 0.0098\n",
            "Epoch 3/150\n",
            "64/64 [==============================] - 10s 157ms/step - loss: 4.7790 - accuracy: 0.0157 - val_loss: 4.6517 - val_accuracy: 0.0098\n",
            "Epoch 4/150\n",
            "64/64 [==============================] - 13s 191ms/step - loss: 4.6886 - accuracy: 0.0235 - val_loss: 4.6334 - val_accuracy: 0.0186\n",
            "Epoch 5/150\n",
            "64/64 [==============================] - 9s 143ms/step - loss: 4.6564 - accuracy: 0.0235 - val_loss: 4.5858 - val_accuracy: 0.0186\n",
            "Epoch 6/150\n",
            "64/64 [==============================] - 10s 154ms/step - loss: 4.6183 - accuracy: 0.0235 - val_loss: 4.5402 - val_accuracy: 0.0363\n",
            "Epoch 7/150\n",
            "64/64 [==============================] - 10s 154ms/step - loss: 4.5761 - accuracy: 0.0225 - val_loss: 4.5192 - val_accuracy: 0.0304\n",
            "Epoch 8/150\n",
            "64/64 [==============================] - 10s 154ms/step - loss: 4.5608 - accuracy: 0.0265 - val_loss: 4.4490 - val_accuracy: 0.0559\n",
            "Epoch 9/150\n",
            "64/64 [==============================] - 13s 192ms/step - loss: 4.5109 - accuracy: 0.0294 - val_loss: 4.3201 - val_accuracy: 0.0608\n",
            "Epoch 10/150\n",
            "64/64 [==============================] - 10s 148ms/step - loss: 4.4838 - accuracy: 0.0304 - val_loss: 4.2516 - val_accuracy: 0.0922\n",
            "Epoch 11/150\n",
            "64/64 [==============================] - 10s 143ms/step - loss: 4.4656 - accuracy: 0.0314 - val_loss: 4.1991 - val_accuracy: 0.0941\n",
            "Epoch 12/150\n",
            "64/64 [==============================] - 10s 146ms/step - loss: 4.4755 - accuracy: 0.0422 - val_loss: 4.1668 - val_accuracy: 0.1010\n",
            "Epoch 13/150\n",
            "64/64 [==============================] - 10s 147ms/step - loss: 4.3998 - accuracy: 0.0569 - val_loss: 4.1255 - val_accuracy: 0.1225\n",
            "Epoch 14/150\n",
            "64/64 [==============================] - 11s 161ms/step - loss: 4.3650 - accuracy: 0.0529 - val_loss: 4.1259 - val_accuracy: 0.0990\n",
            "Epoch 15/150\n",
            "64/64 [==============================] - 10s 146ms/step - loss: 4.3130 - accuracy: 0.0647 - val_loss: 4.0244 - val_accuracy: 0.1255\n",
            "Epoch 16/150\n",
            "64/64 [==============================] - 10s 150ms/step - loss: 4.2268 - accuracy: 0.0706 - val_loss: 3.9140 - val_accuracy: 0.1363\n",
            "Epoch 17/150\n",
            "64/64 [==============================] - 10s 153ms/step - loss: 4.1872 - accuracy: 0.0814 - val_loss: 3.9295 - val_accuracy: 0.1373\n",
            "Epoch 18/150\n",
            "64/64 [==============================] - 10s 153ms/step - loss: 4.1940 - accuracy: 0.0735 - val_loss: 3.8319 - val_accuracy: 0.1667\n",
            "Epoch 19/150\n",
            "64/64 [==============================] - 10s 152ms/step - loss: 4.1451 - accuracy: 0.0873 - val_loss: 3.7949 - val_accuracy: 0.1735\n",
            "Epoch 20/150\n",
            "64/64 [==============================] - 10s 158ms/step - loss: 4.0609 - accuracy: 0.1020 - val_loss: 3.8274 - val_accuracy: 0.1637\n",
            "Epoch 21/150\n",
            "64/64 [==============================] - 10s 145ms/step - loss: 4.0801 - accuracy: 0.0931 - val_loss: 3.7540 - val_accuracy: 0.1667\n",
            "Epoch 22/150\n",
            "64/64 [==============================] - 10s 151ms/step - loss: 3.9123 - accuracy: 0.1147 - val_loss: 3.8019 - val_accuracy: 0.1392\n",
            "Epoch 23/150\n",
            "64/64 [==============================] - 10s 152ms/step - loss: 3.9041 - accuracy: 0.1147 - val_loss: 3.6478 - val_accuracy: 0.1892\n",
            "Epoch 24/150\n",
            "64/64 [==============================] - 10s 145ms/step - loss: 3.8907 - accuracy: 0.1098 - val_loss: 3.6396 - val_accuracy: 0.1833\n",
            "Epoch 25/150\n",
            "64/64 [==============================] - 11s 162ms/step - loss: 3.8804 - accuracy: 0.1255 - val_loss: 3.5336 - val_accuracy: 0.2069\n",
            "Epoch 26/150\n",
            "64/64 [==============================] - 10s 154ms/step - loss: 3.8270 - accuracy: 0.1225 - val_loss: 3.6692 - val_accuracy: 0.1618\n",
            "Epoch 27/150\n",
            "64/64 [==============================] - 10s 152ms/step - loss: 3.7785 - accuracy: 0.1412 - val_loss: 3.5139 - val_accuracy: 0.1892\n",
            "Epoch 28/150\n",
            "64/64 [==============================] - 10s 144ms/step - loss: 3.7092 - accuracy: 0.1529 - val_loss: 3.4909 - val_accuracy: 0.2098\n",
            "Epoch 29/150\n",
            "64/64 [==============================] - 10s 153ms/step - loss: 3.7918 - accuracy: 0.1451 - val_loss: 3.5568 - val_accuracy: 0.1922\n",
            "Epoch 30/150\n",
            "64/64 [==============================] - 10s 152ms/step - loss: 3.6624 - accuracy: 0.1520 - val_loss: 3.4995 - val_accuracy: 0.2020\n",
            "Epoch 31/150\n",
            "64/64 [==============================] - 13s 191ms/step - loss: 3.6920 - accuracy: 0.1539 - val_loss: 3.3497 - val_accuracy: 0.2363\n",
            "Epoch 32/150\n",
            "64/64 [==============================] - 11s 161ms/step - loss: 3.5541 - accuracy: 0.1627 - val_loss: 3.4226 - val_accuracy: 0.2118\n",
            "Epoch 33/150\n",
            "64/64 [==============================] - 9s 143ms/step - loss: 3.6383 - accuracy: 0.1510 - val_loss: 3.3634 - val_accuracy: 0.2284\n",
            "Epoch 34/150\n",
            "64/64 [==============================] - 10s 146ms/step - loss: 3.5065 - accuracy: 0.1814 - val_loss: 3.3384 - val_accuracy: 0.2255\n",
            "Epoch 35/150\n",
            "64/64 [==============================] - 10s 146ms/step - loss: 3.4952 - accuracy: 0.1804 - val_loss: 3.2119 - val_accuracy: 0.2500\n",
            "Epoch 36/150\n",
            "64/64 [==============================] - 10s 153ms/step - loss: 3.5459 - accuracy: 0.1843 - val_loss: 3.2863 - val_accuracy: 0.2353\n",
            "Epoch 37/150\n",
            "64/64 [==============================] - 10s 156ms/step - loss: 3.4573 - accuracy: 0.2020 - val_loss: 3.3270 - val_accuracy: 0.2029\n",
            "Epoch 38/150\n",
            "64/64 [==============================] - 10s 148ms/step - loss: 3.3588 - accuracy: 0.2147 - val_loss: 3.2890 - val_accuracy: 0.2451\n",
            "Epoch 39/150\n",
            "64/64 [==============================] - 10s 145ms/step - loss: 3.3787 - accuracy: 0.2108 - val_loss: 3.2949 - val_accuracy: 0.2324\n",
            "Epoch 40/150\n",
            "64/64 [==============================] - 10s 154ms/step - loss: 3.3542 - accuracy: 0.2039 - val_loss: 3.1549 - val_accuracy: 0.2588\n",
            "Epoch 41/150\n",
            "14/64 [=====>........................] - ETA: 5s - loss: 3.5776 - accuracy: 0.1696"
          ]
        }
      ],
      "source": [
        "\n",
        "#keras.utils.plot_model(model, show_shapes=True)\n",
        "\n",
        "epochs = 150\n",
        "\n",
        "#reduce_lr = tf.keras.callbacks.ReduceLROnPlateau(monitor='val_loss', factor=0.2, patience=5, min_lr=0.0001)\n",
        "\n",
        "model.compile(\n",
        "    optimizer=tf.keras.optimizers.Adam(learning_rate=0.000075),\n",
        "    loss=tf.keras.losses.SparseCategoricalCrossentropy(from_logits=True),\n",
        "    metrics=[\"accuracy\"],\n",
        ")\n",
        "\n",
        "history = model.fit(\n",
        "    train_batches,\n",
        "    epochs=epochs,\n",
        "    validation_data=validation_batches,\n",
        "    batch_size=BATCH_SIZE,\n",
        "    validation_batch_size=BATCH_SIZE,\n",
        "    verbose=1\n",
        "    #callbacks=[reduce_lr]\n",
        ")"
      ]
    },
    {
      "cell_type": "code",
      "source": [
        "tloss1 = history.history['loss']\n",
        "vloss1 = history.history['val_loss']\n",
        "tacc1 = history.history['accuracy']\n",
        "vacc1 = history.history['val_accuracy']"
      ],
      "metadata": {
        "id": "mD33c-dQEKYM"
      },
      "execution_count": null,
      "outputs": []
    },
    {
      "cell_type": "code",
      "source": [
        "\n",
        "#keras.shutils.plot_model(model, ow_shapes=True)\n",
        "\n",
        "epochs = 125\n",
        "\n",
        "#reduce_lr = tf.keras.callbacks.ReduceLROnPlateau(monitor='val_loss', factor=0.2, patience=5, min_lr=0.0001)\n",
        "\n",
        "model.compile(\n",
        "    optimizer=tf.keras.optimizers.Adam(learning_rate=0.00005),\n",
        "    loss=tf.keras.losses.SparseCategoricalCrossentropy(from_logits=True),\n",
        "    metrics=[\"accuracy\"],\n",
        ")\n",
        "\n",
        "history = model.fit(\n",
        "    train_batches,\n",
        "    epochs=epochs,\n",
        "    validation_data=validation_batches,\n",
        "    batch_size=BATCH_SIZE,\n",
        "    validation_batch_size=BATCH_SIZE,\n",
        "    verbose=1\n",
        "    #callbacks=[reduce_lr]\n",
        ")"
      ],
      "metadata": {
        "id": "a2yLllbgBxDf"
      },
      "execution_count": null,
      "outputs": []
    },
    {
      "cell_type": "code",
      "source": [
        "tloss2 = history.history['loss']\n",
        "vloss2 = history.history['val_loss']\n",
        "tacc2 = history.history['accuracy']\n",
        "vacc2 = history.history['val_accuracy']"
      ],
      "metadata": {
        "id": "j7YNON-AElOl"
      },
      "execution_count": null,
      "outputs": []
    },
    {
      "cell_type": "code",
      "source": [
        "epochs = 100\n",
        "\n",
        "#reduce_lr = tf.keras.callbacks.ReduceLROnPlateau(monitor='val_loss', factor=0.2, patience=5, min_lr=0.0001)\n",
        "\n",
        "model.compile(\n",
        "    optimizer=tf.keras.optimizers.Adam(learning_rate=0.000025),\n",
        "    loss=tf.keras.losses.SparseCategoricalCrossentropy(from_logits=True),\n",
        "    metrics=[\"accuracy\"],\n",
        ")\n",
        "\n",
        "history = model.fit(\n",
        "    train_batches,\n",
        "    epochs=epochs,\n",
        "    validation_data=validation_batches,\n",
        "    batch_size=BATCH_SIZE,\n",
        "    validation_batch_size=BATCH_SIZE,\n",
        "    verbose=1\n",
        "    #callbacks=[reduce_lr]\n",
        ")"
      ],
      "metadata": {
        "id": "Az1HtJ3P2j1X"
      },
      "execution_count": null,
      "outputs": []
    },
    {
      "cell_type": "code",
      "source": [
        "tloss3 = history.history['loss']\n",
        "vloss3 = history.history['val_loss']\n",
        "tacc3 = history.history['accuracy']\n",
        "vacc3 = history.history['val_accuracy']"
      ],
      "metadata": {
        "id": "to1JcorF2kbG"
      },
      "execution_count": null,
      "outputs": []
    },
    {
      "cell_type": "code",
      "source": [
        "epochs = 75\n",
        "\n",
        "#reduce_lr = tf.keras.callbacks.ReduceLROnPlateau(monitor='val_loss', factor=0.2, patience=5, min_lr=0.0001)\n",
        "\n",
        "model.compile(\n",
        "    optimizer=tf.keras.optimizers.Adam(learning_rate=0.0000175),\n",
        "    loss=tf.keras.losses.SparseCategoricalCrossentropy(from_logits=True),\n",
        "    metrics=[\"accuracy\"],\n",
        ")\n",
        "\n",
        "history = model.fit(\n",
        "    train_batches,\n",
        "    epochs=epochs,\n",
        "    validation_data=validation_batches,\n",
        "    batch_size=BATCH_SIZE,\n",
        "    validation_batch_size=BATCH_SIZE,\n",
        "    verbose=1\n",
        "    #callbacks=[reduce_lr]\n",
        ")"
      ],
      "metadata": {
        "id": "2G-swkTRKl36"
      },
      "execution_count": null,
      "outputs": []
    },
    {
      "cell_type": "code",
      "source": [
        "tloss4 = history.history['loss']\n",
        "vloss4 = history.history['val_loss']\n",
        "tacc4 = history.history['accuracy']\n",
        "vacc4 = history.history['val_accuracy']"
      ],
      "metadata": {
        "id": "8OgShGvrKmKP"
      },
      "execution_count": null,
      "outputs": []
    },
    {
      "cell_type": "code",
      "source": [
        "epochs = 50\n",
        "\n",
        "#reduce_lr = tf.keras.callbacks.ReduceLROnPlateau(monitor='val_loss', factor=0.2, patience=5, min_lr=0.0001)\n",
        "\n",
        "model.compile(\n",
        "    optimizer=tf.keras.optimizers.Adam(learning_rate=0.00000875),\n",
        "    loss=tf.keras.losses.SparseCategoricalCrossentropy(from_logits=True),\n",
        "    metrics=[\"accuracy\"],\n",
        ")\n",
        "\n",
        "history = model.fit(\n",
        "    train_batches,\n",
        "    epochs=epochs,\n",
        "    validation_data=validation_batches,\n",
        "    batch_size=BATCH_SIZE,\n",
        "    validation_batch_size=BATCH_SIZE,\n",
        "    verbose=1\n",
        "    #callbacks=[reduce_lr]\n",
        ")"
      ],
      "metadata": {
        "id": "EwowWxaBKwog"
      },
      "execution_count": null,
      "outputs": []
    },
    {
      "cell_type": "code",
      "source": [
        "tloss5 = history.history['loss']\n",
        "vloss5 = history.history['val_loss']\n",
        "tacc5 = history.history['accuracy']\n",
        "vacc5 = history.history['val_accuracy']"
      ],
      "metadata": {
        "id": "wHDW4qfFK8pZ"
      },
      "execution_count": null,
      "outputs": []
    },
    {
      "cell_type": "code",
      "source": [
        "epochs = 25\n",
        "\n",
        "#reduce_lr = tf.keras.callbacks.ReduceLROnPlateau(monitor='val_loss', factor=0.2, patience=5, min_lr=0.0001)\n",
        "\n",
        "model.compile(\n",
        "    optimizer=tf.keras.optimizers.Adam(learning_rate=0.000004375),\n",
        "    loss=tf.keras.losses.SparseCategoricalCrossentropy(from_logits=True),\n",
        "    metrics=[\"accuracy\"],\n",
        ")\n",
        "\n",
        "history = model.fit(\n",
        "    train_batches,\n",
        "    epochs=epochs,\n",
        "    validation_data=validation_batches,\n",
        "    batch_size=BATCH_SIZE,\n",
        "    validation_batch_size=BATCH_SIZE,\n",
        "    verbose=1\n",
        "    #callbacks=[reduce_lr]\n",
        ")"
      ],
      "metadata": {
        "id": "5uu6MgA5K9Il"
      },
      "execution_count": null,
      "outputs": []
    },
    {
      "cell_type": "code",
      "source": [
        "tloss6 = history.history['loss']\n",
        "vloss6 = history.history['val_loss']\n",
        "tacc6 = history.history['accuracy']\n",
        "vacc6 = history.history['val_accuracy']"
      ],
      "metadata": {
        "id": "VEiA5JKbLGZp"
      },
      "execution_count": null,
      "outputs": []
    },
    {
      "cell_type": "code",
      "source": [
        "model.save('OxfordFlowers102-2.keras')"
      ],
      "metadata": {
        "id": "3tNYk4A0-VT7"
      },
      "execution_count": null,
      "outputs": []
    },
    {
      "cell_type": "code",
      "execution_count": null,
      "metadata": {
        "id": "4324daheKXsn"
      },
      "outputs": [],
      "source": [
        "test_loss, test_acc = model.evaluate(test_batches, verbose=1, batch_size=BATCH_SIZE)\n",
        "print(\"Test accuracy:\", test_acc)"
      ]
    },
    {
      "cell_type": "code",
      "source": [
        "plt.plot(tloss1 + tloss2 + tloss3 + tloss4 + tloss5 + tloss6)\n",
        "plt.ylim(0,10)\n",
        "plt.plot(vloss1 + vloss2 + vloss3 + vloss4 + vloss5 + vloss6)\n",
        "plt.title('model loss')\n",
        "plt.ylabel('loss')\n",
        "plt.xlabel('epoch')\n",
        "plt.legend(['train','val'], loc=\"upper left\")\n",
        "plt.show()"
      ],
      "metadata": {
        "id": "2iJRXw8RhICC"
      },
      "execution_count": null,
      "outputs": []
    },
    {
      "cell_type": "code",
      "source": [
        "plt.plot(tacc1 + tacc2 + tacc3 + tacc4 + tacc5 +tacc6)\n",
        "plt.plot(vacc1 + vacc2 + vacc3 + vacc4 + vacc5 +vacc6)\n",
        "plt.title('model accuracy')\n",
        "plt.ylabel('accuracy')\n",
        "plt.xlabel('epoch')\n",
        "plt.legend(['train','val'], loc=\"upper left\")\n",
        "plt.show()"
      ],
      "metadata": {
        "id": "qMzpr_SZhHbh"
      },
      "execution_count": null,
      "outputs": []
    }
  ],
  "metadata": {
    "accelerator": "GPU",
    "colab": {
      "gpuType": "T4",
      "provenance": [],
      "include_colab_link": true
    },
    "gpuClass": "standard",
    "kernelspec": {
      "display_name": "Python 3",
      "name": "python3"
    },
    "language_info": {
      "codemirror_mode": {
        "name": "ipython",
        "version": 3
      },
      "file_extension": ".py",
      "mimetype": "text/x-python",
      "name": "python",
      "nbconvert_exporter": "python",
      "pygments_lexer": "ipython3",
      "version": "3.11.1"
    }
  },
  "nbformat": 4,
  "nbformat_minor": 0
}